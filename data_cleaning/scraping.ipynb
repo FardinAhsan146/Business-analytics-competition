{
 "cells": [
  {
   "cell_type": "markdown",
   "metadata": {},
   "source": [
    "## Scraping notebook"
   ]
  },
  {
   "cell_type": "markdown",
   "metadata": {},
   "source": [
    "#### All the steps of scraping demographics data from www.zipdatamaps.com, is shown here.\n",
    "\n",
    "#### And the cleaning of the data"
   ]
  },
  {
   "cell_type": "code",
   "execution_count": 66,
   "metadata": {},
   "outputs": [],
   "source": [
    "from html_table_parser.parser import HTMLTableParser\n",
    "from pprint import pprint\n",
    "import urllib.request\n",
    "import pandas as pd\n",
    "import numpy as np\n",
    "import stringcase"
   ]
  },
  {
   "cell_type": "code",
   "execution_count": 46,
   "metadata": {},
   "outputs": [
    {
     "data": {
      "text/plain": [
       "array(['14580', '14623', '14612', '14616', '14624', '14607', '14526',\n",
       "       '14620', '14606', '14618', '14621', '14615', '14609', '14514',\n",
       "       '14472', '14619', '14559', '14617', '14611', '14626', '14450',\n",
       "       '14622', '14467', '14625', '14445', '14610'], dtype='<U11')"
      ]
     },
     "execution_count": 46,
     "metadata": {},
     "output_type": "execute_result"
    }
   ],
   "source": [
    "# zip codes needed\n",
    "zip_list = np.array([14580, 14623, 14612, 14616, 14624, 14607, 14526, 14620, 14606,\n",
    "       14618, 14621, 14615, 14609, 14514, 14472, 14619, 14559, 14617,\n",
    "       14611, 14626, 14450, 14622, 14467, 14625, 14445, 14610]).astype(str)\n",
    "      \n",
    "zip_list"
   ]
  },
  {
   "cell_type": "code",
   "execution_count": 54,
   "metadata": {},
   "outputs": [],
   "source": [
    "#Function to return a dataframe of zip data information\n",
    "def get_table(zipcode):\n",
    "    \n",
    "    url = 'https://www.zipdatamaps.com/' + zipcode\n",
    "    \n",
    " \n",
    "    agent = 'Mozilla/5.0 (Macintosh; Intel Mac OS X 10_9_3) AppleWebKit/537.36\\\n",
    "    (KHTML, like Gecko) Chrome/35.0.1916.47 Safari/537.36'\n",
    "  \n",
    "    #making request to the website\n",
    "    req = urllib.request.Request(url=url, headers={'User-Agent': agent})\n",
    "    f = urllib.request.urlopen(req)\n",
    "\n",
    " \n",
    "    # defining the html contents of a URL.\n",
    "    xhtml = f.read().decode('utf-8')\n",
    "\n",
    "    # HTMLTableParser object\n",
    "    p = HTMLTableParser()\n",
    "\n",
    "    # feeding the html contents in the\n",
    "    # HTMLTableParser object\n",
    "    p.feed(xhtml)\n",
    "\n",
    "    #returning table as a dataframe\n",
    "    return pd.DataFrame(p.tables[0])"
   ]
  },
  {
   "cell_type": "code",
   "execution_count": 140,
   "metadata": {},
   "outputs": [],
   "source": [
    "def process_df(df,zipcode):\n",
    "    #Turning the table from the website into a useable, dataframe.\n",
    "    \n",
    "    # Transposing dataframe\n",
    "    df = df.T\n",
    "    \n",
    "    #Applying processing steps\n",
    "    df.columns = [stringcase.alphanumcase(x) for x in df.iloc[0]]\n",
    "    df.drop(index=0, inplace=True)\n",
    "    df.reset_index(inplace=True, drop=True)\n",
    "    # Adding zipcode column\n",
    "    df['zipcode'] = zipcode\n",
    "    \n",
    "    return df"
   ]
  },
  {
   "cell_type": "code",
   "execution_count": 178,
   "metadata": {},
   "outputs": [],
   "source": [
    "df_list = []\n",
    "\n",
    "for x in zip_list:\n",
    "    \n",
    "    zip_table =  get_table(x)\n",
    "    df_list.append(process_df(zip_table,x))\n",
    "\n",
    "result = pd.concat(df_list)\n",
    "result.reset_index(inplace=True, drop= True)"
   ]
  },
  {
   "cell_type": "code",
   "execution_count": 179,
   "metadata": {},
   "outputs": [],
   "source": [
    "df_demographics = result[['CurrentPopulation', 'RacialMajority',\n",
    "       'PublicSchoolRacialMajority', 'UnemploymentRate',\n",
    "       'MedianHouseholdIncome', 'AverageAdjustedGrossIncome',\n",
    "       'SchoolTestPerformance', \n",
    "       'Area','zipcode']]"
   ]
  },
  {
   "cell_type": "code",
   "execution_count": 181,
   "metadata": {},
   "outputs": [
    {
     "data": {
      "text/html": [
       "<div>\n",
       "<style scoped>\n",
       "    .dataframe tbody tr th:only-of-type {\n",
       "        vertical-align: middle;\n",
       "    }\n",
       "\n",
       "    .dataframe tbody tr th {\n",
       "        vertical-align: top;\n",
       "    }\n",
       "\n",
       "    .dataframe thead th {\n",
       "        text-align: right;\n",
       "    }\n",
       "</style>\n",
       "<table border=\"1\" class=\"dataframe\">\n",
       "  <thead>\n",
       "    <tr style=\"text-align: right;\">\n",
       "      <th></th>\n",
       "      <th>zipcode</th>\n",
       "      <th>CurrentPopulation</th>\n",
       "      <th>RacialMajority</th>\n",
       "      <th>PublicSchoolRacialMajority</th>\n",
       "      <th>UnemploymentRate</th>\n",
       "      <th>MedianHouseholdIncome</th>\n",
       "      <th>AverageAdjustedGrossIncome</th>\n",
       "      <th>SchoolTestPerformance</th>\n",
       "      <th>Area</th>\n",
       "    </tr>\n",
       "  </thead>\n",
       "  <tbody>\n",
       "    <tr>\n",
       "      <th>0</th>\n",
       "      <td>14580</td>\n",
       "      <td>50587</td>\n",
       "      <td>White 90.24%</td>\n",
       "      <td>White 87.1%</td>\n",
       "      <td>5.3%</td>\n",
       "      <td>$75618</td>\n",
       "      <td>$81510</td>\n",
       "      <td>Above Average</td>\n",
       "      <td>44 Sqm.</td>\n",
       "    </tr>\n",
       "    <tr>\n",
       "      <th>1</th>\n",
       "      <td>14623</td>\n",
       "      <td>27173</td>\n",
       "      <td>White 71.17%</td>\n",
       "      <td>White 56%</td>\n",
       "      <td>5.5%</td>\n",
       "      <td>$54283</td>\n",
       "      <td>$49130</td>\n",
       "      <td>Above Average</td>\n",
       "      <td>20 Sqm.</td>\n",
       "    </tr>\n",
       "    <tr>\n",
       "      <th>2</th>\n",
       "      <td>14612</td>\n",
       "      <td>34515</td>\n",
       "      <td>White 86.99%</td>\n",
       "      <td>White 69.2%</td>\n",
       "      <td>7.3%</td>\n",
       "      <td>$62148</td>\n",
       "      <td>$61510</td>\n",
       "      <td>Average</td>\n",
       "      <td>17 Sqm.</td>\n",
       "    </tr>\n",
       "    <tr>\n",
       "      <th>3</th>\n",
       "      <td>14616</td>\n",
       "      <td>28534</td>\n",
       "      <td>White 82.2%</td>\n",
       "      <td>White 67.2%</td>\n",
       "      <td>10.8%</td>\n",
       "      <td>$55438</td>\n",
       "      <td>$46270</td>\n",
       "      <td>Above Average</td>\n",
       "      <td>6 Sqm.</td>\n",
       "    </tr>\n",
       "    <tr>\n",
       "      <th>4</th>\n",
       "      <td>14624</td>\n",
       "      <td>36296</td>\n",
       "      <td>White 81.99%</td>\n",
       "      <td>White 66.6%</td>\n",
       "      <td>6.5%</td>\n",
       "      <td>$69312</td>\n",
       "      <td>$62360</td>\n",
       "      <td>Average</td>\n",
       "      <td>28 Sqm.</td>\n",
       "    </tr>\n",
       "  </tbody>\n",
       "</table>\n",
       "</div>"
      ],
      "text/plain": [
       "  zipcode CurrentPopulation RacialMajority PublicSchoolRacialMajority  \\\n",
       "0   14580             50587   White 90.24%                White 87.1%   \n",
       "1   14623             27173   White 71.17%                  White 56%   \n",
       "2   14612             34515   White 86.99%                White 69.2%   \n",
       "3   14616             28534    White 82.2%                White 67.2%   \n",
       "4   14624             36296   White 81.99%                White 66.6%   \n",
       "\n",
       "  UnemploymentRate MedianHouseholdIncome AverageAdjustedGrossIncome  \\\n",
       "0             5.3%                $75618                     $81510   \n",
       "1             5.5%                $54283                     $49130   \n",
       "2             7.3%                $62148                     $61510   \n",
       "3            10.8%                $55438                     $46270   \n",
       "4             6.5%                $69312                     $62360   \n",
       "\n",
       "  SchoolTestPerformance     Area  \n",
       "0         Above Average  44 Sqm.  \n",
       "1         Above Average  20 Sqm.  \n",
       "2               Average  17 Sqm.  \n",
       "3         Above Average   6 Sqm.  \n",
       "4               Average  28 Sqm.  "
      ]
     },
     "execution_count": 181,
     "metadata": {},
     "output_type": "execute_result"
    }
   ],
   "source": [
    "cols = list(df_demographics.columns)\n",
    "cols = [cols[-1]] + cols[0:-1]\n",
    "df_demographics = df_demographics[cols]\n",
    "df_demographics.head()"
   ]
  },
  {
   "cell_type": "code",
   "execution_count": 183,
   "metadata": {},
   "outputs": [
    {
     "name": "stdout",
     "output_type": "stream",
     "text": [
      "<class 'pandas.core.frame.DataFrame'>\n",
      "RangeIndex: 26 entries, 0 to 25\n",
      "Data columns (total 9 columns):\n",
      " #   Column                      Non-Null Count  Dtype \n",
      "---  ------                      --------------  ----- \n",
      " 0   zipcode                     26 non-null     object\n",
      " 1   CurrentPopulation           26 non-null     object\n",
      " 2   RacialMajority              26 non-null     object\n",
      " 3   PublicSchoolRacialMajority  25 non-null     object\n",
      " 4   UnemploymentRate            26 non-null     object\n",
      " 5   MedianHouseholdIncome       26 non-null     object\n",
      " 6   AverageAdjustedGrossIncome  26 non-null     object\n",
      " 7   SchoolTestPerformance       26 non-null     object\n",
      " 8   Area                        26 non-null     object\n",
      "dtypes: object(9)\n",
      "memory usage: 2.0+ KB\n"
     ]
    }
   ],
   "source": [
    "df_demographics.info()"
   ]
  },
  {
   "cell_type": "code",
   "execution_count": null,
   "metadata": {},
   "outputs": [],
   "source": []
  }
 ],
 "metadata": {
  "kernelspec": {
   "display_name": "Python 3",
   "language": "python",
   "name": "python3"
  },
  "language_info": {
   "codemirror_mode": {
    "name": "ipython",
    "version": 3
   },
   "file_extension": ".py",
   "mimetype": "text/x-python",
   "name": "python",
   "nbconvert_exporter": "python",
   "pygments_lexer": "ipython3",
   "version": "3.8.5"
  }
 },
 "nbformat": 4,
 "nbformat_minor": 4
}
