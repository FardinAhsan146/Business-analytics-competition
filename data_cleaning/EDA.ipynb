{
 "cells": [
  {
   "cell_type": "markdown",
   "metadata": {},
   "source": [
    "# Exploratory Data Analysis, RIT Business Competition"
   ]
  },
  {
   "cell_type": "markdown",
   "metadata": {},
   "source": [
    "## Data cleaning"
   ]
  },
  {
   "cell_type": "code",
   "execution_count": 58,
   "metadata": {},
   "outputs": [],
   "source": [
    "import pandas as pd\n",
    "import folium\n",
    "pd.set_option('display.max_colwidth', None)"
   ]
  },
  {
   "cell_type": "markdown",
   "metadata": {},
   "source": [
    "### Shops data"
   ]
  },
  {
   "cell_type": "code",
   "execution_count": 2,
   "metadata": {},
   "outputs": [],
   "source": [
    "df_info = pd.read_csv(r'C:\\Users\\Fardin\\Desktop\\Projects\\rit_competition\\pharm_info.csv')"
   ]
  },
  {
   "cell_type": "code",
   "execution_count": 3,
   "metadata": {
    "scrolled": false
   },
   "outputs": [
    {
     "data": {
      "text/html": [
       "<div>\n",
       "<style scoped>\n",
       "    .dataframe tbody tr th:only-of-type {\n",
       "        vertical-align: middle;\n",
       "    }\n",
       "\n",
       "    .dataframe tbody tr th {\n",
       "        vertical-align: top;\n",
       "    }\n",
       "\n",
       "    .dataframe thead th {\n",
       "        text-align: right;\n",
       "    }\n",
       "</style>\n",
       "<table border=\"1\" class=\"dataframe\">\n",
       "  <thead>\n",
       "    <tr style=\"text-align: right;\">\n",
       "      <th></th>\n",
       "      <th>storenum</th>\n",
       "      <th>storename</th>\n",
       "      <th>telephone</th>\n",
       "      <th>address1</th>\n",
       "      <th>address2</th>\n",
       "      <th>city</th>\n",
       "      <th>state</th>\n",
       "      <th>zipcode</th>\n",
       "      <th>zipcode4</th>\n",
       "      <th>longitude</th>\n",
       "      <th>latitude</th>\n",
       "      <th>website</th>\n",
       "      <th>orgname</th>\n",
       "    </tr>\n",
       "  </thead>\n",
       "  <tbody>\n",
       "    <tr>\n",
       "      <th>0</th>\n",
       "      <td>2850.0</td>\n",
       "      <td>CVS - 1142</td>\n",
       "      <td>585-671-5665</td>\n",
       "      <td>1900 EMPIRE BOULEVARD</td>\n",
       "      <td>NaN</td>\n",
       "      <td>WEBSTER</td>\n",
       "      <td>NY</td>\n",
       "      <td>14580</td>\n",
       "      <td>1934.0</td>\n",
       "      <td>-77.501365</td>\n",
       "      <td>43.191229</td>\n",
       "      <td>HTTP://WWW.CVS.COM</td>\n",
       "      <td>CVS ALBANY LLC</td>\n",
       "    </tr>\n",
       "    <tr>\n",
       "      <th>1</th>\n",
       "      <td>2849.0</td>\n",
       "      <td>CVS - 2067</td>\n",
       "      <td>585-321-2581</td>\n",
       "      <td>2580 EAST HENRIETTA ROAD</td>\n",
       "      <td>NaN</td>\n",
       "      <td>ROCHESTER</td>\n",
       "      <td>NY</td>\n",
       "      <td>14623</td>\n",
       "      <td>4526.0</td>\n",
       "      <td>-77.606816</td>\n",
       "      <td>43.069235</td>\n",
       "      <td>HTTP://WWW.CVS.COM</td>\n",
       "      <td>CVS ALBANY LLC</td>\n",
       "    </tr>\n",
       "    <tr>\n",
       "      <th>2</th>\n",
       "      <td>2852.0</td>\n",
       "      <td>CVS - 2217</td>\n",
       "      <td>585-723-3051</td>\n",
       "      <td>878 LONG POND ROAD</td>\n",
       "      <td>NaN</td>\n",
       "      <td>GREECE</td>\n",
       "      <td>NY</td>\n",
       "      <td>14612</td>\n",
       "      <td>3049.0</td>\n",
       "      <td>-77.695905</td>\n",
       "      <td>43.238923</td>\n",
       "      <td>HTTP://WWW.CVS.COM</td>\n",
       "      <td>CVS ALBANY LLC</td>\n",
       "    </tr>\n",
       "    <tr>\n",
       "      <th>3</th>\n",
       "      <td>4603.0</td>\n",
       "      <td>CVS - 2218</td>\n",
       "      <td>585-581-5101</td>\n",
       "      <td>3750 MOUNT READ BOULEVARD</td>\n",
       "      <td>NaN</td>\n",
       "      <td>ROCHESTER</td>\n",
       "      <td>NY</td>\n",
       "      <td>14616</td>\n",
       "      <td>3436.0</td>\n",
       "      <td>-77.658331</td>\n",
       "      <td>43.227241</td>\n",
       "      <td>HTTP://WWW.CVS.COM</td>\n",
       "      <td>CVS ALBANY LLC</td>\n",
       "    </tr>\n",
       "    <tr>\n",
       "      <th>4</th>\n",
       "      <td>6057.0</td>\n",
       "      <td>CVS - 2501</td>\n",
       "      <td>585-426-2991</td>\n",
       "      <td>2709 CHILI AVENUE</td>\n",
       "      <td>NaN</td>\n",
       "      <td>ROCHESTER</td>\n",
       "      <td>NY</td>\n",
       "      <td>14624</td>\n",
       "      <td>4123.0</td>\n",
       "      <td>-77.709106</td>\n",
       "      <td>43.122328</td>\n",
       "      <td>HTTP://WWW.CVS.COM</td>\n",
       "      <td>CVS ALBANY LLC</td>\n",
       "    </tr>\n",
       "  </tbody>\n",
       "</table>\n",
       "</div>"
      ],
      "text/plain": [
       "   storenum   storename     telephone                   address1 address2  \\\n",
       "0    2850.0  CVS - 1142  585-671-5665      1900 EMPIRE BOULEVARD      NaN   \n",
       "1    2849.0  CVS - 2067  585-321-2581   2580 EAST HENRIETTA ROAD      NaN   \n",
       "2    2852.0  CVS - 2217  585-723-3051         878 LONG POND ROAD      NaN   \n",
       "3    4603.0  CVS - 2218  585-581-5101  3750 MOUNT READ BOULEVARD      NaN   \n",
       "4    6057.0  CVS - 2501  585-426-2991          2709 CHILI AVENUE      NaN   \n",
       "\n",
       "        city state  zipcode  zipcode4  longitude   latitude  \\\n",
       "0    WEBSTER    NY    14580    1934.0 -77.501365  43.191229   \n",
       "1  ROCHESTER    NY    14623    4526.0 -77.606816  43.069235   \n",
       "2     GREECE    NY    14612    3049.0 -77.695905  43.238923   \n",
       "3  ROCHESTER    NY    14616    3436.0 -77.658331  43.227241   \n",
       "4  ROCHESTER    NY    14624    4123.0 -77.709106  43.122328   \n",
       "\n",
       "              website         orgname  \n",
       "0  HTTP://WWW.CVS.COM  CVS ALBANY LLC  \n",
       "1  HTTP://WWW.CVS.COM  CVS ALBANY LLC  \n",
       "2  HTTP://WWW.CVS.COM  CVS ALBANY LLC  \n",
       "3  HTTP://WWW.CVS.COM  CVS ALBANY LLC  \n",
       "4  HTTP://WWW.CVS.COM  CVS ALBANY LLC  "
      ]
     },
     "execution_count": 3,
     "metadata": {},
     "output_type": "execute_result"
    }
   ],
   "source": [
    "df_info.head()"
   ]
  },
  {
   "cell_type": "code",
   "execution_count": 4,
   "metadata": {},
   "outputs": [],
   "source": [
    "#Dropping stores with no store numbers\n",
    "\n",
    "df_info = df_info.dropna(subset=['storenum'])"
   ]
  },
  {
   "cell_type": "code",
   "execution_count": 5,
   "metadata": {
    "scrolled": false
   },
   "outputs": [
    {
     "name": "stdout",
     "output_type": "stream",
     "text": [
      "<class 'pandas.core.frame.DataFrame'>\n",
      "Int64Index: 69 entries, 0 to 68\n",
      "Data columns (total 13 columns):\n",
      " #   Column     Non-Null Count  Dtype  \n",
      "---  ------     --------------  -----  \n",
      " 0   storenum   69 non-null     float64\n",
      " 1   storename  69 non-null     object \n",
      " 2   telephone  69 non-null     object \n",
      " 3   address1   69 non-null     object \n",
      " 4   address2   2 non-null      object \n",
      " 5   city       69 non-null     object \n",
      " 6   state      69 non-null     object \n",
      " 7   zipcode    69 non-null     int64  \n",
      " 8   zipcode4   69 non-null     float64\n",
      " 9   longitude  69 non-null     float64\n",
      " 10  latitude   69 non-null     float64\n",
      " 11  website    69 non-null     object \n",
      " 12  orgname    69 non-null     object \n",
      "dtypes: float64(4), int64(1), object(8)\n",
      "memory usage: 7.5+ KB\n"
     ]
    }
   ],
   "source": [
    "df_info.info()"
   ]
  },
  {
   "cell_type": "code",
   "execution_count": 6,
   "metadata": {},
   "outputs": [],
   "source": [
    "#Dropping columns that I don't think will be useful for data analysis\n",
    "\n",
    "df_info = df_info.drop(['telephone','address1','address2','state','website','zipcode4'],axis = 1)"
   ]
  },
  {
   "cell_type": "code",
   "execution_count": 7,
   "metadata": {
    "scrolled": true
   },
   "outputs": [
    {
     "name": "stdout",
     "output_type": "stream",
     "text": [
      "<class 'pandas.core.frame.DataFrame'>\n",
      "Int64Index: 69 entries, 0 to 68\n",
      "Data columns (total 7 columns):\n",
      " #   Column     Non-Null Count  Dtype  \n",
      "---  ------     --------------  -----  \n",
      " 0   storenum   69 non-null     float64\n",
      " 1   storename  69 non-null     object \n",
      " 2   city       69 non-null     object \n",
      " 3   zipcode    69 non-null     int64  \n",
      " 4   longitude  69 non-null     float64\n",
      " 5   latitude   69 non-null     float64\n",
      " 6   orgname    69 non-null     object \n",
      "dtypes: float64(3), int64(1), object(3)\n",
      "memory usage: 4.3+ KB\n"
     ]
    }
   ],
   "source": [
    "df_info.info()"
   ]
  },
  {
   "cell_type": "markdown",
   "metadata": {},
   "source": [
    "### Sales data"
   ]
  },
  {
   "cell_type": "code",
   "execution_count": 8,
   "metadata": {},
   "outputs": [],
   "source": [
    "df_sales = pd.read_csv(r'C:\\Users\\Fardin\\Desktop\\Projects\\rit_competition\\pharm_sales.csv')"
   ]
  },
  {
   "cell_type": "code",
   "execution_count": 9,
   "metadata": {},
   "outputs": [
    {
     "data": {
      "text/html": [
       "<div>\n",
       "<style scoped>\n",
       "    .dataframe tbody tr th:only-of-type {\n",
       "        vertical-align: middle;\n",
       "    }\n",
       "\n",
       "    .dataframe tbody tr th {\n",
       "        vertical-align: top;\n",
       "    }\n",
       "\n",
       "    .dataframe thead th {\n",
       "        text-align: right;\n",
       "    }\n",
       "</style>\n",
       "<table border=\"1\" class=\"dataframe\">\n",
       "  <thead>\n",
       "    <tr style=\"text-align: right;\">\n",
       "      <th></th>\n",
       "      <th>invnum</th>\n",
       "      <th>date</th>\n",
       "      <th>storenum</th>\n",
       "      <th>vendornum</th>\n",
       "      <th>itemnum</th>\n",
       "      <th>itemcategory</th>\n",
       "      <th>productcost</th>\n",
       "      <th>product_retail_price</th>\n",
       "      <th>units_sold</th>\n",
       "      <th>sales_num</th>\n",
       "    </tr>\n",
       "  </thead>\n",
       "  <tbody>\n",
       "    <tr>\n",
       "      <th>0</th>\n",
       "      <td>INV-31573500023</td>\n",
       "      <td>11/2/2020</td>\n",
       "      <td>3696</td>\n",
       "      <td>259.0</td>\n",
       "      <td>11777</td>\n",
       "      <td>Food and beverages</td>\n",
       "      <td>6.63</td>\n",
       "      <td>9.95</td>\n",
       "      <td>12</td>\n",
       "      <td>120.59</td>\n",
       "    </tr>\n",
       "    <tr>\n",
       "      <th>1</th>\n",
       "      <td>INV-20889900001</td>\n",
       "      <td>7/29/2019</td>\n",
       "      <td>2528</td>\n",
       "      <td>260.0</td>\n",
       "      <td>10803</td>\n",
       "      <td>Diet and nutrition items</td>\n",
       "      <td>7.35</td>\n",
       "      <td>11.03</td>\n",
       "      <td>6</td>\n",
       "      <td>74.12</td>\n",
       "    </tr>\n",
       "    <tr>\n",
       "      <th>2</th>\n",
       "      <td>INV-20842300030</td>\n",
       "      <td>7/25/2019</td>\n",
       "      <td>5501</td>\n",
       "      <td>260.0</td>\n",
       "      <td>11294</td>\n",
       "      <td>Skin care items</td>\n",
       "      <td>8.00</td>\n",
       "      <td>12.00</td>\n",
       "      <td>4</td>\n",
       "      <td>61.44</td>\n",
       "    </tr>\n",
       "    <tr>\n",
       "      <th>3</th>\n",
       "      <td>INV-28440700003</td>\n",
       "      <td>7/2/2020</td>\n",
       "      <td>5057</td>\n",
       "      <td>434.0</td>\n",
       "      <td>36301</td>\n",
       "      <td>Seasonal products</td>\n",
       "      <td>4.13</td>\n",
       "      <td>6.20</td>\n",
       "      <td>3</td>\n",
       "      <td>21.39</td>\n",
       "    </tr>\n",
       "    <tr>\n",
       "      <th>4</th>\n",
       "      <td>INV-28440700012</td>\n",
       "      <td>7/2/2020</td>\n",
       "      <td>5057</td>\n",
       "      <td>259.0</td>\n",
       "      <td>11774</td>\n",
       "      <td>Skin care items</td>\n",
       "      <td>3.07</td>\n",
       "      <td>4.61</td>\n",
       "      <td>8</td>\n",
       "      <td>36.51</td>\n",
       "    </tr>\n",
       "  </tbody>\n",
       "</table>\n",
       "</div>"
      ],
      "text/plain": [
       "            invnum       date  storenum  vendornum  itemnum  \\\n",
       "0  INV-31573500023  11/2/2020      3696      259.0    11777   \n",
       "1  INV-20889900001  7/29/2019      2528      260.0    10803   \n",
       "2  INV-20842300030  7/25/2019      5501      260.0    11294   \n",
       "3  INV-28440700003   7/2/2020      5057      434.0    36301   \n",
       "4  INV-28440700012   7/2/2020      5057      259.0    11774   \n",
       "\n",
       "               itemcategory  productcost  product_retail_price  units_sold  \\\n",
       "0        Food and beverages         6.63                  9.95          12   \n",
       "1  Diet and nutrition items         7.35                 11.03           6   \n",
       "2           Skin care items         8.00                 12.00           4   \n",
       "3         Seasonal products         4.13                  6.20           3   \n",
       "4           Skin care items         3.07                  4.61           8   \n",
       "\n",
       "   sales_num  \n",
       "0     120.59  \n",
       "1      74.12  \n",
       "2      61.44  \n",
       "3      21.39  \n",
       "4      36.51  "
      ]
     },
     "execution_count": 9,
     "metadata": {},
     "output_type": "execute_result"
    }
   ],
   "source": [
    "df_sales.head()"
   ]
  },
  {
   "cell_type": "code",
   "execution_count": 10,
   "metadata": {},
   "outputs": [
    {
     "name": "stdout",
     "output_type": "stream",
     "text": [
      "<class 'pandas.core.frame.DataFrame'>\n",
      "RangeIndex: 990746 entries, 0 to 990745\n",
      "Data columns (total 10 columns):\n",
      " #   Column                Non-Null Count   Dtype         \n",
      "---  ------                --------------   -----         \n",
      " 0   invnum                990746 non-null  object        \n",
      " 1   date                  990746 non-null  datetime64[ns]\n",
      " 2   storenum              990746 non-null  int64         \n",
      " 3   vendornum             990745 non-null  float64       \n",
      " 4   itemnum               990746 non-null  int64         \n",
      " 5   itemcategory          990746 non-null  object        \n",
      " 6   productcost           990746 non-null  float64       \n",
      " 7   product_retail_price  990746 non-null  float64       \n",
      " 8   units_sold            990746 non-null  int64         \n",
      " 9   sales_num             990745 non-null  float64       \n",
      "dtypes: datetime64[ns](1), float64(4), int64(3), object(2)\n",
      "memory usage: 75.6+ MB\n"
     ]
    }
   ],
   "source": [
    "#Changing date column to datetime object\n",
    "df_sales['date'] = pd.to_datetime(df_sales['date'])\n",
    "df_sales.info()"
   ]
  },
  {
   "cell_type": "markdown",
   "metadata": {},
   "source": [
    "### Merging the two dataframes"
   ]
  },
  {
   "cell_type": "code",
   "execution_count": 11,
   "metadata": {},
   "outputs": [],
   "source": [
    "#Merging both of them using the storenumber field as that is unique for stores.\n",
    "\n",
    "df_merged = pd.merge(df_sales, df_info, on='storenum', how='outer')"
   ]
  },
  {
   "cell_type": "code",
   "execution_count": 12,
   "metadata": {},
   "outputs": [
    {
     "data": {
      "text/html": [
       "<div>\n",
       "<style scoped>\n",
       "    .dataframe tbody tr th:only-of-type {\n",
       "        vertical-align: middle;\n",
       "    }\n",
       "\n",
       "    .dataframe tbody tr th {\n",
       "        vertical-align: top;\n",
       "    }\n",
       "\n",
       "    .dataframe thead th {\n",
       "        text-align: right;\n",
       "    }\n",
       "</style>\n",
       "<table border=\"1\" class=\"dataframe\">\n",
       "  <thead>\n",
       "    <tr style=\"text-align: right;\">\n",
       "      <th></th>\n",
       "      <th>invnum</th>\n",
       "      <th>date</th>\n",
       "      <th>storenum</th>\n",
       "      <th>vendornum</th>\n",
       "      <th>itemnum</th>\n",
       "      <th>itemcategory</th>\n",
       "      <th>productcost</th>\n",
       "      <th>product_retail_price</th>\n",
       "      <th>units_sold</th>\n",
       "      <th>sales_num</th>\n",
       "      <th>storename</th>\n",
       "      <th>city</th>\n",
       "      <th>zipcode</th>\n",
       "      <th>longitude</th>\n",
       "      <th>latitude</th>\n",
       "      <th>orgname</th>\n",
       "    </tr>\n",
       "  </thead>\n",
       "  <tbody>\n",
       "    <tr>\n",
       "      <th>990696</th>\n",
       "      <td>INV-32827900032</td>\n",
       "      <td>2020-12-18</td>\n",
       "      <td>6064</td>\n",
       "      <td>115.0</td>\n",
       "      <td>35435</td>\n",
       "      <td>OTC/VMS</td>\n",
       "      <td>8.25</td>\n",
       "      <td>12.38</td>\n",
       "      <td>6</td>\n",
       "      <td>86.91</td>\n",
       "      <td>RITE AID - 621</td>\n",
       "      <td>ROCHESTER</td>\n",
       "      <td>14609</td>\n",
       "      <td>-77.578954</td>\n",
       "      <td>43.168956</td>\n",
       "      <td>RITE AID OF NEW YORK INC</td>\n",
       "    </tr>\n",
       "    <tr>\n",
       "      <th>990697</th>\n",
       "      <td>INV-32827900061</td>\n",
       "      <td>2020-12-18</td>\n",
       "      <td>6064</td>\n",
       "      <td>260.0</td>\n",
       "      <td>5290</td>\n",
       "      <td>OTC/VMS</td>\n",
       "      <td>12.25</td>\n",
       "      <td>18.38</td>\n",
       "      <td>3</td>\n",
       "      <td>68.37</td>\n",
       "      <td>RITE AID - 621</td>\n",
       "      <td>ROCHESTER</td>\n",
       "      <td>14609</td>\n",
       "      <td>-77.578954</td>\n",
       "      <td>43.168956</td>\n",
       "      <td>RITE AID OF NEW YORK INC</td>\n",
       "    </tr>\n",
       "    <tr>\n",
       "      <th>990698</th>\n",
       "      <td>INV-33707500008</td>\n",
       "      <td>2021-01-22</td>\n",
       "      <td>6064</td>\n",
       "      <td>154.0</td>\n",
       "      <td>27629</td>\n",
       "      <td>OTC/VMS</td>\n",
       "      <td>9.09</td>\n",
       "      <td>13.64</td>\n",
       "      <td>12</td>\n",
       "      <td>216.06</td>\n",
       "      <td>RITE AID - 621</td>\n",
       "      <td>ROCHESTER</td>\n",
       "      <td>14609</td>\n",
       "      <td>-77.578954</td>\n",
       "      <td>43.168956</td>\n",
       "      <td>RITE AID OF NEW YORK INC</td>\n",
       "    </tr>\n",
       "    <tr>\n",
       "      <th>990699</th>\n",
       "      <td>INV-33707500003</td>\n",
       "      <td>2021-01-22</td>\n",
       "      <td>6064</td>\n",
       "      <td>421.0</td>\n",
       "      <td>64858</td>\n",
       "      <td>Seasonal products</td>\n",
       "      <td>25.80</td>\n",
       "      <td>38.70</td>\n",
       "      <td>2</td>\n",
       "      <td>87.46</td>\n",
       "      <td>RITE AID - 621</td>\n",
       "      <td>ROCHESTER</td>\n",
       "      <td>14609</td>\n",
       "      <td>-77.578954</td>\n",
       "      <td>43.168956</td>\n",
       "      <td>RITE AID OF NEW YORK INC</td>\n",
       "    </tr>\n",
       "    <tr>\n",
       "      <th>990700</th>\n",
       "      <td>INV-33707500013</td>\n",
       "      <td>2021-01-22</td>\n",
       "      <td>6064</td>\n",
       "      <td>259.0</td>\n",
       "      <td>43024</td>\n",
       "      <td>Skin care items</td>\n",
       "      <td>2.99</td>\n",
       "      <td>4.49</td>\n",
       "      <td>24</td>\n",
       "      <td>117.46</td>\n",
       "      <td>RITE AID - 621</td>\n",
       "      <td>ROCHESTER</td>\n",
       "      <td>14609</td>\n",
       "      <td>-77.578954</td>\n",
       "      <td>43.168956</td>\n",
       "      <td>RITE AID OF NEW YORK INC</td>\n",
       "    </tr>\n",
       "    <tr>\n",
       "      <th>990701</th>\n",
       "      <td>INV-33707500006</td>\n",
       "      <td>2021-01-22</td>\n",
       "      <td>6064</td>\n",
       "      <td>421.0</td>\n",
       "      <td>64864</td>\n",
       "      <td>Skin care items</td>\n",
       "      <td>5.33</td>\n",
       "      <td>8.00</td>\n",
       "      <td>24</td>\n",
       "      <td>199.68</td>\n",
       "      <td>RITE AID - 621</td>\n",
       "      <td>ROCHESTER</td>\n",
       "      <td>14609</td>\n",
       "      <td>-77.578954</td>\n",
       "      <td>43.168956</td>\n",
       "      <td>RITE AID OF NEW YORK INC</td>\n",
       "    </tr>\n",
       "    <tr>\n",
       "      <th>990702</th>\n",
       "      <td>INV-33707500002</td>\n",
       "      <td>2021-01-22</td>\n",
       "      <td>6064</td>\n",
       "      <td>259.0</td>\n",
       "      <td>11786</td>\n",
       "      <td>OTC/VMS</td>\n",
       "      <td>5.23</td>\n",
       "      <td>7.85</td>\n",
       "      <td>12</td>\n",
       "      <td>94.20</td>\n",
       "      <td>RITE AID - 621</td>\n",
       "      <td>ROCHESTER</td>\n",
       "      <td>14609</td>\n",
       "      <td>-77.578954</td>\n",
       "      <td>43.168956</td>\n",
       "      <td>RITE AID OF NEW YORK INC</td>\n",
       "    </tr>\n",
       "    <tr>\n",
       "      <th>990703</th>\n",
       "      <td>INV-33707500009</td>\n",
       "      <td>2021-01-22</td>\n",
       "      <td>6064</td>\n",
       "      <td>301.0</td>\n",
       "      <td>38178</td>\n",
       "      <td>Personal hygiene</td>\n",
       "      <td>19.00</td>\n",
       "      <td>28.50</td>\n",
       "      <td>6</td>\n",
       "      <td>212.04</td>\n",
       "      <td>RITE AID - 621</td>\n",
       "      <td>ROCHESTER</td>\n",
       "      <td>14609</td>\n",
       "      <td>-77.578954</td>\n",
       "      <td>43.168956</td>\n",
       "      <td>RITE AID OF NEW YORK INC</td>\n",
       "    </tr>\n",
       "    <tr>\n",
       "      <th>990704</th>\n",
       "      <td>INV-33707500005</td>\n",
       "      <td>2021-01-22</td>\n",
       "      <td>6064</td>\n",
       "      <td>421.0</td>\n",
       "      <td>64904</td>\n",
       "      <td>Personal hygiene</td>\n",
       "      <td>15.33</td>\n",
       "      <td>23.00</td>\n",
       "      <td>6</td>\n",
       "      <td>191.82</td>\n",
       "      <td>RITE AID - 621</td>\n",
       "      <td>ROCHESTER</td>\n",
       "      <td>14609</td>\n",
       "      <td>-77.578954</td>\n",
       "      <td>43.168956</td>\n",
       "      <td>RITE AID OF NEW YORK INC</td>\n",
       "    </tr>\n",
       "    <tr>\n",
       "      <th>990705</th>\n",
       "      <td>INV-33707500001</td>\n",
       "      <td>2021-01-22</td>\n",
       "      <td>6064</td>\n",
       "      <td>259.0</td>\n",
       "      <td>11788</td>\n",
       "      <td>Personal hygiene</td>\n",
       "      <td>10.45</td>\n",
       "      <td>15.68</td>\n",
       "      <td>6</td>\n",
       "      <td>115.72</td>\n",
       "      <td>RITE AID - 621</td>\n",
       "      <td>ROCHESTER</td>\n",
       "      <td>14609</td>\n",
       "      <td>-77.578954</td>\n",
       "      <td>43.168956</td>\n",
       "      <td>RITE AID OF NEW YORK INC</td>\n",
       "    </tr>\n",
       "    <tr>\n",
       "      <th>990706</th>\n",
       "      <td>INV-33707500011</td>\n",
       "      <td>2021-01-22</td>\n",
       "      <td>6064</td>\n",
       "      <td>301.0</td>\n",
       "      <td>38176</td>\n",
       "      <td>OTC/VMS</td>\n",
       "      <td>10.00</td>\n",
       "      <td>15.00</td>\n",
       "      <td>12</td>\n",
       "      <td>174.60</td>\n",
       "      <td>RITE AID - 621</td>\n",
       "      <td>ROCHESTER</td>\n",
       "      <td>14609</td>\n",
       "      <td>-77.578954</td>\n",
       "      <td>43.168956</td>\n",
       "      <td>RITE AID OF NEW YORK INC</td>\n",
       "    </tr>\n",
       "    <tr>\n",
       "      <th>990707</th>\n",
       "      <td>INV-33707500010</td>\n",
       "      <td>2021-01-22</td>\n",
       "      <td>6064</td>\n",
       "      <td>301.0</td>\n",
       "      <td>38174</td>\n",
       "      <td>Skin care items</td>\n",
       "      <td>5.42</td>\n",
       "      <td>8.13</td>\n",
       "      <td>12</td>\n",
       "      <td>105.36</td>\n",
       "      <td>RITE AID - 621</td>\n",
       "      <td>ROCHESTER</td>\n",
       "      <td>14609</td>\n",
       "      <td>-77.578954</td>\n",
       "      <td>43.168956</td>\n",
       "      <td>RITE AID OF NEW YORK INC</td>\n",
       "    </tr>\n",
       "    <tr>\n",
       "      <th>990708</th>\n",
       "      <td>INV-33707500004</td>\n",
       "      <td>2021-01-22</td>\n",
       "      <td>6064</td>\n",
       "      <td>421.0</td>\n",
       "      <td>64865</td>\n",
       "      <td>OTC/VMS</td>\n",
       "      <td>8.98</td>\n",
       "      <td>13.47</td>\n",
       "      <td>12</td>\n",
       "      <td>231.15</td>\n",
       "      <td>RITE AID - 621</td>\n",
       "      <td>ROCHESTER</td>\n",
       "      <td>14609</td>\n",
       "      <td>-77.578954</td>\n",
       "      <td>43.168956</td>\n",
       "      <td>RITE AID OF NEW YORK INC</td>\n",
       "    </tr>\n",
       "    <tr>\n",
       "      <th>990709</th>\n",
       "      <td>INV-33707500007</td>\n",
       "      <td>2021-01-22</td>\n",
       "      <td>6064</td>\n",
       "      <td>300.0</td>\n",
       "      <td>36904</td>\n",
       "      <td>Skin care items</td>\n",
       "      <td>1.80</td>\n",
       "      <td>2.70</td>\n",
       "      <td>24</td>\n",
       "      <td>92.66</td>\n",
       "      <td>RITE AID - 621</td>\n",
       "      <td>ROCHESTER</td>\n",
       "      <td>14609</td>\n",
       "      <td>-77.578954</td>\n",
       "      <td>43.168956</td>\n",
       "      <td>RITE AID OF NEW YORK INC</td>\n",
       "    </tr>\n",
       "    <tr>\n",
       "      <th>990710</th>\n",
       "      <td>INV-33707500012</td>\n",
       "      <td>2021-01-22</td>\n",
       "      <td>6064</td>\n",
       "      <td>259.0</td>\n",
       "      <td>43028</td>\n",
       "      <td>Personal hygiene</td>\n",
       "      <td>11.55</td>\n",
       "      <td>17.33</td>\n",
       "      <td>6</td>\n",
       "      <td>108.14</td>\n",
       "      <td>RITE AID - 621</td>\n",
       "      <td>ROCHESTER</td>\n",
       "      <td>14609</td>\n",
       "      <td>-77.578954</td>\n",
       "      <td>43.168956</td>\n",
       "      <td>RITE AID OF NEW YORK INC</td>\n",
       "    </tr>\n",
       "    <tr>\n",
       "      <th>990711</th>\n",
       "      <td>INV-34443700006</td>\n",
       "      <td>2021-02-19</td>\n",
       "      <td>6064</td>\n",
       "      <td>301.0</td>\n",
       "      <td>38174</td>\n",
       "      <td>Skin care items</td>\n",
       "      <td>5.42</td>\n",
       "      <td>8.13</td>\n",
       "      <td>12</td>\n",
       "      <td>102.44</td>\n",
       "      <td>RITE AID - 621</td>\n",
       "      <td>ROCHESTER</td>\n",
       "      <td>14609</td>\n",
       "      <td>-77.578954</td>\n",
       "      <td>43.168956</td>\n",
       "      <td>RITE AID OF NEW YORK INC</td>\n",
       "    </tr>\n",
       "    <tr>\n",
       "      <th>990712</th>\n",
       "      <td>INV-34443700017</td>\n",
       "      <td>2021-02-19</td>\n",
       "      <td>6064</td>\n",
       "      <td>300.0</td>\n",
       "      <td>36904</td>\n",
       "      <td>Skin care items</td>\n",
       "      <td>1.80</td>\n",
       "      <td>2.70</td>\n",
       "      <td>24</td>\n",
       "      <td>81.65</td>\n",
       "      <td>RITE AID - 621</td>\n",
       "      <td>ROCHESTER</td>\n",
       "      <td>14609</td>\n",
       "      <td>-77.578954</td>\n",
       "      <td>43.168956</td>\n",
       "      <td>RITE AID OF NEW YORK INC</td>\n",
       "    </tr>\n",
       "    <tr>\n",
       "      <th>990713</th>\n",
       "      <td>INV-34443700021</td>\n",
       "      <td>2021-02-19</td>\n",
       "      <td>6064</td>\n",
       "      <td>421.0</td>\n",
       "      <td>100413</td>\n",
       "      <td>Seasonal products</td>\n",
       "      <td>51.60</td>\n",
       "      <td>77.40</td>\n",
       "      <td>1</td>\n",
       "      <td>106.81</td>\n",
       "      <td>RITE AID - 621</td>\n",
       "      <td>ROCHESTER</td>\n",
       "      <td>14609</td>\n",
       "      <td>-77.578954</td>\n",
       "      <td>43.168956</td>\n",
       "      <td>RITE AID OF NEW YORK INC</td>\n",
       "    </tr>\n",
       "    <tr>\n",
       "      <th>990714</th>\n",
       "      <td>INV-34443700010</td>\n",
       "      <td>2021-02-19</td>\n",
       "      <td>6064</td>\n",
       "      <td>259.0</td>\n",
       "      <td>11774</td>\n",
       "      <td>Skin care items</td>\n",
       "      <td>3.07</td>\n",
       "      <td>4.61</td>\n",
       "      <td>24</td>\n",
       "      <td>105.11</td>\n",
       "      <td>RITE AID - 621</td>\n",
       "      <td>ROCHESTER</td>\n",
       "      <td>14609</td>\n",
       "      <td>-77.578954</td>\n",
       "      <td>43.168956</td>\n",
       "      <td>RITE AID OF NEW YORK INC</td>\n",
       "    </tr>\n",
       "    <tr>\n",
       "      <th>990715</th>\n",
       "      <td>INV-34443700009</td>\n",
       "      <td>2021-02-19</td>\n",
       "      <td>6064</td>\n",
       "      <td>259.0</td>\n",
       "      <td>11776</td>\n",
       "      <td>OTC/VMS</td>\n",
       "      <td>5.23</td>\n",
       "      <td>7.85</td>\n",
       "      <td>12</td>\n",
       "      <td>133.76</td>\n",
       "      <td>RITE AID - 621</td>\n",
       "      <td>ROCHESTER</td>\n",
       "      <td>14609</td>\n",
       "      <td>-77.578954</td>\n",
       "      <td>43.168956</td>\n",
       "      <td>RITE AID OF NEW YORK INC</td>\n",
       "    </tr>\n",
       "    <tr>\n",
       "      <th>990716</th>\n",
       "      <td>INV-34443700014</td>\n",
       "      <td>2021-02-19</td>\n",
       "      <td>6064</td>\n",
       "      <td>434.0</td>\n",
       "      <td>36308</td>\n",
       "      <td>Personal hygiene</td>\n",
       "      <td>7.17</td>\n",
       "      <td>10.76</td>\n",
       "      <td>6</td>\n",
       "      <td>91.03</td>\n",
       "      <td>RITE AID - 621</td>\n",
       "      <td>ROCHESTER</td>\n",
       "      <td>14609</td>\n",
       "      <td>-77.578954</td>\n",
       "      <td>43.168956</td>\n",
       "      <td>RITE AID OF NEW YORK INC</td>\n",
       "    </tr>\n",
       "    <tr>\n",
       "      <th>990717</th>\n",
       "      <td>INV-34443700002</td>\n",
       "      <td>2021-02-19</td>\n",
       "      <td>6064</td>\n",
       "      <td>65.0</td>\n",
       "      <td>27682</td>\n",
       "      <td>OTC/VMS</td>\n",
       "      <td>10.50</td>\n",
       "      <td>15.75</td>\n",
       "      <td>12</td>\n",
       "      <td>251.37</td>\n",
       "      <td>RITE AID - 621</td>\n",
       "      <td>ROCHESTER</td>\n",
       "      <td>14609</td>\n",
       "      <td>-77.578954</td>\n",
       "      <td>43.168956</td>\n",
       "      <td>RITE AID OF NEW YORK INC</td>\n",
       "    </tr>\n",
       "    <tr>\n",
       "      <th>990718</th>\n",
       "      <td>INV-34443700003</td>\n",
       "      <td>2021-02-19</td>\n",
       "      <td>6064</td>\n",
       "      <td>65.0</td>\n",
       "      <td>28279</td>\n",
       "      <td>OTC/VMS</td>\n",
       "      <td>10.50</td>\n",
       "      <td>15.75</td>\n",
       "      <td>12</td>\n",
       "      <td>211.68</td>\n",
       "      <td>RITE AID - 621</td>\n",
       "      <td>ROCHESTER</td>\n",
       "      <td>14609</td>\n",
       "      <td>-77.578954</td>\n",
       "      <td>43.168956</td>\n",
       "      <td>RITE AID OF NEW YORK INC</td>\n",
       "    </tr>\n",
       "    <tr>\n",
       "      <th>990719</th>\n",
       "      <td>INV-34443700013</td>\n",
       "      <td>2021-02-19</td>\n",
       "      <td>6064</td>\n",
       "      <td>260.0</td>\n",
       "      <td>68034</td>\n",
       "      <td>Skin care items</td>\n",
       "      <td>8.49</td>\n",
       "      <td>12.74</td>\n",
       "      <td>6</td>\n",
       "      <td>84.85</td>\n",
       "      <td>RITE AID - 621</td>\n",
       "      <td>ROCHESTER</td>\n",
       "      <td>14609</td>\n",
       "      <td>-77.578954</td>\n",
       "      <td>43.168956</td>\n",
       "      <td>RITE AID OF NEW YORK INC</td>\n",
       "    </tr>\n",
       "    <tr>\n",
       "      <th>990720</th>\n",
       "      <td>INV-34443700018</td>\n",
       "      <td>2021-02-19</td>\n",
       "      <td>6064</td>\n",
       "      <td>421.0</td>\n",
       "      <td>64858</td>\n",
       "      <td>Seasonal products</td>\n",
       "      <td>25.80</td>\n",
       "      <td>38.70</td>\n",
       "      <td>2</td>\n",
       "      <td>109.13</td>\n",
       "      <td>RITE AID - 621</td>\n",
       "      <td>ROCHESTER</td>\n",
       "      <td>14609</td>\n",
       "      <td>-77.578954</td>\n",
       "      <td>43.168956</td>\n",
       "      <td>RITE AID OF NEW YORK INC</td>\n",
       "    </tr>\n",
       "    <tr>\n",
       "      <th>990721</th>\n",
       "      <td>INV-34443700008</td>\n",
       "      <td>2021-02-19</td>\n",
       "      <td>6064</td>\n",
       "      <td>259.0</td>\n",
       "      <td>11786</td>\n",
       "      <td>OTC/VMS</td>\n",
       "      <td>5.23</td>\n",
       "      <td>7.85</td>\n",
       "      <td>12</td>\n",
       "      <td>105.50</td>\n",
       "      <td>RITE AID - 621</td>\n",
       "      <td>ROCHESTER</td>\n",
       "      <td>14609</td>\n",
       "      <td>-77.578954</td>\n",
       "      <td>43.168956</td>\n",
       "      <td>RITE AID OF NEW YORK INC</td>\n",
       "    </tr>\n",
       "    <tr>\n",
       "      <th>990722</th>\n",
       "      <td>INV-34443700004</td>\n",
       "      <td>2021-02-19</td>\n",
       "      <td>6064</td>\n",
       "      <td>85.0</td>\n",
       "      <td>86670</td>\n",
       "      <td>OTC/VMS</td>\n",
       "      <td>15.57</td>\n",
       "      <td>23.36</td>\n",
       "      <td>12</td>\n",
       "      <td>353.20</td>\n",
       "      <td>RITE AID - 621</td>\n",
       "      <td>ROCHESTER</td>\n",
       "      <td>14609</td>\n",
       "      <td>-77.578954</td>\n",
       "      <td>43.168956</td>\n",
       "      <td>RITE AID OF NEW YORK INC</td>\n",
       "    </tr>\n",
       "    <tr>\n",
       "      <th>990723</th>\n",
       "      <td>INV-34443700019</td>\n",
       "      <td>2021-02-19</td>\n",
       "      <td>6064</td>\n",
       "      <td>421.0</td>\n",
       "      <td>100423</td>\n",
       "      <td>Photos</td>\n",
       "      <td>6.00</td>\n",
       "      <td>9.00</td>\n",
       "      <td>8</td>\n",
       "      <td>104.40</td>\n",
       "      <td>RITE AID - 621</td>\n",
       "      <td>ROCHESTER</td>\n",
       "      <td>14609</td>\n",
       "      <td>-77.578954</td>\n",
       "      <td>43.168956</td>\n",
       "      <td>RITE AID OF NEW YORK INC</td>\n",
       "    </tr>\n",
       "    <tr>\n",
       "      <th>990724</th>\n",
       "      <td>INV-34443700015</td>\n",
       "      <td>2021-02-19</td>\n",
       "      <td>6064</td>\n",
       "      <td>434.0</td>\n",
       "      <td>36305</td>\n",
       "      <td>OTC/VMS</td>\n",
       "      <td>3.34</td>\n",
       "      <td>5.01</td>\n",
       "      <td>12</td>\n",
       "      <td>82.36</td>\n",
       "      <td>RITE AID - 621</td>\n",
       "      <td>ROCHESTER</td>\n",
       "      <td>14609</td>\n",
       "      <td>-77.578954</td>\n",
       "      <td>43.168956</td>\n",
       "      <td>RITE AID OF NEW YORK INC</td>\n",
       "    </tr>\n",
       "    <tr>\n",
       "      <th>990725</th>\n",
       "      <td>INV-34443700012</td>\n",
       "      <td>2021-02-19</td>\n",
       "      <td>6064</td>\n",
       "      <td>421.0</td>\n",
       "      <td>86884</td>\n",
       "      <td>Skin care items</td>\n",
       "      <td>4.78</td>\n",
       "      <td>7.17</td>\n",
       "      <td>24</td>\n",
       "      <td>230.59</td>\n",
       "      <td>RITE AID - 621</td>\n",
       "      <td>ROCHESTER</td>\n",
       "      <td>14609</td>\n",
       "      <td>-77.578954</td>\n",
       "      <td>43.168956</td>\n",
       "      <td>RITE AID OF NEW YORK INC</td>\n",
       "    </tr>\n",
       "    <tr>\n",
       "      <th>990726</th>\n",
       "      <td>INV-34443700007</td>\n",
       "      <td>2021-02-19</td>\n",
       "      <td>6064</td>\n",
       "      <td>259.0</td>\n",
       "      <td>11588</td>\n",
       "      <td>Personal hygiene</td>\n",
       "      <td>12.99</td>\n",
       "      <td>19.49</td>\n",
       "      <td>12</td>\n",
       "      <td>290.01</td>\n",
       "      <td>RITE AID - 621</td>\n",
       "      <td>ROCHESTER</td>\n",
       "      <td>14609</td>\n",
       "      <td>-77.578954</td>\n",
       "      <td>43.168956</td>\n",
       "      <td>RITE AID OF NEW YORK INC</td>\n",
       "    </tr>\n",
       "    <tr>\n",
       "      <th>990727</th>\n",
       "      <td>INV-34443700005</td>\n",
       "      <td>2021-02-19</td>\n",
       "      <td>6064</td>\n",
       "      <td>85.0</td>\n",
       "      <td>26826</td>\n",
       "      <td>OTC/VMS</td>\n",
       "      <td>15.57</td>\n",
       "      <td>23.36</td>\n",
       "      <td>12</td>\n",
       "      <td>319.56</td>\n",
       "      <td>RITE AID - 621</td>\n",
       "      <td>ROCHESTER</td>\n",
       "      <td>14609</td>\n",
       "      <td>-77.578954</td>\n",
       "      <td>43.168956</td>\n",
       "      <td>RITE AID OF NEW YORK INC</td>\n",
       "    </tr>\n",
       "    <tr>\n",
       "      <th>990728</th>\n",
       "      <td>INV-34443700020</td>\n",
       "      <td>2021-02-19</td>\n",
       "      <td>6064</td>\n",
       "      <td>85.0</td>\n",
       "      <td>86698</td>\n",
       "      <td>Skin care items</td>\n",
       "      <td>7.50</td>\n",
       "      <td>11.25</td>\n",
       "      <td>24</td>\n",
       "      <td>359.10</td>\n",
       "      <td>RITE AID - 621</td>\n",
       "      <td>ROCHESTER</td>\n",
       "      <td>14609</td>\n",
       "      <td>-77.578954</td>\n",
       "      <td>43.168956</td>\n",
       "      <td>RITE AID OF NEW YORK INC</td>\n",
       "    </tr>\n",
       "    <tr>\n",
       "      <th>990729</th>\n",
       "      <td>INV-34443700016</td>\n",
       "      <td>2021-02-19</td>\n",
       "      <td>6064</td>\n",
       "      <td>395.0</td>\n",
       "      <td>89196</td>\n",
       "      <td>OTC/VMS</td>\n",
       "      <td>11.07</td>\n",
       "      <td>16.61</td>\n",
       "      <td>12</td>\n",
       "      <td>207.29</td>\n",
       "      <td>RITE AID - 621</td>\n",
       "      <td>ROCHESTER</td>\n",
       "      <td>14609</td>\n",
       "      <td>-77.578954</td>\n",
       "      <td>43.168956</td>\n",
       "      <td>RITE AID OF NEW YORK INC</td>\n",
       "    </tr>\n",
       "    <tr>\n",
       "      <th>990730</th>\n",
       "      <td>INV-34443700011</td>\n",
       "      <td>2021-02-19</td>\n",
       "      <td>6064</td>\n",
       "      <td>260.0</td>\n",
       "      <td>43336</td>\n",
       "      <td>OTC/VMS</td>\n",
       "      <td>9.06</td>\n",
       "      <td>13.59</td>\n",
       "      <td>12</td>\n",
       "      <td>190.80</td>\n",
       "      <td>RITE AID - 621</td>\n",
       "      <td>ROCHESTER</td>\n",
       "      <td>14609</td>\n",
       "      <td>-77.578954</td>\n",
       "      <td>43.168956</td>\n",
       "      <td>RITE AID OF NEW YORK INC</td>\n",
       "    </tr>\n",
       "    <tr>\n",
       "      <th>990731</th>\n",
       "      <td>INV-34443700001</td>\n",
       "      <td>2021-02-19</td>\n",
       "      <td>6064</td>\n",
       "      <td>255.0</td>\n",
       "      <td>87026</td>\n",
       "      <td>OTC/VMS</td>\n",
       "      <td>18.50</td>\n",
       "      <td>27.75</td>\n",
       "      <td>6</td>\n",
       "      <td>174.83</td>\n",
       "      <td>RITE AID - 621</td>\n",
       "      <td>ROCHESTER</td>\n",
       "      <td>14609</td>\n",
       "      <td>-77.578954</td>\n",
       "      <td>43.168956</td>\n",
       "      <td>RITE AID OF NEW YORK INC</td>\n",
       "    </tr>\n",
       "    <tr>\n",
       "      <th>990732</th>\n",
       "      <td>INV-34968000003</td>\n",
       "      <td>2021-03-12</td>\n",
       "      <td>6064</td>\n",
       "      <td>259.0</td>\n",
       "      <td>43025</td>\n",
       "      <td>OTC/VMS</td>\n",
       "      <td>6.00</td>\n",
       "      <td>9.00</td>\n",
       "      <td>12</td>\n",
       "      <td>125.28</td>\n",
       "      <td>RITE AID - 621</td>\n",
       "      <td>ROCHESTER</td>\n",
       "      <td>14609</td>\n",
       "      <td>-77.578954</td>\n",
       "      <td>43.168956</td>\n",
       "      <td>RITE AID OF NEW YORK INC</td>\n",
       "    </tr>\n",
       "    <tr>\n",
       "      <th>990733</th>\n",
       "      <td>INV-34968000013</td>\n",
       "      <td>2021-03-12</td>\n",
       "      <td>6064</td>\n",
       "      <td>421.0</td>\n",
       "      <td>64864</td>\n",
       "      <td>Skin care items</td>\n",
       "      <td>5.33</td>\n",
       "      <td>8.00</td>\n",
       "      <td>24</td>\n",
       "      <td>238.08</td>\n",
       "      <td>RITE AID - 621</td>\n",
       "      <td>ROCHESTER</td>\n",
       "      <td>14609</td>\n",
       "      <td>-77.578954</td>\n",
       "      <td>43.168956</td>\n",
       "      <td>RITE AID OF NEW YORK INC</td>\n",
       "    </tr>\n",
       "    <tr>\n",
       "      <th>990734</th>\n",
       "      <td>INV-34968000006</td>\n",
       "      <td>2021-03-12</td>\n",
       "      <td>6064</td>\n",
       "      <td>301.0</td>\n",
       "      <td>38176</td>\n",
       "      <td>OTC/VMS</td>\n",
       "      <td>10.00</td>\n",
       "      <td>15.00</td>\n",
       "      <td>12</td>\n",
       "      <td>237.60</td>\n",
       "      <td>RITE AID - 621</td>\n",
       "      <td>ROCHESTER</td>\n",
       "      <td>14609</td>\n",
       "      <td>-77.578954</td>\n",
       "      <td>43.168956</td>\n",
       "      <td>RITE AID OF NEW YORK INC</td>\n",
       "    </tr>\n",
       "    <tr>\n",
       "      <th>990735</th>\n",
       "      <td>INV-34968000012</td>\n",
       "      <td>2021-03-12</td>\n",
       "      <td>6064</td>\n",
       "      <td>421.0</td>\n",
       "      <td>64858</td>\n",
       "      <td>Seasonal products</td>\n",
       "      <td>25.80</td>\n",
       "      <td>38.70</td>\n",
       "      <td>4</td>\n",
       "      <td>207.43</td>\n",
       "      <td>RITE AID - 621</td>\n",
       "      <td>ROCHESTER</td>\n",
       "      <td>14609</td>\n",
       "      <td>-77.578954</td>\n",
       "      <td>43.168956</td>\n",
       "      <td>RITE AID OF NEW YORK INC</td>\n",
       "    </tr>\n",
       "    <tr>\n",
       "      <th>990736</th>\n",
       "      <td>INV-34968000007</td>\n",
       "      <td>2021-03-12</td>\n",
       "      <td>6064</td>\n",
       "      <td>260.0</td>\n",
       "      <td>37996</td>\n",
       "      <td>OTC/VMS</td>\n",
       "      <td>8.25</td>\n",
       "      <td>12.38</td>\n",
       "      <td>12</td>\n",
       "      <td>153.02</td>\n",
       "      <td>RITE AID - 621</td>\n",
       "      <td>ROCHESTER</td>\n",
       "      <td>14609</td>\n",
       "      <td>-77.578954</td>\n",
       "      <td>43.168956</td>\n",
       "      <td>RITE AID OF NEW YORK INC</td>\n",
       "    </tr>\n",
       "    <tr>\n",
       "      <th>990737</th>\n",
       "      <td>INV-34968000011</td>\n",
       "      <td>2021-03-12</td>\n",
       "      <td>6064</td>\n",
       "      <td>300.0</td>\n",
       "      <td>36904</td>\n",
       "      <td>Skin care items</td>\n",
       "      <td>1.80</td>\n",
       "      <td>2.70</td>\n",
       "      <td>24</td>\n",
       "      <td>77.76</td>\n",
       "      <td>RITE AID - 621</td>\n",
       "      <td>ROCHESTER</td>\n",
       "      <td>14609</td>\n",
       "      <td>-77.578954</td>\n",
       "      <td>43.168956</td>\n",
       "      <td>RITE AID OF NEW YORK INC</td>\n",
       "    </tr>\n",
       "    <tr>\n",
       "      <th>990738</th>\n",
       "      <td>INV-34968000008</td>\n",
       "      <td>2021-03-12</td>\n",
       "      <td>6064</td>\n",
       "      <td>626.0</td>\n",
       "      <td>36873</td>\n",
       "      <td>OTC/VMS</td>\n",
       "      <td>3.33</td>\n",
       "      <td>5.00</td>\n",
       "      <td>6</td>\n",
       "      <td>34.50</td>\n",
       "      <td>RITE AID - 621</td>\n",
       "      <td>ROCHESTER</td>\n",
       "      <td>14609</td>\n",
       "      <td>-77.578954</td>\n",
       "      <td>43.168956</td>\n",
       "      <td>RITE AID OF NEW YORK INC</td>\n",
       "    </tr>\n",
       "    <tr>\n",
       "      <th>990739</th>\n",
       "      <td>INV-34968000010</td>\n",
       "      <td>2021-03-12</td>\n",
       "      <td>6064</td>\n",
       "      <td>240.0</td>\n",
       "      <td>45886</td>\n",
       "      <td>OTC/VMS</td>\n",
       "      <td>10.00</td>\n",
       "      <td>15.00</td>\n",
       "      <td>12</td>\n",
       "      <td>199.80</td>\n",
       "      <td>RITE AID - 621</td>\n",
       "      <td>ROCHESTER</td>\n",
       "      <td>14609</td>\n",
       "      <td>-77.578954</td>\n",
       "      <td>43.168956</td>\n",
       "      <td>RITE AID OF NEW YORK INC</td>\n",
       "    </tr>\n",
       "    <tr>\n",
       "      <th>990740</th>\n",
       "      <td>INV-34968000005</td>\n",
       "      <td>2021-03-12</td>\n",
       "      <td>6064</td>\n",
       "      <td>301.0</td>\n",
       "      <td>38174</td>\n",
       "      <td>Skin care items</td>\n",
       "      <td>5.42</td>\n",
       "      <td>8.13</td>\n",
       "      <td>12</td>\n",
       "      <td>112.19</td>\n",
       "      <td>RITE AID - 621</td>\n",
       "      <td>ROCHESTER</td>\n",
       "      <td>14609</td>\n",
       "      <td>-77.578954</td>\n",
       "      <td>43.168956</td>\n",
       "      <td>RITE AID OF NEW YORK INC</td>\n",
       "    </tr>\n",
       "    <tr>\n",
       "      <th>990741</th>\n",
       "      <td>INV-34968000002</td>\n",
       "      <td>2021-03-12</td>\n",
       "      <td>6064</td>\n",
       "      <td>260.0</td>\n",
       "      <td>10807</td>\n",
       "      <td>OTC/VMS</td>\n",
       "      <td>16.59</td>\n",
       "      <td>24.89</td>\n",
       "      <td>12</td>\n",
       "      <td>427.11</td>\n",
       "      <td>RITE AID - 621</td>\n",
       "      <td>ROCHESTER</td>\n",
       "      <td>14609</td>\n",
       "      <td>-77.578954</td>\n",
       "      <td>43.168956</td>\n",
       "      <td>RITE AID OF NEW YORK INC</td>\n",
       "    </tr>\n",
       "    <tr>\n",
       "      <th>990742</th>\n",
       "      <td>INV-34968000014</td>\n",
       "      <td>2021-03-12</td>\n",
       "      <td>6064</td>\n",
       "      <td>421.0</td>\n",
       "      <td>64865</td>\n",
       "      <td>OTC/VMS</td>\n",
       "      <td>8.98</td>\n",
       "      <td>13.47</td>\n",
       "      <td>12</td>\n",
       "      <td>171.34</td>\n",
       "      <td>RITE AID - 621</td>\n",
       "      <td>ROCHESTER</td>\n",
       "      <td>14609</td>\n",
       "      <td>-77.578954</td>\n",
       "      <td>43.168956</td>\n",
       "      <td>RITE AID OF NEW YORK INC</td>\n",
       "    </tr>\n",
       "    <tr>\n",
       "      <th>990743</th>\n",
       "      <td>INV-34968000009</td>\n",
       "      <td>2021-03-12</td>\n",
       "      <td>6064</td>\n",
       "      <td>260.0</td>\n",
       "      <td>11294</td>\n",
       "      <td>Skin care items</td>\n",
       "      <td>8.00</td>\n",
       "      <td>12.00</td>\n",
       "      <td>24</td>\n",
       "      <td>397.44</td>\n",
       "      <td>RITE AID - 621</td>\n",
       "      <td>ROCHESTER</td>\n",
       "      <td>14609</td>\n",
       "      <td>-77.578954</td>\n",
       "      <td>43.168956</td>\n",
       "      <td>RITE AID OF NEW YORK INC</td>\n",
       "    </tr>\n",
       "    <tr>\n",
       "      <th>990744</th>\n",
       "      <td>INV-34968000001</td>\n",
       "      <td>2021-03-12</td>\n",
       "      <td>6064</td>\n",
       "      <td>260.0</td>\n",
       "      <td>10802</td>\n",
       "      <td>OTC/VMS</td>\n",
       "      <td>16.59</td>\n",
       "      <td>24.89</td>\n",
       "      <td>12</td>\n",
       "      <td>301.67</td>\n",
       "      <td>RITE AID - 621</td>\n",
       "      <td>ROCHESTER</td>\n",
       "      <td>14609</td>\n",
       "      <td>-77.578954</td>\n",
       "      <td>43.168956</td>\n",
       "      <td>RITE AID OF NEW YORK INC</td>\n",
       "    </tr>\n",
       "    <tr>\n",
       "      <th>990745</th>\n",
       "      <td>INV-34968000004</td>\n",
       "      <td>2021-03-12</td>\n",
       "      <td>6064</td>\n",
       "      <td>259.0</td>\n",
       "      <td>43028</td>\n",
       "      <td>Personal hygiene</td>\n",
       "      <td>11.55</td>\n",
       "      <td>17.33</td>\n",
       "      <td>6</td>\n",
       "      <td>135.17</td>\n",
       "      <td>RITE AID - 621</td>\n",
       "      <td>ROCHESTER</td>\n",
       "      <td>14609</td>\n",
       "      <td>-77.578954</td>\n",
       "      <td>43.168956</td>\n",
       "      <td>RITE AID OF NEW YORK INC</td>\n",
       "    </tr>\n",
       "  </tbody>\n",
       "</table>\n",
       "</div>"
      ],
      "text/plain": [
       "                 invnum       date  storenum  vendornum  itemnum  \\\n",
       "990696  INV-32827900032 2020-12-18      6064      115.0    35435   \n",
       "990697  INV-32827900061 2020-12-18      6064      260.0     5290   \n",
       "990698  INV-33707500008 2021-01-22      6064      154.0    27629   \n",
       "990699  INV-33707500003 2021-01-22      6064      421.0    64858   \n",
       "990700  INV-33707500013 2021-01-22      6064      259.0    43024   \n",
       "990701  INV-33707500006 2021-01-22      6064      421.0    64864   \n",
       "990702  INV-33707500002 2021-01-22      6064      259.0    11786   \n",
       "990703  INV-33707500009 2021-01-22      6064      301.0    38178   \n",
       "990704  INV-33707500005 2021-01-22      6064      421.0    64904   \n",
       "990705  INV-33707500001 2021-01-22      6064      259.0    11788   \n",
       "990706  INV-33707500011 2021-01-22      6064      301.0    38176   \n",
       "990707  INV-33707500010 2021-01-22      6064      301.0    38174   \n",
       "990708  INV-33707500004 2021-01-22      6064      421.0    64865   \n",
       "990709  INV-33707500007 2021-01-22      6064      300.0    36904   \n",
       "990710  INV-33707500012 2021-01-22      6064      259.0    43028   \n",
       "990711  INV-34443700006 2021-02-19      6064      301.0    38174   \n",
       "990712  INV-34443700017 2021-02-19      6064      300.0    36904   \n",
       "990713  INV-34443700021 2021-02-19      6064      421.0   100413   \n",
       "990714  INV-34443700010 2021-02-19      6064      259.0    11774   \n",
       "990715  INV-34443700009 2021-02-19      6064      259.0    11776   \n",
       "990716  INV-34443700014 2021-02-19      6064      434.0    36308   \n",
       "990717  INV-34443700002 2021-02-19      6064       65.0    27682   \n",
       "990718  INV-34443700003 2021-02-19      6064       65.0    28279   \n",
       "990719  INV-34443700013 2021-02-19      6064      260.0    68034   \n",
       "990720  INV-34443700018 2021-02-19      6064      421.0    64858   \n",
       "990721  INV-34443700008 2021-02-19      6064      259.0    11786   \n",
       "990722  INV-34443700004 2021-02-19      6064       85.0    86670   \n",
       "990723  INV-34443700019 2021-02-19      6064      421.0   100423   \n",
       "990724  INV-34443700015 2021-02-19      6064      434.0    36305   \n",
       "990725  INV-34443700012 2021-02-19      6064      421.0    86884   \n",
       "990726  INV-34443700007 2021-02-19      6064      259.0    11588   \n",
       "990727  INV-34443700005 2021-02-19      6064       85.0    26826   \n",
       "990728  INV-34443700020 2021-02-19      6064       85.0    86698   \n",
       "990729  INV-34443700016 2021-02-19      6064      395.0    89196   \n",
       "990730  INV-34443700011 2021-02-19      6064      260.0    43336   \n",
       "990731  INV-34443700001 2021-02-19      6064      255.0    87026   \n",
       "990732  INV-34968000003 2021-03-12      6064      259.0    43025   \n",
       "990733  INV-34968000013 2021-03-12      6064      421.0    64864   \n",
       "990734  INV-34968000006 2021-03-12      6064      301.0    38176   \n",
       "990735  INV-34968000012 2021-03-12      6064      421.0    64858   \n",
       "990736  INV-34968000007 2021-03-12      6064      260.0    37996   \n",
       "990737  INV-34968000011 2021-03-12      6064      300.0    36904   \n",
       "990738  INV-34968000008 2021-03-12      6064      626.0    36873   \n",
       "990739  INV-34968000010 2021-03-12      6064      240.0    45886   \n",
       "990740  INV-34968000005 2021-03-12      6064      301.0    38174   \n",
       "990741  INV-34968000002 2021-03-12      6064      260.0    10807   \n",
       "990742  INV-34968000014 2021-03-12      6064      421.0    64865   \n",
       "990743  INV-34968000009 2021-03-12      6064      260.0    11294   \n",
       "990744  INV-34968000001 2021-03-12      6064      260.0    10802   \n",
       "990745  INV-34968000004 2021-03-12      6064      259.0    43028   \n",
       "\n",
       "             itemcategory  productcost  product_retail_price  units_sold  \\\n",
       "990696            OTC/VMS         8.25                 12.38           6   \n",
       "990697            OTC/VMS        12.25                 18.38           3   \n",
       "990698            OTC/VMS         9.09                 13.64          12   \n",
       "990699  Seasonal products        25.80                 38.70           2   \n",
       "990700    Skin care items         2.99                  4.49          24   \n",
       "990701    Skin care items         5.33                  8.00          24   \n",
       "990702            OTC/VMS         5.23                  7.85          12   \n",
       "990703   Personal hygiene        19.00                 28.50           6   \n",
       "990704   Personal hygiene        15.33                 23.00           6   \n",
       "990705   Personal hygiene        10.45                 15.68           6   \n",
       "990706            OTC/VMS        10.00                 15.00          12   \n",
       "990707    Skin care items         5.42                  8.13          12   \n",
       "990708            OTC/VMS         8.98                 13.47          12   \n",
       "990709    Skin care items         1.80                  2.70          24   \n",
       "990710   Personal hygiene        11.55                 17.33           6   \n",
       "990711    Skin care items         5.42                  8.13          12   \n",
       "990712    Skin care items         1.80                  2.70          24   \n",
       "990713  Seasonal products        51.60                 77.40           1   \n",
       "990714    Skin care items         3.07                  4.61          24   \n",
       "990715            OTC/VMS         5.23                  7.85          12   \n",
       "990716   Personal hygiene         7.17                 10.76           6   \n",
       "990717            OTC/VMS        10.50                 15.75          12   \n",
       "990718            OTC/VMS        10.50                 15.75          12   \n",
       "990719    Skin care items         8.49                 12.74           6   \n",
       "990720  Seasonal products        25.80                 38.70           2   \n",
       "990721            OTC/VMS         5.23                  7.85          12   \n",
       "990722            OTC/VMS        15.57                 23.36          12   \n",
       "990723             Photos         6.00                  9.00           8   \n",
       "990724            OTC/VMS         3.34                  5.01          12   \n",
       "990725    Skin care items         4.78                  7.17          24   \n",
       "990726   Personal hygiene        12.99                 19.49          12   \n",
       "990727            OTC/VMS        15.57                 23.36          12   \n",
       "990728    Skin care items         7.50                 11.25          24   \n",
       "990729            OTC/VMS        11.07                 16.61          12   \n",
       "990730            OTC/VMS         9.06                 13.59          12   \n",
       "990731            OTC/VMS        18.50                 27.75           6   \n",
       "990732            OTC/VMS         6.00                  9.00          12   \n",
       "990733    Skin care items         5.33                  8.00          24   \n",
       "990734            OTC/VMS        10.00                 15.00          12   \n",
       "990735  Seasonal products        25.80                 38.70           4   \n",
       "990736            OTC/VMS         8.25                 12.38          12   \n",
       "990737    Skin care items         1.80                  2.70          24   \n",
       "990738            OTC/VMS         3.33                  5.00           6   \n",
       "990739            OTC/VMS        10.00                 15.00          12   \n",
       "990740    Skin care items         5.42                  8.13          12   \n",
       "990741            OTC/VMS        16.59                 24.89          12   \n",
       "990742            OTC/VMS         8.98                 13.47          12   \n",
       "990743    Skin care items         8.00                 12.00          24   \n",
       "990744            OTC/VMS        16.59                 24.89          12   \n",
       "990745   Personal hygiene        11.55                 17.33           6   \n",
       "\n",
       "        sales_num       storename       city  zipcode  longitude   latitude  \\\n",
       "990696      86.91  RITE AID - 621  ROCHESTER    14609 -77.578954  43.168956   \n",
       "990697      68.37  RITE AID - 621  ROCHESTER    14609 -77.578954  43.168956   \n",
       "990698     216.06  RITE AID - 621  ROCHESTER    14609 -77.578954  43.168956   \n",
       "990699      87.46  RITE AID - 621  ROCHESTER    14609 -77.578954  43.168956   \n",
       "990700     117.46  RITE AID - 621  ROCHESTER    14609 -77.578954  43.168956   \n",
       "990701     199.68  RITE AID - 621  ROCHESTER    14609 -77.578954  43.168956   \n",
       "990702      94.20  RITE AID - 621  ROCHESTER    14609 -77.578954  43.168956   \n",
       "990703     212.04  RITE AID - 621  ROCHESTER    14609 -77.578954  43.168956   \n",
       "990704     191.82  RITE AID - 621  ROCHESTER    14609 -77.578954  43.168956   \n",
       "990705     115.72  RITE AID - 621  ROCHESTER    14609 -77.578954  43.168956   \n",
       "990706     174.60  RITE AID - 621  ROCHESTER    14609 -77.578954  43.168956   \n",
       "990707     105.36  RITE AID - 621  ROCHESTER    14609 -77.578954  43.168956   \n",
       "990708     231.15  RITE AID - 621  ROCHESTER    14609 -77.578954  43.168956   \n",
       "990709      92.66  RITE AID - 621  ROCHESTER    14609 -77.578954  43.168956   \n",
       "990710     108.14  RITE AID - 621  ROCHESTER    14609 -77.578954  43.168956   \n",
       "990711     102.44  RITE AID - 621  ROCHESTER    14609 -77.578954  43.168956   \n",
       "990712      81.65  RITE AID - 621  ROCHESTER    14609 -77.578954  43.168956   \n",
       "990713     106.81  RITE AID - 621  ROCHESTER    14609 -77.578954  43.168956   \n",
       "990714     105.11  RITE AID - 621  ROCHESTER    14609 -77.578954  43.168956   \n",
       "990715     133.76  RITE AID - 621  ROCHESTER    14609 -77.578954  43.168956   \n",
       "990716      91.03  RITE AID - 621  ROCHESTER    14609 -77.578954  43.168956   \n",
       "990717     251.37  RITE AID - 621  ROCHESTER    14609 -77.578954  43.168956   \n",
       "990718     211.68  RITE AID - 621  ROCHESTER    14609 -77.578954  43.168956   \n",
       "990719      84.85  RITE AID - 621  ROCHESTER    14609 -77.578954  43.168956   \n",
       "990720     109.13  RITE AID - 621  ROCHESTER    14609 -77.578954  43.168956   \n",
       "990721     105.50  RITE AID - 621  ROCHESTER    14609 -77.578954  43.168956   \n",
       "990722     353.20  RITE AID - 621  ROCHESTER    14609 -77.578954  43.168956   \n",
       "990723     104.40  RITE AID - 621  ROCHESTER    14609 -77.578954  43.168956   \n",
       "990724      82.36  RITE AID - 621  ROCHESTER    14609 -77.578954  43.168956   \n",
       "990725     230.59  RITE AID - 621  ROCHESTER    14609 -77.578954  43.168956   \n",
       "990726     290.01  RITE AID - 621  ROCHESTER    14609 -77.578954  43.168956   \n",
       "990727     319.56  RITE AID - 621  ROCHESTER    14609 -77.578954  43.168956   \n",
       "990728     359.10  RITE AID - 621  ROCHESTER    14609 -77.578954  43.168956   \n",
       "990729     207.29  RITE AID - 621  ROCHESTER    14609 -77.578954  43.168956   \n",
       "990730     190.80  RITE AID - 621  ROCHESTER    14609 -77.578954  43.168956   \n",
       "990731     174.83  RITE AID - 621  ROCHESTER    14609 -77.578954  43.168956   \n",
       "990732     125.28  RITE AID - 621  ROCHESTER    14609 -77.578954  43.168956   \n",
       "990733     238.08  RITE AID - 621  ROCHESTER    14609 -77.578954  43.168956   \n",
       "990734     237.60  RITE AID - 621  ROCHESTER    14609 -77.578954  43.168956   \n",
       "990735     207.43  RITE AID - 621  ROCHESTER    14609 -77.578954  43.168956   \n",
       "990736     153.02  RITE AID - 621  ROCHESTER    14609 -77.578954  43.168956   \n",
       "990737      77.76  RITE AID - 621  ROCHESTER    14609 -77.578954  43.168956   \n",
       "990738      34.50  RITE AID - 621  ROCHESTER    14609 -77.578954  43.168956   \n",
       "990739     199.80  RITE AID - 621  ROCHESTER    14609 -77.578954  43.168956   \n",
       "990740     112.19  RITE AID - 621  ROCHESTER    14609 -77.578954  43.168956   \n",
       "990741     427.11  RITE AID - 621  ROCHESTER    14609 -77.578954  43.168956   \n",
       "990742     171.34  RITE AID - 621  ROCHESTER    14609 -77.578954  43.168956   \n",
       "990743     397.44  RITE AID - 621  ROCHESTER    14609 -77.578954  43.168956   \n",
       "990744     301.67  RITE AID - 621  ROCHESTER    14609 -77.578954  43.168956   \n",
       "990745     135.17  RITE AID - 621  ROCHESTER    14609 -77.578954  43.168956   \n",
       "\n",
       "                         orgname  \n",
       "990696  RITE AID OF NEW YORK INC  \n",
       "990697  RITE AID OF NEW YORK INC  \n",
       "990698  RITE AID OF NEW YORK INC  \n",
       "990699  RITE AID OF NEW YORK INC  \n",
       "990700  RITE AID OF NEW YORK INC  \n",
       "990701  RITE AID OF NEW YORK INC  \n",
       "990702  RITE AID OF NEW YORK INC  \n",
       "990703  RITE AID OF NEW YORK INC  \n",
       "990704  RITE AID OF NEW YORK INC  \n",
       "990705  RITE AID OF NEW YORK INC  \n",
       "990706  RITE AID OF NEW YORK INC  \n",
       "990707  RITE AID OF NEW YORK INC  \n",
       "990708  RITE AID OF NEW YORK INC  \n",
       "990709  RITE AID OF NEW YORK INC  \n",
       "990710  RITE AID OF NEW YORK INC  \n",
       "990711  RITE AID OF NEW YORK INC  \n",
       "990712  RITE AID OF NEW YORK INC  \n",
       "990713  RITE AID OF NEW YORK INC  \n",
       "990714  RITE AID OF NEW YORK INC  \n",
       "990715  RITE AID OF NEW YORK INC  \n",
       "990716  RITE AID OF NEW YORK INC  \n",
       "990717  RITE AID OF NEW YORK INC  \n",
       "990718  RITE AID OF NEW YORK INC  \n",
       "990719  RITE AID OF NEW YORK INC  \n",
       "990720  RITE AID OF NEW YORK INC  \n",
       "990721  RITE AID OF NEW YORK INC  \n",
       "990722  RITE AID OF NEW YORK INC  \n",
       "990723  RITE AID OF NEW YORK INC  \n",
       "990724  RITE AID OF NEW YORK INC  \n",
       "990725  RITE AID OF NEW YORK INC  \n",
       "990726  RITE AID OF NEW YORK INC  \n",
       "990727  RITE AID OF NEW YORK INC  \n",
       "990728  RITE AID OF NEW YORK INC  \n",
       "990729  RITE AID OF NEW YORK INC  \n",
       "990730  RITE AID OF NEW YORK INC  \n",
       "990731  RITE AID OF NEW YORK INC  \n",
       "990732  RITE AID OF NEW YORK INC  \n",
       "990733  RITE AID OF NEW YORK INC  \n",
       "990734  RITE AID OF NEW YORK INC  \n",
       "990735  RITE AID OF NEW YORK INC  \n",
       "990736  RITE AID OF NEW YORK INC  \n",
       "990737  RITE AID OF NEW YORK INC  \n",
       "990738  RITE AID OF NEW YORK INC  \n",
       "990739  RITE AID OF NEW YORK INC  \n",
       "990740  RITE AID OF NEW YORK INC  \n",
       "990741  RITE AID OF NEW YORK INC  \n",
       "990742  RITE AID OF NEW YORK INC  \n",
       "990743  RITE AID OF NEW YORK INC  \n",
       "990744  RITE AID OF NEW YORK INC  \n",
       "990745  RITE AID OF NEW YORK INC  "
      ]
     },
     "execution_count": 12,
     "metadata": {},
     "output_type": "execute_result"
    }
   ],
   "source": [
    "df_merged.tail(50)"
   ]
  },
  {
   "cell_type": "markdown",
   "metadata": {},
   "source": [
    "#### Renaming columns"
   ]
  },
  {
   "cell_type": "code",
   "execution_count": 13,
   "metadata": {},
   "outputs": [],
   "source": [
    "df_merged = df_merged.rename(columns = {'sales_num':'revenue_original'})"
   ]
  },
  {
   "cell_type": "code",
   "execution_count": 14,
   "metadata": {},
   "outputs": [
    {
     "name": "stdout",
     "output_type": "stream",
     "text": [
      "<class 'pandas.core.frame.DataFrame'>\n",
      "Int64Index: 990746 entries, 0 to 990745\n",
      "Data columns (total 16 columns):\n",
      " #   Column                Non-Null Count   Dtype         \n",
      "---  ------                --------------   -----         \n",
      " 0   invnum                990746 non-null  object        \n",
      " 1   date                  990746 non-null  datetime64[ns]\n",
      " 2   storenum              990746 non-null  int64         \n",
      " 3   vendornum             990745 non-null  float64       \n",
      " 4   itemnum               990746 non-null  int64         \n",
      " 5   itemcategory          990746 non-null  object        \n",
      " 6   productcost           990746 non-null  float64       \n",
      " 7   product_retail_price  990746 non-null  float64       \n",
      " 8   units_sold            990746 non-null  int64         \n",
      " 9   revenue_original      990745 non-null  float64       \n",
      " 10  storename             990746 non-null  object        \n",
      " 11  city                  990746 non-null  object        \n",
      " 12  zipcode               990746 non-null  int64         \n",
      " 13  longitude             990746 non-null  float64       \n",
      " 14  latitude              990746 non-null  float64       \n",
      " 15  orgname               990746 non-null  object        \n",
      "dtypes: datetime64[ns](1), float64(6), int64(4), object(5)\n",
      "memory usage: 128.5+ MB\n"
     ]
    }
   ],
   "source": [
    "df_merged.info()"
   ]
  },
  {
   "cell_type": "code",
   "execution_count": 15,
   "metadata": {
    "scrolled": true
   },
   "outputs": [],
   "source": [
    "# Dropping nulls\n",
    "df_merged = df_merged.dropna()\n",
    "\n",
    "df_merged = df_merged.reset_index(drop=True)"
   ]
  },
  {
   "cell_type": "markdown",
   "metadata": {},
   "source": [
    "### Adding new fields"
   ]
  },
  {
   "cell_type": "code",
   "execution_count": 16,
   "metadata": {},
   "outputs": [
    {
     "data": {
      "text/html": [
       "<div>\n",
       "<style scoped>\n",
       "    .dataframe tbody tr th:only-of-type {\n",
       "        vertical-align: middle;\n",
       "    }\n",
       "\n",
       "    .dataframe tbody tr th {\n",
       "        vertical-align: top;\n",
       "    }\n",
       "\n",
       "    .dataframe thead th {\n",
       "        text-align: right;\n",
       "    }\n",
       "</style>\n",
       "<table border=\"1\" class=\"dataframe\">\n",
       "  <thead>\n",
       "    <tr style=\"text-align: right;\">\n",
       "      <th></th>\n",
       "      <th>invnum</th>\n",
       "      <th>date</th>\n",
       "      <th>storenum</th>\n",
       "      <th>vendornum</th>\n",
       "      <th>itemnum</th>\n",
       "      <th>itemcategory</th>\n",
       "      <th>productcost</th>\n",
       "      <th>product_retail_price</th>\n",
       "      <th>units_sold</th>\n",
       "      <th>revenue_original</th>\n",
       "      <th>storename</th>\n",
       "      <th>city</th>\n",
       "      <th>zipcode</th>\n",
       "      <th>longitude</th>\n",
       "      <th>latitude</th>\n",
       "      <th>orgname</th>\n",
       "      <th>total_cost</th>\n",
       "      <th>profit</th>\n",
       "      <th>margin</th>\n",
       "    </tr>\n",
       "  </thead>\n",
       "  <tbody>\n",
       "    <tr>\n",
       "      <th>0</th>\n",
       "      <td>INV-31573500023</td>\n",
       "      <td>2020-11-02</td>\n",
       "      <td>3696</td>\n",
       "      <td>259.0</td>\n",
       "      <td>11777</td>\n",
       "      <td>Food and beverages</td>\n",
       "      <td>6.63</td>\n",
       "      <td>9.95</td>\n",
       "      <td>12</td>\n",
       "      <td>120.59</td>\n",
       "      <td>WAL-MART - 1610</td>\n",
       "      <td>GREECE</td>\n",
       "      <td>14626</td>\n",
       "      <td>-77.724197</td>\n",
       "      <td>43.214602</td>\n",
       "      <td>WAL-MART STORES EAST LP</td>\n",
       "      <td>79.56</td>\n",
       "      <td>41.03</td>\n",
       "      <td>3.32</td>\n",
       "    </tr>\n",
       "    <tr>\n",
       "      <th>1</th>\n",
       "      <td>INV-20309800006</td>\n",
       "      <td>2019-07-01</td>\n",
       "      <td>3696</td>\n",
       "      <td>260.0</td>\n",
       "      <td>25608</td>\n",
       "      <td>Personal hygiene</td>\n",
       "      <td>12.96</td>\n",
       "      <td>19.44</td>\n",
       "      <td>6</td>\n",
       "      <td>118.97</td>\n",
       "      <td>WAL-MART - 1610</td>\n",
       "      <td>GREECE</td>\n",
       "      <td>14626</td>\n",
       "      <td>-77.724197</td>\n",
       "      <td>43.214602</td>\n",
       "      <td>WAL-MART STORES EAST LP</td>\n",
       "      <td>77.76</td>\n",
       "      <td>41.21</td>\n",
       "      <td>6.48</td>\n",
       "    </tr>\n",
       "    <tr>\n",
       "      <th>2</th>\n",
       "      <td>INV-20890000006</td>\n",
       "      <td>2019-07-29</td>\n",
       "      <td>3696</td>\n",
       "      <td>297.0</td>\n",
       "      <td>35916</td>\n",
       "      <td>OTC/VMS</td>\n",
       "      <td>3.37</td>\n",
       "      <td>5.06</td>\n",
       "      <td>12</td>\n",
       "      <td>62.54</td>\n",
       "      <td>WAL-MART - 1610</td>\n",
       "      <td>GREECE</td>\n",
       "      <td>14626</td>\n",
       "      <td>-77.724197</td>\n",
       "      <td>43.214602</td>\n",
       "      <td>WAL-MART STORES EAST LP</td>\n",
       "      <td>40.44</td>\n",
       "      <td>22.10</td>\n",
       "      <td>1.69</td>\n",
       "    </tr>\n",
       "    <tr>\n",
       "      <th>3</th>\n",
       "      <td>INV-20462900015</td>\n",
       "      <td>2019-07-08</td>\n",
       "      <td>3696</td>\n",
       "      <td>260.0</td>\n",
       "      <td>43334</td>\n",
       "      <td>Skin care items</td>\n",
       "      <td>5.00</td>\n",
       "      <td>7.50</td>\n",
       "      <td>24</td>\n",
       "      <td>167.40</td>\n",
       "      <td>WAL-MART - 1610</td>\n",
       "      <td>GREECE</td>\n",
       "      <td>14626</td>\n",
       "      <td>-77.724197</td>\n",
       "      <td>43.214602</td>\n",
       "      <td>WAL-MART STORES EAST LP</td>\n",
       "      <td>120.00</td>\n",
       "      <td>47.40</td>\n",
       "      <td>2.50</td>\n",
       "    </tr>\n",
       "    <tr>\n",
       "      <th>4</th>\n",
       "      <td>INV-20890000018</td>\n",
       "      <td>2019-07-29</td>\n",
       "      <td>3696</td>\n",
       "      <td>370.0</td>\n",
       "      <td>64009</td>\n",
       "      <td>OTC/VMS</td>\n",
       "      <td>11.49</td>\n",
       "      <td>17.24</td>\n",
       "      <td>6</td>\n",
       "      <td>124.13</td>\n",
       "      <td>WAL-MART - 1610</td>\n",
       "      <td>GREECE</td>\n",
       "      <td>14626</td>\n",
       "      <td>-77.724197</td>\n",
       "      <td>43.214602</td>\n",
       "      <td>WAL-MART STORES EAST LP</td>\n",
       "      <td>68.94</td>\n",
       "      <td>55.19</td>\n",
       "      <td>5.75</td>\n",
       "    </tr>\n",
       "  </tbody>\n",
       "</table>\n",
       "</div>"
      ],
      "text/plain": [
       "            invnum       date  storenum  vendornum  itemnum  \\\n",
       "0  INV-31573500023 2020-11-02      3696      259.0    11777   \n",
       "1  INV-20309800006 2019-07-01      3696      260.0    25608   \n",
       "2  INV-20890000006 2019-07-29      3696      297.0    35916   \n",
       "3  INV-20462900015 2019-07-08      3696      260.0    43334   \n",
       "4  INV-20890000018 2019-07-29      3696      370.0    64009   \n",
       "\n",
       "         itemcategory  productcost  product_retail_price  units_sold  \\\n",
       "0  Food and beverages         6.63                  9.95          12   \n",
       "1    Personal hygiene        12.96                 19.44           6   \n",
       "2             OTC/VMS         3.37                  5.06          12   \n",
       "3     Skin care items         5.00                  7.50          24   \n",
       "4             OTC/VMS        11.49                 17.24           6   \n",
       "\n",
       "   revenue_original        storename    city  zipcode  longitude   latitude  \\\n",
       "0            120.59  WAL-MART - 1610  GREECE    14626 -77.724197  43.214602   \n",
       "1            118.97  WAL-MART - 1610  GREECE    14626 -77.724197  43.214602   \n",
       "2             62.54  WAL-MART - 1610  GREECE    14626 -77.724197  43.214602   \n",
       "3            167.40  WAL-MART - 1610  GREECE    14626 -77.724197  43.214602   \n",
       "4            124.13  WAL-MART - 1610  GREECE    14626 -77.724197  43.214602   \n",
       "\n",
       "                   orgname  total_cost  profit  margin  \n",
       "0  WAL-MART STORES EAST LP       79.56   41.03    3.32  \n",
       "1  WAL-MART STORES EAST LP       77.76   41.21    6.48  \n",
       "2  WAL-MART STORES EAST LP       40.44   22.10    1.69  \n",
       "3  WAL-MART STORES EAST LP      120.00   47.40    2.50  \n",
       "4  WAL-MART STORES EAST LP       68.94   55.19    5.75  "
      ]
     },
     "execution_count": 16,
     "metadata": {},
     "output_type": "execute_result"
    }
   ],
   "source": [
    "# Total cost per sale.\n",
    "\n",
    "df_merged['total_cost'] = df_merged['productcost'] * df_merged['units_sold']\n",
    "\n",
    "# Profit per sale\n",
    "\n",
    "df_merged['profit'] = df_merged['revenue_original'] - df_merged['total_cost']\n",
    "\n",
    "# Margin per unit\n",
    "\n",
    "df_merged['margin'] = df_merged['product_retail_price'] - df_merged['productcost']\n",
    "\n",
    "df_merged.head()"
   ]
  },
  {
   "cell_type": "code",
   "execution_count": 17,
   "metadata": {},
   "outputs": [
    {
     "name": "stdout",
     "output_type": "stream",
     "text": [
      "<class 'pandas.core.frame.DataFrame'>\n",
      "RangeIndex: 990744 entries, 0 to 990743\n",
      "Data columns (total 19 columns):\n",
      " #   Column                Non-Null Count   Dtype         \n",
      "---  ------                --------------   -----         \n",
      " 0   invnum                990744 non-null  object        \n",
      " 1   date                  990744 non-null  datetime64[ns]\n",
      " 2   storenum              990744 non-null  int64         \n",
      " 3   vendornum             990744 non-null  float64       \n",
      " 4   itemnum               990744 non-null  int64         \n",
      " 5   itemcategory          990744 non-null  object        \n",
      " 6   productcost           990744 non-null  float64       \n",
      " 7   product_retail_price  990744 non-null  float64       \n",
      " 8   units_sold            990744 non-null  int64         \n",
      " 9   revenue_original      990744 non-null  float64       \n",
      " 10  storename             990744 non-null  object        \n",
      " 11  city                  990744 non-null  object        \n",
      " 12  zipcode               990744 non-null  int64         \n",
      " 13  longitude             990744 non-null  float64       \n",
      " 14  latitude              990744 non-null  float64       \n",
      " 15  orgname               990744 non-null  object        \n",
      " 16  total_cost            990744 non-null  float64       \n",
      " 17  profit                990744 non-null  float64       \n",
      " 18  margin                990744 non-null  float64       \n",
      "dtypes: datetime64[ns](1), float64(9), int64(4), object(5)\n",
      "memory usage: 143.6+ MB\n"
     ]
    }
   ],
   "source": [
    "df_merged.info()"
   ]
  },
  {
   "cell_type": "markdown",
   "metadata": {},
   "source": [
    "# EDA"
   ]
  },
  {
   "cell_type": "markdown",
   "metadata": {},
   "source": [
    "### Where are the pharmacies?"
   ]
  },
  {
   "cell_type": "code",
   "execution_count": 76,
   "metadata": {},
   "outputs": [
    {
     "data": {
      "text/html": [
       "<div style=\"width:100%;\"><div style=\"position:relative;width:100%;height:0;padding-bottom:60%;\"><span style=\"color:#565656\">Make this Notebook Trusted to load map: File -> Trust Notebook</span><iframe src=\"about:blank\" style=\"position:absolute;width:100%;height:100%;left:0;top:0;border:none !important;\" data-html=%3C%21DOCTYPE%20html%3E%0A%3Chead%3E%20%20%20%20%0A%20%20%20%20%3Cmeta%20http-equiv%3D%22content-type%22%20content%3D%22text/html%3B%20charset%3DUTF-8%22%20/%3E%0A%20%20%20%20%0A%20%20%20%20%20%20%20%20%3Cscript%3E%0A%20%20%20%20%20%20%20%20%20%20%20%20L_NO_TOUCH%20%3D%20false%3B%0A%20%20%20%20%20%20%20%20%20%20%20%20L_DISABLE_3D%20%3D%20false%3B%0A%20%20%20%20%20%20%20%20%3C/script%3E%0A%20%20%20%20%0A%20%20%20%20%3Cstyle%3Ehtml%2C%20body%20%7Bwidth%3A%20100%25%3Bheight%3A%20100%25%3Bmargin%3A%200%3Bpadding%3A%200%3B%7D%3C/style%3E%0A%20%20%20%20%3Cstyle%3E%23map%20%7Bposition%3Aabsolute%3Btop%3A0%3Bbottom%3A0%3Bright%3A0%3Bleft%3A0%3B%7D%3C/style%3E%0A%20%20%20%20%3Cscript%20src%3D%22https%3A//cdn.jsdelivr.net/npm/leaflet%401.6.0/dist/leaflet.js%22%3E%3C/script%3E%0A%20%20%20%20%3Cscript%20src%3D%22https%3A//code.jquery.com/jquery-1.12.4.min.js%22%3E%3C/script%3E%0A%20%20%20%20%3Cscript%20src%3D%22https%3A//maxcdn.bootstrapcdn.com/bootstrap/3.2.0/js/bootstrap.min.js%22%3E%3C/script%3E%0A%20%20%20%20%3Cscript%20src%3D%22https%3A//cdnjs.cloudflare.com/ajax/libs/Leaflet.awesome-markers/2.0.2/leaflet.awesome-markers.js%22%3E%3C/script%3E%0A%20%20%20%20%3Clink%20rel%3D%22stylesheet%22%20href%3D%22https%3A//cdn.jsdelivr.net/npm/leaflet%401.6.0/dist/leaflet.css%22/%3E%0A%20%20%20%20%3Clink%20rel%3D%22stylesheet%22%20href%3D%22https%3A//maxcdn.bootstrapcdn.com/bootstrap/3.2.0/css/bootstrap.min.css%22/%3E%0A%20%20%20%20%3Clink%20rel%3D%22stylesheet%22%20href%3D%22https%3A//maxcdn.bootstrapcdn.com/bootstrap/3.2.0/css/bootstrap-theme.min.css%22/%3E%0A%20%20%20%20%3Clink%20rel%3D%22stylesheet%22%20href%3D%22https%3A//maxcdn.bootstrapcdn.com/font-awesome/4.6.3/css/font-awesome.min.css%22/%3E%0A%20%20%20%20%3Clink%20rel%3D%22stylesheet%22%20href%3D%22https%3A//cdnjs.cloudflare.com/ajax/libs/Leaflet.awesome-markers/2.0.2/leaflet.awesome-markers.css%22/%3E%0A%20%20%20%20%3Clink%20rel%3D%22stylesheet%22%20href%3D%22https%3A//cdn.jsdelivr.net/gh/python-visualization/folium/folium/templates/leaflet.awesome.rotate.min.css%22/%3E%0A%20%20%20%20%0A%20%20%20%20%20%20%20%20%20%20%20%20%3Cmeta%20name%3D%22viewport%22%20content%3D%22width%3Ddevice-width%2C%0A%20%20%20%20%20%20%20%20%20%20%20%20%20%20%20%20initial-scale%3D1.0%2C%20maximum-scale%3D1.0%2C%20user-scalable%3Dno%22%20/%3E%0A%20%20%20%20%20%20%20%20%20%20%20%20%3Cstyle%3E%0A%20%20%20%20%20%20%20%20%20%20%20%20%20%20%20%20%23map_d4817acbd9954ed6a2046d3c6d777371%20%7B%0A%20%20%20%20%20%20%20%20%20%20%20%20%20%20%20%20%20%20%20%20position%3A%20relative%3B%0A%20%20%20%20%20%20%20%20%20%20%20%20%20%20%20%20%20%20%20%20width%3A%20100.0%25%3B%0A%20%20%20%20%20%20%20%20%20%20%20%20%20%20%20%20%20%20%20%20height%3A%20100.0%25%3B%0A%20%20%20%20%20%20%20%20%20%20%20%20%20%20%20%20%20%20%20%20left%3A%200.0%25%3B%0A%20%20%20%20%20%20%20%20%20%20%20%20%20%20%20%20%20%20%20%20top%3A%200.0%25%3B%0A%20%20%20%20%20%20%20%20%20%20%20%20%20%20%20%20%7D%0A%20%20%20%20%20%20%20%20%20%20%20%20%3C/style%3E%0A%20%20%20%20%20%20%20%20%0A%3C/head%3E%0A%3Cbody%3E%20%20%20%20%0A%20%20%20%20%0A%20%20%20%20%20%20%20%20%20%20%20%20%3Cdiv%20class%3D%22folium-map%22%20id%3D%22map_d4817acbd9954ed6a2046d3c6d777371%22%20%3E%3C/div%3E%0A%20%20%20%20%20%20%20%20%0A%3C/body%3E%0A%3Cscript%3E%20%20%20%20%0A%20%20%20%20%0A%20%20%20%20%20%20%20%20%20%20%20%20var%20map_d4817acbd9954ed6a2046d3c6d777371%20%3D%20L.map%28%0A%20%20%20%20%20%20%20%20%20%20%20%20%20%20%20%20%22map_d4817acbd9954ed6a2046d3c6d777371%22%2C%0A%20%20%20%20%20%20%20%20%20%20%20%20%20%20%20%20%7B%0A%20%20%20%20%20%20%20%20%20%20%20%20%20%20%20%20%20%20%20%20center%3A%20%5B43.191229%2C%20-77.5%5D%2C%0A%20%20%20%20%20%20%20%20%20%20%20%20%20%20%20%20%20%20%20%20crs%3A%20L.CRS.EPSG3857%2C%0A%20%20%20%20%20%20%20%20%20%20%20%20%20%20%20%20%20%20%20%20zoom%3A%2011%2C%0A%20%20%20%20%20%20%20%20%20%20%20%20%20%20%20%20%20%20%20%20zoomControl%3A%20true%2C%0A%20%20%20%20%20%20%20%20%20%20%20%20%20%20%20%20%20%20%20%20preferCanvas%3A%20false%2C%0A%20%20%20%20%20%20%20%20%20%20%20%20%20%20%20%20%7D%0A%20%20%20%20%20%20%20%20%20%20%20%20%29%3B%0A%0A%20%20%20%20%20%20%20%20%20%20%20%20%0A%0A%20%20%20%20%20%20%20%20%0A%20%20%20%20%0A%20%20%20%20%20%20%20%20%20%20%20%20var%20tile_layer_1edf958d06344d52ab890f80d64485a4%20%3D%20L.tileLayer%28%0A%20%20%20%20%20%20%20%20%20%20%20%20%20%20%20%20%22https%3A//%7Bs%7D.tile.openstreetmap.org/%7Bz%7D/%7Bx%7D/%7By%7D.png%22%2C%0A%20%20%20%20%20%20%20%20%20%20%20%20%20%20%20%20%7B%22attribution%22%3A%20%22Data%20by%20%5Cu0026copy%3B%20%5Cu003ca%20href%3D%5C%22http%3A//openstreetmap.org%5C%22%5Cu003eOpenStreetMap%5Cu003c/a%5Cu003e%2C%20under%20%5Cu003ca%20href%3D%5C%22http%3A//www.openstreetmap.org/copyright%5C%22%5Cu003eODbL%5Cu003c/a%5Cu003e.%22%2C%20%22detectRetina%22%3A%20false%2C%20%22maxNativeZoom%22%3A%2018%2C%20%22maxZoom%22%3A%2018%2C%20%22minZoom%22%3A%200%2C%20%22noWrap%22%3A%20false%2C%20%22opacity%22%3A%201%2C%20%22subdomains%22%3A%20%22abc%22%2C%20%22tms%22%3A%20false%7D%0A%20%20%20%20%20%20%20%20%20%20%20%20%29.addTo%28map_d4817acbd9954ed6a2046d3c6d777371%29%3B%0A%20%20%20%20%20%20%20%20%0A%20%20%20%20%0A%20%20%20%20%20%20%20%20%20%20%20%20var%20marker_e604b679e1444702a2063215a0a3a3a3%20%3D%20L.marker%28%0A%20%20%20%20%20%20%20%20%20%20%20%20%20%20%20%20%5B43.191229%2C%20-77.501365%5D%2C%0A%20%20%20%20%20%20%20%20%20%20%20%20%20%20%20%20%7B%7D%0A%20%20%20%20%20%20%20%20%20%20%20%20%29.addTo%28map_d4817acbd9954ed6a2046d3c6d777371%29%3B%0A%20%20%20%20%20%20%20%20%0A%20%20%20%20%0A%20%20%20%20%20%20%20%20var%20popup_28e5106293c1414ba7f47564d46c878b%20%3D%20L.popup%28%7B%22maxWidth%22%3A%20%22100%25%22%7D%29%3B%0A%0A%20%20%20%20%20%20%20%20%0A%20%20%20%20%20%20%20%20%20%20%20%20var%20html_66b7afe550564db5990ad1e7d44d76df%20%3D%20%24%28%60%3Cdiv%20id%3D%22html_66b7afe550564db5990ad1e7d44d76df%22%20style%3D%22width%3A%20100.0%25%3B%20height%3A%20100.0%25%3B%22%3ECVS%20-%201142%3C/div%3E%60%29%5B0%5D%3B%0A%20%20%20%20%20%20%20%20%20%20%20%20popup_28e5106293c1414ba7f47564d46c878b.setContent%28html_66b7afe550564db5990ad1e7d44d76df%29%3B%0A%20%20%20%20%20%20%20%20%0A%0A%20%20%20%20%20%20%20%20marker_e604b679e1444702a2063215a0a3a3a3.bindPopup%28popup_28e5106293c1414ba7f47564d46c878b%29%0A%20%20%20%20%20%20%20%20%3B%0A%0A%20%20%20%20%20%20%20%20%0A%20%20%20%20%0A%20%20%20%20%0A%20%20%20%20%20%20%20%20%20%20%20%20var%20marker_45f3aa4daaa04795a9a94bd18089f9c7%20%3D%20L.marker%28%0A%20%20%20%20%20%20%20%20%20%20%20%20%20%20%20%20%5B43.069235%2C%20-77.60681600000001%5D%2C%0A%20%20%20%20%20%20%20%20%20%20%20%20%20%20%20%20%7B%7D%0A%20%20%20%20%20%20%20%20%20%20%20%20%29.addTo%28map_d4817acbd9954ed6a2046d3c6d777371%29%3B%0A%20%20%20%20%20%20%20%20%0A%20%20%20%20%0A%20%20%20%20%20%20%20%20var%20popup_e2e4d7554dac4f5e9f1359cad3896540%20%3D%20L.popup%28%7B%22maxWidth%22%3A%20%22100%25%22%7D%29%3B%0A%0A%20%20%20%20%20%20%20%20%0A%20%20%20%20%20%20%20%20%20%20%20%20var%20html_c411a32c3acf4843a3a30b011d1bde0e%20%3D%20%24%28%60%3Cdiv%20id%3D%22html_c411a32c3acf4843a3a30b011d1bde0e%22%20style%3D%22width%3A%20100.0%25%3B%20height%3A%20100.0%25%3B%22%3ECVS%20-%202067%3C/div%3E%60%29%5B0%5D%3B%0A%20%20%20%20%20%20%20%20%20%20%20%20popup_e2e4d7554dac4f5e9f1359cad3896540.setContent%28html_c411a32c3acf4843a3a30b011d1bde0e%29%3B%0A%20%20%20%20%20%20%20%20%0A%0A%20%20%20%20%20%20%20%20marker_45f3aa4daaa04795a9a94bd18089f9c7.bindPopup%28popup_e2e4d7554dac4f5e9f1359cad3896540%29%0A%20%20%20%20%20%20%20%20%3B%0A%0A%20%20%20%20%20%20%20%20%0A%20%20%20%20%0A%20%20%20%20%0A%20%20%20%20%20%20%20%20%20%20%20%20var%20marker_b0fd7c1fcbbb4def955ed85dd8b42ea9%20%3D%20L.marker%28%0A%20%20%20%20%20%20%20%20%20%20%20%20%20%20%20%20%5B43.238923%2C%20-77.69590500000001%5D%2C%0A%20%20%20%20%20%20%20%20%20%20%20%20%20%20%20%20%7B%7D%0A%20%20%20%20%20%20%20%20%20%20%20%20%29.addTo%28map_d4817acbd9954ed6a2046d3c6d777371%29%3B%0A%20%20%20%20%20%20%20%20%0A%20%20%20%20%0A%20%20%20%20%20%20%20%20var%20popup_2590a3f39e5142fd9b8a46a164225acc%20%3D%20L.popup%28%7B%22maxWidth%22%3A%20%22100%25%22%7D%29%3B%0A%0A%20%20%20%20%20%20%20%20%0A%20%20%20%20%20%20%20%20%20%20%20%20var%20html_7c7ef118e1994897a427e0e747cc4e67%20%3D%20%24%28%60%3Cdiv%20id%3D%22html_7c7ef118e1994897a427e0e747cc4e67%22%20style%3D%22width%3A%20100.0%25%3B%20height%3A%20100.0%25%3B%22%3ECVS%20-%202217%3C/div%3E%60%29%5B0%5D%3B%0A%20%20%20%20%20%20%20%20%20%20%20%20popup_2590a3f39e5142fd9b8a46a164225acc.setContent%28html_7c7ef118e1994897a427e0e747cc4e67%29%3B%0A%20%20%20%20%20%20%20%20%0A%0A%20%20%20%20%20%20%20%20marker_b0fd7c1fcbbb4def955ed85dd8b42ea9.bindPopup%28popup_2590a3f39e5142fd9b8a46a164225acc%29%0A%20%20%20%20%20%20%20%20%3B%0A%0A%20%20%20%20%20%20%20%20%0A%20%20%20%20%0A%20%20%20%20%0A%20%20%20%20%20%20%20%20%20%20%20%20var%20marker_83ebdd6778da46f79f0c731991049279%20%3D%20L.marker%28%0A%20%20%20%20%20%20%20%20%20%20%20%20%20%20%20%20%5B43.227241%2C%20-77.658331%5D%2C%0A%20%20%20%20%20%20%20%20%20%20%20%20%20%20%20%20%7B%7D%0A%20%20%20%20%20%20%20%20%20%20%20%20%29.addTo%28map_d4817acbd9954ed6a2046d3c6d777371%29%3B%0A%20%20%20%20%20%20%20%20%0A%20%20%20%20%0A%20%20%20%20%20%20%20%20var%20popup_c8975e19a54a4a278c89209d49889a7b%20%3D%20L.popup%28%7B%22maxWidth%22%3A%20%22100%25%22%7D%29%3B%0A%0A%20%20%20%20%20%20%20%20%0A%20%20%20%20%20%20%20%20%20%20%20%20var%20html_34e2147e036247b8b10d3332fd77a001%20%3D%20%24%28%60%3Cdiv%20id%3D%22html_34e2147e036247b8b10d3332fd77a001%22%20style%3D%22width%3A%20100.0%25%3B%20height%3A%20100.0%25%3B%22%3ECVS%20-%202218%3C/div%3E%60%29%5B0%5D%3B%0A%20%20%20%20%20%20%20%20%20%20%20%20popup_c8975e19a54a4a278c89209d49889a7b.setContent%28html_34e2147e036247b8b10d3332fd77a001%29%3B%0A%20%20%20%20%20%20%20%20%0A%0A%20%20%20%20%20%20%20%20marker_83ebdd6778da46f79f0c731991049279.bindPopup%28popup_c8975e19a54a4a278c89209d49889a7b%29%0A%20%20%20%20%20%20%20%20%3B%0A%0A%20%20%20%20%20%20%20%20%0A%20%20%20%20%0A%20%20%20%20%0A%20%20%20%20%20%20%20%20%20%20%20%20var%20marker_e714765b8e8744aab165f023978e4726%20%3D%20L.marker%28%0A%20%20%20%20%20%20%20%20%20%20%20%20%20%20%20%20%5B43.122328%2C%20-77.709106%5D%2C%0A%20%20%20%20%20%20%20%20%20%20%20%20%20%20%20%20%7B%7D%0A%20%20%20%20%20%20%20%20%20%20%20%20%29.addTo%28map_d4817acbd9954ed6a2046d3c6d777371%29%3B%0A%20%20%20%20%20%20%20%20%0A%20%20%20%20%0A%20%20%20%20%20%20%20%20var%20popup_03cd4505c5164ec8a68db3280cc9acc4%20%3D%20L.popup%28%7B%22maxWidth%22%3A%20%22100%25%22%7D%29%3B%0A%0A%20%20%20%20%20%20%20%20%0A%20%20%20%20%20%20%20%20%20%20%20%20var%20html_93fc38545105460f87fce7a76758db42%20%3D%20%24%28%60%3Cdiv%20id%3D%22html_93fc38545105460f87fce7a76758db42%22%20style%3D%22width%3A%20100.0%25%3B%20height%3A%20100.0%25%3B%22%3ECVS%20-%202501%3C/div%3E%60%29%5B0%5D%3B%0A%20%20%20%20%20%20%20%20%20%20%20%20popup_03cd4505c5164ec8a68db3280cc9acc4.setContent%28html_93fc38545105460f87fce7a76758db42%29%3B%0A%20%20%20%20%20%20%20%20%0A%0A%20%20%20%20%20%20%20%20marker_e714765b8e8744aab165f023978e4726.bindPopup%28popup_03cd4505c5164ec8a68db3280cc9acc4%29%0A%20%20%20%20%20%20%20%20%3B%0A%0A%20%20%20%20%20%20%20%20%0A%20%20%20%20%0A%20%20%20%20%0A%20%20%20%20%20%20%20%20%20%20%20%20var%20marker_98ec4eccd2544e9a9673fd1c394d104e%20%3D%20L.marker%28%0A%20%20%20%20%20%20%20%20%20%20%20%20%20%20%20%20%5B43.147678000000006%2C%20-77.57744%5D%2C%0A%20%20%20%20%20%20%20%20%20%20%20%20%20%20%20%20%7B%7D%0A%20%20%20%20%20%20%20%20%20%20%20%20%29.addTo%28map_d4817acbd9954ed6a2046d3c6d777371%29%3B%0A%20%20%20%20%20%20%20%20%0A%20%20%20%20%0A%20%20%20%20%20%20%20%20var%20popup_098f66dd227743258e745be24f4c3d78%20%3D%20L.popup%28%7B%22maxWidth%22%3A%20%22100%25%22%7D%29%3B%0A%0A%20%20%20%20%20%20%20%20%0A%20%20%20%20%20%20%20%20%20%20%20%20var%20html_f532b5f12d694b7fb6cbb6c387573b88%20%3D%20%24%28%60%3Cdiv%20id%3D%22html_f532b5f12d694b7fb6cbb6c387573b88%22%20style%3D%22width%3A%20100.0%25%3B%20height%3A%20100.0%25%3B%22%3ECVS%20-%20466%3C/div%3E%60%29%5B0%5D%3B%0A%20%20%20%20%20%20%20%20%20%20%20%20popup_098f66dd227743258e745be24f4c3d78.setContent%28html_f532b5f12d694b7fb6cbb6c387573b88%29%3B%0A%20%20%20%20%20%20%20%20%0A%0A%20%20%20%20%20%20%20%20marker_98ec4eccd2544e9a9673fd1c394d104e.bindPopup%28popup_098f66dd227743258e745be24f4c3d78%29%0A%20%20%20%20%20%20%20%20%3B%0A%0A%20%20%20%20%20%20%20%20%0A%20%20%20%20%0A%20%20%20%20%0A%20%20%20%20%20%20%20%20%20%20%20%20var%20marker_68a39db3928d4af7b49eb7c5465dbaef%20%3D%20L.marker%28%0A%20%20%20%20%20%20%20%20%20%20%20%20%20%20%20%20%5B43.132637%2C%20-77.439842%5D%2C%0A%20%20%20%20%20%20%20%20%20%20%20%20%20%20%20%20%7B%7D%0A%20%20%20%20%20%20%20%20%20%20%20%20%29.addTo%28map_d4817acbd9954ed6a2046d3c6d777371%29%3B%0A%20%20%20%20%20%20%20%20%0A%20%20%20%20%0A%20%20%20%20%20%20%20%20var%20popup_07981e0508b64cd5b3b24207cbfe0dce%20%3D%20L.popup%28%7B%22maxWidth%22%3A%20%22100%25%22%7D%29%3B%0A%0A%20%20%20%20%20%20%20%20%0A%20%20%20%20%20%20%20%20%20%20%20%20var%20html_7575f5b3e8154c199e350da65d89d99c%20%3D%20%24%28%60%3Cdiv%20id%3D%22html_7575f5b3e8154c199e350da65d89d99c%22%20style%3D%22width%3A%20100.0%25%3B%20height%3A%20100.0%25%3B%22%3ECVS%20-%20545%3C/div%3E%60%29%5B0%5D%3B%0A%20%20%20%20%20%20%20%20%20%20%20%20popup_07981e0508b64cd5b3b24207cbfe0dce.setContent%28html_7575f5b3e8154c199e350da65d89d99c%29%3B%0A%20%20%20%20%20%20%20%20%0A%0A%20%20%20%20%20%20%20%20marker_68a39db3928d4af7b49eb7c5465dbaef.bindPopup%28popup_07981e0508b64cd5b3b24207cbfe0dce%29%0A%20%20%20%20%20%20%20%20%3B%0A%0A%20%20%20%20%20%20%20%20%0A%20%20%20%20%0A%20%20%20%20%0A%20%20%20%20%20%20%20%20%20%20%20%20var%20marker_0ff2444910bb414d8eacdb7a9cc3c598%20%3D%20L.marker%28%0A%20%20%20%20%20%20%20%20%20%20%20%20%20%20%20%20%5B43.124313%2C%20-77.616952%5D%2C%0A%20%20%20%20%20%20%20%20%20%20%20%20%20%20%20%20%7B%7D%0A%20%20%20%20%20%20%20%20%20%20%20%20%29.addTo%28map_d4817acbd9954ed6a2046d3c6d777371%29%3B%0A%20%20%20%20%20%20%20%20%0A%20%20%20%20%0A%20%20%20%20%20%20%20%20var%20popup_68ec4abce2a84daab44040600d5ea6fd%20%3D%20L.popup%28%7B%22maxWidth%22%3A%20%22100%25%22%7D%29%3B%0A%0A%20%20%20%20%20%20%20%20%0A%20%20%20%20%20%20%20%20%20%20%20%20var%20html_ebcf2d0b311345c48994548d36519e38%20%3D%20%24%28%60%3Cdiv%20id%3D%22html_ebcf2d0b311345c48994548d36519e38%22%20style%3D%22width%3A%20100.0%25%3B%20height%3A%20100.0%25%3B%22%3ECVS%20-%20547%3C/div%3E%60%29%5B0%5D%3B%0A%20%20%20%20%20%20%20%20%20%20%20%20popup_68ec4abce2a84daab44040600d5ea6fd.setContent%28html_ebcf2d0b311345c48994548d36519e38%29%3B%0A%20%20%20%20%20%20%20%20%0A%0A%20%20%20%20%20%20%20%20marker_0ff2444910bb414d8eacdb7a9cc3c598.bindPopup%28popup_68ec4abce2a84daab44040600d5ea6fd%29%0A%20%20%20%20%20%20%20%20%3B%0A%0A%20%20%20%20%20%20%20%20%0A%20%20%20%20%0A%20%20%20%20%0A%20%20%20%20%20%20%20%20%20%20%20%20var%20marker_bbc70d9dd9714a78820af85e1b4a910e%20%3D%20L.marker%28%0A%20%20%20%20%20%20%20%20%20%20%20%20%20%20%20%20%5B43.169678999999995%2C%20-77.705175%5D%2C%0A%20%20%20%20%20%20%20%20%20%20%20%20%20%20%20%20%7B%7D%0A%20%20%20%20%20%20%20%20%20%20%20%20%29.addTo%28map_d4817acbd9954ed6a2046d3c6d777371%29%3B%0A%20%20%20%20%20%20%20%20%0A%20%20%20%20%0A%20%20%20%20%20%20%20%20var%20popup_64d54d3016be447b975c7e7838473e85%20%3D%20L.popup%28%7B%22maxWidth%22%3A%20%22100%25%22%7D%29%3B%0A%0A%20%20%20%20%20%20%20%20%0A%20%20%20%20%20%20%20%20%20%20%20%20var%20html_1928b1643acd4dbeb787245e68109a9e%20%3D%20%24%28%60%3Cdiv%20id%3D%22html_1928b1643acd4dbeb787245e68109a9e%22%20style%3D%22width%3A%20100.0%25%3B%20height%3A%20100.0%25%3B%22%3ECVS%20-%20586%3C/div%3E%60%29%5B0%5D%3B%0A%20%20%20%20%20%20%20%20%20%20%20%20popup_64d54d3016be447b975c7e7838473e85.setContent%28html_1928b1643acd4dbeb787245e68109a9e%29%3B%0A%20%20%20%20%20%20%20%20%0A%0A%20%20%20%20%20%20%20%20marker_bbc70d9dd9714a78820af85e1b4a910e.bindPopup%28popup_64d54d3016be447b975c7e7838473e85%29%0A%20%20%20%20%20%20%20%20%3B%0A%0A%20%20%20%20%20%20%20%20%0A%20%20%20%20%0A%20%20%20%20%0A%20%20%20%20%20%20%20%20%20%20%20%20var%20marker_9067fff787dd4637b7a7c780a79b0b8b%20%3D%20L.marker%28%0A%20%20%20%20%20%20%20%20%20%20%20%20%20%20%20%20%5B43.123847999999995%2C%20-77.560946%5D%2C%0A%20%20%20%20%20%20%20%20%20%20%20%20%20%20%20%20%7B%7D%0A%20%20%20%20%20%20%20%20%20%20%20%20%29.addTo%28map_d4817acbd9954ed6a2046d3c6d777371%29%3B%0A%20%20%20%20%20%20%20%20%0A%20%20%20%20%0A%20%20%20%20%20%20%20%20var%20popup_3a7726302f1942a88b18d3133a40b888%20%3D%20L.popup%28%7B%22maxWidth%22%3A%20%22100%25%22%7D%29%3B%0A%0A%20%20%20%20%20%20%20%20%0A%20%20%20%20%20%20%20%20%20%20%20%20var%20html_d4dbc619871d4dd080991188148a0d39%20%3D%20%24%28%60%3Cdiv%20id%3D%22html_d4dbc619871d4dd080991188148a0d39%22%20style%3D%22width%3A%20100.0%25%3B%20height%3A%20100.0%25%3B%22%3ECVS%20-%20592%3C/div%3E%60%29%5B0%5D%3B%0A%20%20%20%20%20%20%20%20%20%20%20%20popup_3a7726302f1942a88b18d3133a40b888.setContent%28html_d4dbc619871d4dd080991188148a0d39%29%3B%0A%20%20%20%20%20%20%20%20%0A%0A%20%20%20%20%20%20%20%20marker_9067fff787dd4637b7a7c780a79b0b8b.bindPopup%28popup_3a7726302f1942a88b18d3133a40b888%29%0A%20%20%20%20%20%20%20%20%3B%0A%0A%20%20%20%20%20%20%20%20%0A%20%20%20%20%0A%20%20%20%20%0A%20%20%20%20%20%20%20%20%20%20%20%20var%20marker_a0d87439bedb4b769b98826fe6a2ce0c%20%3D%20L.marker%28%0A%20%20%20%20%20%20%20%20%20%20%20%20%20%20%20%20%5B43.187826%2C%20-77.585521%5D%2C%0A%20%20%20%20%20%20%20%20%20%20%20%20%20%20%20%20%7B%7D%0A%20%20%20%20%20%20%20%20%20%20%20%20%29.addTo%28map_d4817acbd9954ed6a2046d3c6d777371%29%3B%0A%20%20%20%20%20%20%20%20%0A%20%20%20%20%0A%20%20%20%20%20%20%20%20var%20popup_9a67724f9de74abb904378868ef38bf0%20%3D%20L.popup%28%7B%22maxWidth%22%3A%20%22100%25%22%7D%29%3B%0A%0A%20%20%20%20%20%20%20%20%0A%20%20%20%20%20%20%20%20%20%20%20%20var%20html_742e603f584b4b48903d598049c05cef%20%3D%20%24%28%60%3Cdiv%20id%3D%22html_742e603f584b4b48903d598049c05cef%22%20style%3D%22width%3A%20100.0%25%3B%20height%3A%20100.0%25%3B%22%3ECVS%20-%20653%3C/div%3E%60%29%5B0%5D%3B%0A%20%20%20%20%20%20%20%20%20%20%20%20popup_9a67724f9de74abb904378868ef38bf0.setContent%28html_742e603f584b4b48903d598049c05cef%29%3B%0A%20%20%20%20%20%20%20%20%0A%0A%20%20%20%20%20%20%20%20marker_a0d87439bedb4b769b98826fe6a2ce0c.bindPopup%28popup_9a67724f9de74abb904378868ef38bf0%29%0A%20%20%20%20%20%20%20%20%3B%0A%0A%20%20%20%20%20%20%20%20%0A%20%20%20%20%0A%20%20%20%20%0A%20%20%20%20%20%20%20%20%20%20%20%20var%20marker_97d1c9d8f36347d49f6ad117f3257db9%20%3D%20L.marker%28%0A%20%20%20%20%20%20%20%20%20%20%20%20%20%20%20%20%5B43.192932%2C%20-77.62984399999999%5D%2C%0A%20%20%20%20%20%20%20%20%20%20%20%20%20%20%20%20%7B%7D%0A%20%20%20%20%20%20%20%20%20%20%20%20%29.addTo%28map_d4817acbd9954ed6a2046d3c6d777371%29%3B%0A%20%20%20%20%20%20%20%20%0A%20%20%20%20%0A%20%20%20%20%20%20%20%20var%20popup_b69d9a2d0b584f7fa61fccc9bf30f79f%20%3D%20L.popup%28%7B%22maxWidth%22%3A%20%22100%25%22%7D%29%3B%0A%0A%20%20%20%20%20%20%20%20%0A%20%20%20%20%20%20%20%20%20%20%20%20var%20html_b041dcddd63d4959909d456a1e574345%20%3D%20%24%28%60%3Cdiv%20id%3D%22html_b041dcddd63d4959909d456a1e574345%22%20style%3D%22width%3A%20100.0%25%3B%20height%3A%20100.0%25%3B%22%3ECVS%20-%20739%3C/div%3E%60%29%5B0%5D%3B%0A%20%20%20%20%20%20%20%20%20%20%20%20popup_b69d9a2d0b584f7fa61fccc9bf30f79f.setContent%28html_b041dcddd63d4959909d456a1e574345%29%3B%0A%20%20%20%20%20%20%20%20%0A%0A%20%20%20%20%20%20%20%20marker_97d1c9d8f36347d49f6ad117f3257db9.bindPopup%28popup_b69d9a2d0b584f7fa61fccc9bf30f79f%29%0A%20%20%20%20%20%20%20%20%3B%0A%0A%20%20%20%20%20%20%20%20%0A%20%20%20%20%0A%20%20%20%20%0A%20%20%20%20%20%20%20%20%20%20%20%20var%20marker_edb906cf21c44a948dbab1ca0b99044d%20%3D%20L.marker%28%0A%20%20%20%20%20%20%20%20%20%20%20%20%20%20%20%20%5B43.159809%2C%20-77.54892%5D%2C%0A%20%20%20%20%20%20%20%20%20%20%20%20%20%20%20%20%7B%7D%0A%20%20%20%20%20%20%20%20%20%20%20%20%29.addTo%28map_d4817acbd9954ed6a2046d3c6d777371%29%3B%0A%20%20%20%20%20%20%20%20%0A%20%20%20%20%0A%20%20%20%20%20%20%20%20var%20popup_bb5a0ec521504f5bb00d39b389132323%20%3D%20L.popup%28%7B%22maxWidth%22%3A%20%22100%25%22%7D%29%3B%0A%0A%20%20%20%20%20%20%20%20%0A%20%20%20%20%20%20%20%20%20%20%20%20var%20html_a4be5cfe29ba40de9fa6ae0afbd061ea%20%3D%20%24%28%60%3Cdiv%20id%3D%22html_a4be5cfe29ba40de9fa6ae0afbd061ea%22%20style%3D%22width%3A%20100.0%25%3B%20height%3A%20100.0%25%3B%22%3ECVS%20-%20753%3C/div%3E%60%29%5B0%5D%3B%0A%20%20%20%20%20%20%20%20%20%20%20%20popup_bb5a0ec521504f5bb00d39b389132323.setContent%28html_a4be5cfe29ba40de9fa6ae0afbd061ea%29%3B%0A%20%20%20%20%20%20%20%20%0A%0A%20%20%20%20%20%20%20%20marker_edb906cf21c44a948dbab1ca0b99044d.bindPopup%28popup_bb5a0ec521504f5bb00d39b389132323%29%0A%20%20%20%20%20%20%20%20%3B%0A%0A%20%20%20%20%20%20%20%20%0A%20%20%20%20%0A%20%20%20%20%0A%20%20%20%20%20%20%20%20%20%20%20%20var%20marker_98a9a3ac05214c6d8cdeae69bb1100fc%20%3D%20L.marker%28%0A%20%20%20%20%20%20%20%20%20%20%20%20%20%20%20%20%5B43.120219%2C%20-77.592656%5D%2C%0A%20%20%20%20%20%20%20%20%20%20%20%20%20%20%20%20%7B%7D%0A%20%20%20%20%20%20%20%20%20%20%20%20%29.addTo%28map_d4817acbd9954ed6a2046d3c6d777371%29%3B%0A%20%20%20%20%20%20%20%20%0A%20%20%20%20%0A%20%20%20%20%20%20%20%20var%20popup_d53d66e990ff4bb7ac9363b28da578a5%20%3D%20L.popup%28%7B%22maxWidth%22%3A%20%22100%25%22%7D%29%3B%0A%0A%20%20%20%20%20%20%20%20%0A%20%20%20%20%20%20%20%20%20%20%20%20var%20html_6f69e45fcfb54fe29da237bca29c289f%20%3D%20%24%28%60%3Cdiv%20id%3D%22html_6f69e45fcfb54fe29da237bca29c289f%22%20style%3D%22width%3A%20100.0%25%3B%20height%3A%20100.0%25%3B%22%3ECVS%20-%20755%3C/div%3E%60%29%5B0%5D%3B%0A%20%20%20%20%20%20%20%20%20%20%20%20popup_d53d66e990ff4bb7ac9363b28da578a5.setContent%28html_6f69e45fcfb54fe29da237bca29c289f%29%3B%0A%20%20%20%20%20%20%20%20%0A%0A%20%20%20%20%20%20%20%20marker_98a9a3ac05214c6d8cdeae69bb1100fc.bindPopup%28popup_d53d66e990ff4bb7ac9363b28da578a5%29%0A%20%20%20%20%20%20%20%20%3B%0A%0A%20%20%20%20%20%20%20%20%0A%20%20%20%20%0A%20%20%20%20%0A%20%20%20%20%20%20%20%20%20%20%20%20var%20marker_3e2c8d72551a45fbb69e60e9415b414f%20%3D%20L.marker%28%0A%20%20%20%20%20%20%20%20%20%20%20%20%20%20%20%20%5B43.207248%2C%20-77.464463%5D%2C%0A%20%20%20%20%20%20%20%20%20%20%20%20%20%20%20%20%7B%7D%0A%20%20%20%20%20%20%20%20%20%20%20%20%29.addTo%28map_d4817acbd9954ed6a2046d3c6d777371%29%3B%0A%20%20%20%20%20%20%20%20%0A%20%20%20%20%0A%20%20%20%20%20%20%20%20var%20popup_7f7700841bc241dbb557c7d7ff4ec6df%20%3D%20L.popup%28%7B%22maxWidth%22%3A%20%22100%25%22%7D%29%3B%0A%0A%20%20%20%20%20%20%20%20%0A%20%20%20%20%20%20%20%20%20%20%20%20var%20html_1995a597a1704b0491bd309099dac862%20%3D%20%24%28%60%3Cdiv%20id%3D%22html_1995a597a1704b0491bd309099dac862%22%20style%3D%22width%3A%20100.0%25%3B%20height%3A%20100.0%25%3B%22%3ECVS%20-%20831%3C/div%3E%60%29%5B0%5D%3B%0A%20%20%20%20%20%20%20%20%20%20%20%20popup_7f7700841bc241dbb557c7d7ff4ec6df.setContent%28html_1995a597a1704b0491bd309099dac862%29%3B%0A%20%20%20%20%20%20%20%20%0A%0A%20%20%20%20%20%20%20%20marker_3e2c8d72551a45fbb69e60e9415b414f.bindPopup%28popup_7f7700841bc241dbb557c7d7ff4ec6df%29%0A%20%20%20%20%20%20%20%20%3B%0A%0A%20%20%20%20%20%20%20%20%0A%20%20%20%20%0A%20%20%20%20%0A%20%20%20%20%20%20%20%20%20%20%20%20var%20marker_40d9f41c19cf4519b0d48c0f4e2fd6a3%20%3D%20L.marker%28%0A%20%20%20%20%20%20%20%20%20%20%20%20%20%20%20%20%5B43.120313%2C%20-77.806208%5D%2C%0A%20%20%20%20%20%20%20%20%20%20%20%20%20%20%20%20%7B%7D%0A%20%20%20%20%20%20%20%20%20%20%20%20%29.addTo%28map_d4817acbd9954ed6a2046d3c6d777371%29%3B%0A%20%20%20%20%20%20%20%20%0A%20%20%20%20%0A%20%20%20%20%20%20%20%20var%20popup_56b4336e5409464ea4bcaf62f6f98123%20%3D%20L.popup%28%7B%22maxWidth%22%3A%20%22100%25%22%7D%29%3B%0A%0A%20%20%20%20%20%20%20%20%0A%20%20%20%20%20%20%20%20%20%20%20%20var%20html_e226da56eb5042859b8870926b28ac84%20%3D%20%24%28%60%3Cdiv%20id%3D%22html_e226da56eb5042859b8870926b28ac84%22%20style%3D%22width%3A%20100.0%25%3B%20height%3A%20100.0%25%3B%22%3ERITE%20AID%20-%2010850%3C/div%3E%60%29%5B0%5D%3B%0A%20%20%20%20%20%20%20%20%20%20%20%20popup_56b4336e5409464ea4bcaf62f6f98123.setContent%28html_e226da56eb5042859b8870926b28ac84%29%3B%0A%20%20%20%20%20%20%20%20%0A%0A%20%20%20%20%20%20%20%20marker_40d9f41c19cf4519b0d48c0f4e2fd6a3.bindPopup%28popup_56b4336e5409464ea4bcaf62f6f98123%29%0A%20%20%20%20%20%20%20%20%3B%0A%0A%20%20%20%20%20%20%20%20%0A%20%20%20%20%0A%20%20%20%20%0A%20%20%20%20%20%20%20%20%20%20%20%20var%20marker_c1c37363f11643dd98ed0ff035e5168e%20%3D%20L.marker%28%0A%20%20%20%20%20%20%20%20%20%20%20%20%20%20%20%20%5B42.949811%2C%20-77.60190899999999%5D%2C%0A%20%20%20%20%20%20%20%20%20%20%20%20%20%20%20%20%7B%7D%0A%20%20%20%20%20%20%20%20%20%20%20%20%29.addTo%28map_d4817acbd9954ed6a2046d3c6d777371%29%3B%0A%20%20%20%20%20%20%20%20%0A%20%20%20%20%0A%20%20%20%20%20%20%20%20var%20popup_1b79bb516d94451a968bf6b436860a81%20%3D%20L.popup%28%7B%22maxWidth%22%3A%20%22100%25%22%7D%29%3B%0A%0A%20%20%20%20%20%20%20%20%0A%20%20%20%20%20%20%20%20%20%20%20%20var%20html_7194ce3ba9b947d1be48056dc41c5f44%20%3D%20%24%28%60%3Cdiv%20id%3D%22html_7194ce3ba9b947d1be48056dc41c5f44%22%20style%3D%22width%3A%20100.0%25%3B%20height%3A%20100.0%25%3B%22%3ERITE%20AID%20-%201619%3C/div%3E%60%29%5B0%5D%3B%0A%20%20%20%20%20%20%20%20%20%20%20%20popup_1b79bb516d94451a968bf6b436860a81.setContent%28html_7194ce3ba9b947d1be48056dc41c5f44%29%3B%0A%20%20%20%20%20%20%20%20%0A%0A%20%20%20%20%20%20%20%20marker_c1c37363f11643dd98ed0ff035e5168e.bindPopup%28popup_1b79bb516d94451a968bf6b436860a81%29%0A%20%20%20%20%20%20%20%20%3B%0A%0A%20%20%20%20%20%20%20%20%0A%20%20%20%20%0A%20%20%20%20%0A%20%20%20%20%20%20%20%20%20%20%20%20var%20marker_647790a5d17b41469f1cd43c0e2079d3%20%3D%20L.marker%28%0A%20%20%20%20%20%20%20%20%20%20%20%20%20%20%20%20%5B43.131615000000004%2C%20-77.650598%5D%2C%0A%20%20%20%20%20%20%20%20%20%20%20%20%20%20%20%20%7B%7D%0A%20%20%20%20%20%20%20%20%20%20%20%20%29.addTo%28map_d4817acbd9954ed6a2046d3c6d777371%29%3B%0A%20%20%20%20%20%20%20%20%0A%20%20%20%20%0A%20%20%20%20%20%20%20%20var%20popup_fdb6a10726c7400ba794a22f1c6d68f9%20%3D%20L.popup%28%7B%22maxWidth%22%3A%20%22100%25%22%7D%29%3B%0A%0A%20%20%20%20%20%20%20%20%0A%20%20%20%20%20%20%20%20%20%20%20%20var%20html_bf0a4cac23d34821bd560374d3041d10%20%3D%20%24%28%60%3Cdiv%20id%3D%22html_bf0a4cac23d34821bd560374d3041d10%22%20style%3D%22width%3A%20100.0%25%3B%20height%3A%20100.0%25%3B%22%3ERITE%20AID%20-%201722%3C/div%3E%60%29%5B0%5D%3B%0A%20%20%20%20%20%20%20%20%20%20%20%20popup_fdb6a10726c7400ba794a22f1c6d68f9.setContent%28html_bf0a4cac23d34821bd560374d3041d10%29%3B%0A%20%20%20%20%20%20%20%20%0A%0A%20%20%20%20%20%20%20%20marker_647790a5d17b41469f1cd43c0e2079d3.bindPopup%28popup_fdb6a10726c7400ba794a22f1c6d68f9%29%0A%20%20%20%20%20%20%20%20%3B%0A%0A%20%20%20%20%20%20%20%20%0A%20%20%20%20%0A%20%20%20%20%0A%20%20%20%20%20%20%20%20%20%20%20%20var%20marker_bad4fc580f744c24b61dddba947650c4%20%3D%20L.marker%28%0A%20%20%20%20%20%20%20%20%20%20%20%20%20%20%20%20%5B43.131294%2C%20-77.442187%5D%2C%0A%20%20%20%20%20%20%20%20%20%20%20%20%20%20%20%20%7B%7D%0A%20%20%20%20%20%20%20%20%20%20%20%20%29.addTo%28map_d4817acbd9954ed6a2046d3c6d777371%29%3B%0A%20%20%20%20%20%20%20%20%0A%20%20%20%20%0A%20%20%20%20%20%20%20%20var%20popup_e73af9621e364d90af309ec98e625bc3%20%3D%20L.popup%28%7B%22maxWidth%22%3A%20%22100%25%22%7D%29%3B%0A%0A%20%20%20%20%20%20%20%20%0A%20%20%20%20%20%20%20%20%20%20%20%20var%20html_5ad047f1b1114d14a47b6df63b7475b2%20%3D%20%24%28%60%3Cdiv%20id%3D%22html_5ad047f1b1114d14a47b6df63b7475b2%22%20style%3D%22width%3A%20100.0%25%3B%20height%3A%20100.0%25%3B%22%3ERITE%20AID%20-%201827%3C/div%3E%60%29%5B0%5D%3B%0A%20%20%20%20%20%20%20%20%20%20%20%20popup_e73af9621e364d90af309ec98e625bc3.setContent%28html_5ad047f1b1114d14a47b6df63b7475b2%29%3B%0A%20%20%20%20%20%20%20%20%0A%0A%20%20%20%20%20%20%20%20marker_bad4fc580f744c24b61dddba947650c4.bindPopup%28popup_e73af9621e364d90af309ec98e625bc3%29%0A%20%20%20%20%20%20%20%20%3B%0A%0A%20%20%20%20%20%20%20%20%0A%20%20%20%20%0A%20%20%20%20%0A%20%20%20%20%20%20%20%20%20%20%20%20var%20marker_6d7b0a8b886841eea790994eb7dc38d1%20%3D%20L.marker%28%0A%20%20%20%20%20%20%20%20%20%20%20%20%20%20%20%20%5B43.190488%2C%20-77.798486%5D%2C%0A%20%20%20%20%20%20%20%20%20%20%20%20%20%20%20%20%7B%7D%0A%20%20%20%20%20%20%20%20%20%20%20%20%29.addTo%28map_d4817acbd9954ed6a2046d3c6d777371%29%3B%0A%20%20%20%20%20%20%20%20%0A%20%20%20%20%0A%20%20%20%20%20%20%20%20var%20popup_5e8247b452b94f20a8aa94e1d798ffb9%20%3D%20L.popup%28%7B%22maxWidth%22%3A%20%22100%25%22%7D%29%3B%0A%0A%20%20%20%20%20%20%20%20%0A%20%20%20%20%20%20%20%20%20%20%20%20var%20html_e22596a21078499ca540edd744eb394d%20%3D%20%24%28%60%3Cdiv%20id%3D%22html_e22596a21078499ca540edd744eb394d%22%20style%3D%22width%3A%20100.0%25%3B%20height%3A%20100.0%25%3B%22%3ERITE%20AID%20-%20189%3C/div%3E%60%29%5B0%5D%3B%0A%20%20%20%20%20%20%20%20%20%20%20%20popup_5e8247b452b94f20a8aa94e1d798ffb9.setContent%28html_e22596a21078499ca540edd744eb394d%29%3B%0A%20%20%20%20%20%20%20%20%0A%0A%20%20%20%20%20%20%20%20marker_6d7b0a8b886841eea790994eb7dc38d1.bindPopup%28popup_5e8247b452b94f20a8aa94e1d798ffb9%29%0A%20%20%20%20%20%20%20%20%3B%0A%0A%20%20%20%20%20%20%20%20%0A%20%20%20%20%0A%20%20%20%20%0A%20%20%20%20%20%20%20%20%20%20%20%20var%20marker_07eeab570c224b82a4473bbb1d841147%20%3D%20L.marker%28%0A%20%20%20%20%20%20%20%20%20%20%20%20%20%20%20%20%5B43.197208%2C%20-77.584092%5D%2C%0A%20%20%20%20%20%20%20%20%20%20%20%20%20%20%20%20%7B%7D%0A%20%20%20%20%20%20%20%20%20%20%20%20%29.addTo%28map_d4817acbd9954ed6a2046d3c6d777371%29%3B%0A%20%20%20%20%20%20%20%20%0A%20%20%20%20%0A%20%20%20%20%20%20%20%20var%20popup_aac8f94853e64cfca68b128467d213cd%20%3D%20L.popup%28%7B%22maxWidth%22%3A%20%22100%25%22%7D%29%3B%0A%0A%20%20%20%20%20%20%20%20%0A%20%20%20%20%20%20%20%20%20%20%20%20var%20html_69ef9963a8ed4ab3aa4ee6f4f6311126%20%3D%20%24%28%60%3Cdiv%20id%3D%22html_69ef9963a8ed4ab3aa4ee6f4f6311126%22%20style%3D%22width%3A%20100.0%25%3B%20height%3A%20100.0%25%3B%22%3ERITE%20AID%20-%202464%3C/div%3E%60%29%5B0%5D%3B%0A%20%20%20%20%20%20%20%20%20%20%20%20popup_aac8f94853e64cfca68b128467d213cd.setContent%28html_69ef9963a8ed4ab3aa4ee6f4f6311126%29%3B%0A%20%20%20%20%20%20%20%20%0A%0A%20%20%20%20%20%20%20%20marker_07eeab570c224b82a4473bbb1d841147.bindPopup%28popup_aac8f94853e64cfca68b128467d213cd%29%0A%20%20%20%20%20%20%20%20%3B%0A%0A%20%20%20%20%20%20%20%20%0A%20%20%20%20%0A%20%20%20%20%0A%20%20%20%20%20%20%20%20%20%20%20%20var%20marker_bc614c7742eb4f1797fd5d8738c23be9%20%3D%20L.marker%28%0A%20%20%20%20%20%20%20%20%20%20%20%20%20%20%20%20%5B43.175829%2C%20-77.59145799999999%5D%2C%0A%20%20%20%20%20%20%20%20%20%20%20%20%20%20%20%20%7B%7D%0A%20%20%20%20%20%20%20%20%20%20%20%20%29.addTo%28map_d4817acbd9954ed6a2046d3c6d777371%29%3B%0A%20%20%20%20%20%20%20%20%0A%20%20%20%20%0A%20%20%20%20%20%20%20%20var%20popup_275efbfa151c4c60952037e7ca817280%20%3D%20L.popup%28%7B%22maxWidth%22%3A%20%22100%25%22%7D%29%3B%0A%0A%20%20%20%20%20%20%20%20%0A%20%20%20%20%20%20%20%20%20%20%20%20var%20html_76896f6ac61646818b6f78e9f466c5d2%20%3D%20%24%28%60%3Cdiv%20id%3D%22html_76896f6ac61646818b6f78e9f466c5d2%22%20style%3D%22width%3A%20100.0%25%3B%20height%3A%20100.0%25%3B%22%3ERITE%20AID%20-%203597%3C/div%3E%60%29%5B0%5D%3B%0A%20%20%20%20%20%20%20%20%20%20%20%20popup_275efbfa151c4c60952037e7ca817280.setContent%28html_76896f6ac61646818b6f78e9f466c5d2%29%3B%0A%20%20%20%20%20%20%20%20%0A%0A%20%20%20%20%20%20%20%20marker_bc614c7742eb4f1797fd5d8738c23be9.bindPopup%28popup_275efbfa151c4c60952037e7ca817280%29%0A%20%20%20%20%20%20%20%20%3B%0A%0A%20%20%20%20%20%20%20%20%0A%20%20%20%20%0A%20%20%20%20%0A%20%20%20%20%20%20%20%20%20%20%20%20var%20marker_df732afd5f6f4a869d7e468a73970455%20%3D%20L.marker%28%0A%20%20%20%20%20%20%20%20%20%20%20%20%20%20%20%20%5B43.210132%2C%20-77.60034%5D%2C%0A%20%20%20%20%20%20%20%20%20%20%20%20%20%20%20%20%7B%7D%0A%20%20%20%20%20%20%20%20%20%20%20%20%29.addTo%28map_d4817acbd9954ed6a2046d3c6d777371%29%3B%0A%20%20%20%20%20%20%20%20%0A%20%20%20%20%0A%20%20%20%20%20%20%20%20var%20popup_fc739e03a3994a1181dbd93f52513866%20%3D%20L.popup%28%7B%22maxWidth%22%3A%20%22100%25%22%7D%29%3B%0A%0A%20%20%20%20%20%20%20%20%0A%20%20%20%20%20%20%20%20%20%20%20%20var%20html_7ad914424782484298f230d71c076b75%20%3D%20%24%28%60%3Cdiv%20id%3D%22html_7ad914424782484298f230d71c076b75%22%20style%3D%22width%3A%20100.0%25%3B%20height%3A%20100.0%25%3B%22%3ERITE%20AID%20-%204894%3C/div%3E%60%29%5B0%5D%3B%0A%20%20%20%20%20%20%20%20%20%20%20%20popup_fc739e03a3994a1181dbd93f52513866.setContent%28html_7ad914424782484298f230d71c076b75%29%3B%0A%20%20%20%20%20%20%20%20%0A%0A%20%20%20%20%20%20%20%20marker_df732afd5f6f4a869d7e468a73970455.bindPopup%28popup_fc739e03a3994a1181dbd93f52513866%29%0A%20%20%20%20%20%20%20%20%3B%0A%0A%20%20%20%20%20%20%20%20%0A%20%20%20%20%0A%20%20%20%20%0A%20%20%20%20%20%20%20%20%20%20%20%20var%20marker_7e01e4281c814d66a3922ebc8a789af5%20%3D%20L.marker%28%0A%20%20%20%20%20%20%20%20%20%20%20%20%20%20%20%20%5B43.145292%2C%20-77.593336%5D%2C%0A%20%20%20%20%20%20%20%20%20%20%20%20%20%20%20%20%7B%7D%0A%20%20%20%20%20%20%20%20%20%20%20%20%29.addTo%28map_d4817acbd9954ed6a2046d3c6d777371%29%3B%0A%20%20%20%20%20%20%20%20%0A%20%20%20%20%0A%20%20%20%20%20%20%20%20var%20popup_6befe5347a344b40bab08c798e0ee789%20%3D%20L.popup%28%7B%22maxWidth%22%3A%20%22100%25%22%7D%29%3B%0A%0A%20%20%20%20%20%20%20%20%0A%20%20%20%20%20%20%20%20%20%20%20%20var%20html_2743097a6e3242e497e50a7c88cc032a%20%3D%20%24%28%60%3Cdiv%20id%3D%22html_2743097a6e3242e497e50a7c88cc032a%22%20style%3D%22width%3A%20100.0%25%3B%20height%3A%20100.0%25%3B%22%3ERITE%20AID%20-%20602%3C/div%3E%60%29%5B0%5D%3B%0A%20%20%20%20%20%20%20%20%20%20%20%20popup_6befe5347a344b40bab08c798e0ee789.setContent%28html_2743097a6e3242e497e50a7c88cc032a%29%3B%0A%20%20%20%20%20%20%20%20%0A%0A%20%20%20%20%20%20%20%20marker_7e01e4281c814d66a3922ebc8a789af5.bindPopup%28popup_6befe5347a344b40bab08c798e0ee789%29%0A%20%20%20%20%20%20%20%20%3B%0A%0A%20%20%20%20%20%20%20%20%0A%20%20%20%20%0A%20%20%20%20%0A%20%20%20%20%20%20%20%20%20%20%20%20var%20marker_1f103c5885d44165ba7374a442c71e3b%20%3D%20L.marker%28%0A%20%20%20%20%20%20%20%20%20%20%20%20%20%20%20%20%5B43.164395%2C%20-77.638037%5D%2C%0A%20%20%20%20%20%20%20%20%20%20%20%20%20%20%20%20%7B%7D%0A%20%20%20%20%20%20%20%20%20%20%20%20%29.addTo%28map_d4817acbd9954ed6a2046d3c6d777371%29%3B%0A%20%20%20%20%20%20%20%20%0A%20%20%20%20%0A%20%20%20%20%20%20%20%20var%20popup_385b997096a54ec38943d889a20909b0%20%3D%20L.popup%28%7B%22maxWidth%22%3A%20%22100%25%22%7D%29%3B%0A%0A%20%20%20%20%20%20%20%20%0A%20%20%20%20%20%20%20%20%20%20%20%20var%20html_377244fc803b498b84aaddcdcf553d07%20%3D%20%24%28%60%3Cdiv%20id%3D%22html_377244fc803b498b84aaddcdcf553d07%22%20style%3D%22width%3A%20100.0%25%3B%20height%3A%20100.0%25%3B%22%3ERITE%20AID%20-%20613%3C/div%3E%60%29%5B0%5D%3B%0A%20%20%20%20%20%20%20%20%20%20%20%20popup_385b997096a54ec38943d889a20909b0.setContent%28html_377244fc803b498b84aaddcdcf553d07%29%3B%0A%20%20%20%20%20%20%20%20%0A%0A%20%20%20%20%20%20%20%20marker_1f103c5885d44165ba7374a442c71e3b.bindPopup%28popup_385b997096a54ec38943d889a20909b0%29%0A%20%20%20%20%20%20%20%20%3B%0A%0A%20%20%20%20%20%20%20%20%0A%20%20%20%20%0A%20%20%20%20%0A%20%20%20%20%20%20%20%20%20%20%20%20var%20marker_b48d26b19c3a45a4888b468f7fdcb37d%20%3D%20L.marker%28%0A%20%20%20%20%20%20%20%20%20%20%20%20%20%20%20%20%5B43.223129%2C%20-77.64059499999999%5D%2C%0A%20%20%20%20%20%20%20%20%20%20%20%20%20%20%20%20%7B%7D%0A%20%20%20%20%20%20%20%20%20%20%20%20%29.addTo%28map_d4817acbd9954ed6a2046d3c6d777371%29%3B%0A%20%20%20%20%20%20%20%20%0A%20%20%20%20%0A%20%20%20%20%20%20%20%20var%20popup_f7a7ae40c959471a9257bc4c3767cb02%20%3D%20L.popup%28%7B%22maxWidth%22%3A%20%22100%25%22%7D%29%3B%0A%0A%20%20%20%20%20%20%20%20%0A%20%20%20%20%20%20%20%20%20%20%20%20var%20html_2a77ac3c284146fcb7fb82585fa72673%20%3D%20%24%28%60%3Cdiv%20id%3D%22html_2a77ac3c284146fcb7fb82585fa72673%22%20style%3D%22width%3A%20100.0%25%3B%20height%3A%20100.0%25%3B%22%3ERITE%20AID%20-%20614%3C/div%3E%60%29%5B0%5D%3B%0A%20%20%20%20%20%20%20%20%20%20%20%20popup_f7a7ae40c959471a9257bc4c3767cb02.setContent%28html_2a77ac3c284146fcb7fb82585fa72673%29%3B%0A%20%20%20%20%20%20%20%20%0A%0A%20%20%20%20%20%20%20%20marker_b48d26b19c3a45a4888b468f7fdcb37d.bindPopup%28popup_f7a7ae40c959471a9257bc4c3767cb02%29%0A%20%20%20%20%20%20%20%20%3B%0A%0A%20%20%20%20%20%20%20%20%0A%20%20%20%20%0A%20%20%20%20%0A%20%20%20%20%20%20%20%20%20%20%20%20var%20marker_b4ad9fa716644b98a76a80a690987ee6%20%3D%20L.marker%28%0A%20%20%20%20%20%20%20%20%20%20%20%20%20%20%20%20%5B43.151008000000004%2C%20-77.634062%5D%2C%0A%20%20%20%20%20%20%20%20%20%20%20%20%20%20%20%20%7B%7D%0A%20%20%20%20%20%20%20%20%20%20%20%20%29.addTo%28map_d4817acbd9954ed6a2046d3c6d777371%29%3B%0A%20%20%20%20%20%20%20%20%0A%20%20%20%20%0A%20%20%20%20%20%20%20%20var%20popup_2adfeadc4b8b48848ce5ce680b39daeb%20%3D%20L.popup%28%7B%22maxWidth%22%3A%20%22100%25%22%7D%29%3B%0A%0A%20%20%20%20%20%20%20%20%0A%20%20%20%20%20%20%20%20%20%20%20%20var%20html_220fcd6eb39b4487be156ff6d22c7cfa%20%3D%20%24%28%60%3Cdiv%20id%3D%22html_220fcd6eb39b4487be156ff6d22c7cfa%22%20style%3D%22width%3A%20100.0%25%3B%20height%3A%20100.0%25%3B%22%3ERITE%20AID%20-%20615%3C/div%3E%60%29%5B0%5D%3B%0A%20%20%20%20%20%20%20%20%20%20%20%20popup_2adfeadc4b8b48848ce5ce680b39daeb.setContent%28html_220fcd6eb39b4487be156ff6d22c7cfa%29%3B%0A%20%20%20%20%20%20%20%20%0A%0A%20%20%20%20%20%20%20%20marker_b4ad9fa716644b98a76a80a690987ee6.bindPopup%28popup_2adfeadc4b8b48848ce5ce680b39daeb%29%0A%20%20%20%20%20%20%20%20%3B%0A%0A%20%20%20%20%20%20%20%20%0A%20%20%20%20%0A%20%20%20%20%0A%20%20%20%20%20%20%20%20%20%20%20%20var%20marker_071c1e83d826429abc50232c6c7028ba%20%3D%20L.marker%28%0A%20%20%20%20%20%20%20%20%20%20%20%20%20%20%20%20%5B43.171921999999995%2C%20-77.560638%5D%2C%0A%20%20%20%20%20%20%20%20%20%20%20%20%20%20%20%20%7B%7D%0A%20%20%20%20%20%20%20%20%20%20%20%20%29.addTo%28map_d4817acbd9954ed6a2046d3c6d777371%29%3B%0A%20%20%20%20%20%20%20%20%0A%20%20%20%20%0A%20%20%20%20%20%20%20%20var%20popup_c28dd77d16554508bba5d48e6c3a782f%20%3D%20L.popup%28%7B%22maxWidth%22%3A%20%22100%25%22%7D%29%3B%0A%0A%20%20%20%20%20%20%20%20%0A%20%20%20%20%20%20%20%20%20%20%20%20var%20html_7d4bcdd9454b4225a97aab60b2b21285%20%3D%20%24%28%60%3Cdiv%20id%3D%22html_7d4bcdd9454b4225a97aab60b2b21285%22%20style%3D%22width%3A%20100.0%25%3B%20height%3A%20100.0%25%3B%22%3ERITE%20AID%20-%20617%3C/div%3E%60%29%5B0%5D%3B%0A%20%20%20%20%20%20%20%20%20%20%20%20popup_c28dd77d16554508bba5d48e6c3a782f.setContent%28html_7d4bcdd9454b4225a97aab60b2b21285%29%3B%0A%20%20%20%20%20%20%20%20%0A%0A%20%20%20%20%20%20%20%20marker_071c1e83d826429abc50232c6c7028ba.bindPopup%28popup_c28dd77d16554508bba5d48e6c3a782f%29%0A%20%20%20%20%20%20%20%20%3B%0A%0A%20%20%20%20%20%20%20%20%0A%20%20%20%20%0A%20%20%20%20%0A%20%20%20%20%20%20%20%20%20%20%20%20var%20marker_8eb9f0bdf72a48a39eaf0a5bff1fd7ee%20%3D%20L.marker%28%0A%20%20%20%20%20%20%20%20%20%20%20%20%20%20%20%20%5B43.168956%2C%20-77.57895400000001%5D%2C%0A%20%20%20%20%20%20%20%20%20%20%20%20%20%20%20%20%7B%7D%0A%20%20%20%20%20%20%20%20%20%20%20%20%29.addTo%28map_d4817acbd9954ed6a2046d3c6d777371%29%3B%0A%20%20%20%20%20%20%20%20%0A%20%20%20%20%0A%20%20%20%20%20%20%20%20var%20popup_fe21683c0bec42fa92ad386982ae0c63%20%3D%20L.popup%28%7B%22maxWidth%22%3A%20%22100%25%22%7D%29%3B%0A%0A%20%20%20%20%20%20%20%20%0A%20%20%20%20%20%20%20%20%20%20%20%20var%20html_eaf7511d288a4dafbbdf7003da507a18%20%3D%20%24%28%60%3Cdiv%20id%3D%22html_eaf7511d288a4dafbbdf7003da507a18%22%20style%3D%22width%3A%20100.0%25%3B%20height%3A%20100.0%25%3B%22%3ERITE%20AID%20-%20621%3C/div%3E%60%29%5B0%5D%3B%0A%20%20%20%20%20%20%20%20%20%20%20%20popup_fe21683c0bec42fa92ad386982ae0c63.setContent%28html_eaf7511d288a4dafbbdf7003da507a18%29%3B%0A%20%20%20%20%20%20%20%20%0A%0A%20%20%20%20%20%20%20%20marker_8eb9f0bdf72a48a39eaf0a5bff1fd7ee.bindPopup%28popup_fe21683c0bec42fa92ad386982ae0c63%29%0A%20%20%20%20%20%20%20%20%3B%0A%0A%20%20%20%20%20%20%20%20%0A%20%20%20%20%0A%20%20%20%20%0A%20%20%20%20%20%20%20%20%20%20%20%20var%20marker_075fe3ee69214b49a3d08c5d4fe31bd0%20%3D%20L.marker%28%0A%20%20%20%20%20%20%20%20%20%20%20%20%20%20%20%20%5B43.205452%2C%20-77.664898%5D%2C%0A%20%20%20%20%20%20%20%20%20%20%20%20%20%20%20%20%7B%7D%0A%20%20%20%20%20%20%20%20%20%20%20%20%29.addTo%28map_d4817acbd9954ed6a2046d3c6d777371%29%3B%0A%20%20%20%20%20%20%20%20%0A%20%20%20%20%0A%20%20%20%20%20%20%20%20var%20popup_cac7c70b68a7486cb1147510b37ff69e%20%3D%20L.popup%28%7B%22maxWidth%22%3A%20%22100%25%22%7D%29%3B%0A%0A%20%20%20%20%20%20%20%20%0A%20%20%20%20%20%20%20%20%20%20%20%20var%20html_6a4760b971a4458d929ae7b92c2d97ce%20%3D%20%24%28%60%3Cdiv%20id%3D%22html_6a4760b971a4458d929ae7b92c2d97ce%22%20style%3D%22width%3A%20100.0%25%3B%20height%3A%20100.0%25%3B%22%3ERITE%20AID%20-%20623%3C/div%3E%60%29%5B0%5D%3B%0A%20%20%20%20%20%20%20%20%20%20%20%20popup_cac7c70b68a7486cb1147510b37ff69e.setContent%28html_6a4760b971a4458d929ae7b92c2d97ce%29%3B%0A%20%20%20%20%20%20%20%20%0A%0A%20%20%20%20%20%20%20%20marker_075fe3ee69214b49a3d08c5d4fe31bd0.bindPopup%28popup_cac7c70b68a7486cb1147510b37ff69e%29%0A%20%20%20%20%20%20%20%20%3B%0A%0A%20%20%20%20%20%20%20%20%0A%20%20%20%20%0A%20%20%20%20%0A%20%20%20%20%20%20%20%20%20%20%20%20var%20marker_5e13bc7169004d55acc27055ad9ccc25%20%3D%20L.marker%28%0A%20%20%20%20%20%20%20%20%20%20%20%20%20%20%20%20%5B43.177102000000005%2C%20-77.613022%5D%2C%0A%20%20%20%20%20%20%20%20%20%20%20%20%20%20%20%20%7B%7D%0A%20%20%20%20%20%20%20%20%20%20%20%20%29.addTo%28map_d4817acbd9954ed6a2046d3c6d777371%29%3B%0A%20%20%20%20%20%20%20%20%0A%20%20%20%20%0A%20%20%20%20%20%20%20%20var%20popup_aff9dd4e3ebd4bd5b3bafc7208d09e63%20%3D%20L.popup%28%7B%22maxWidth%22%3A%20%22100%25%22%7D%29%3B%0A%0A%20%20%20%20%20%20%20%20%0A%20%20%20%20%20%20%20%20%20%20%20%20var%20html_ad644a969e614cbeba55d447700a1148%20%3D%20%24%28%60%3Cdiv%20id%3D%22html_ad644a969e614cbeba55d447700a1148%22%20style%3D%22width%3A%20100.0%25%3B%20height%3A%20100.0%25%3B%22%3ERITE%20AID%20-%20629%3C/div%3E%60%29%5B0%5D%3B%0A%20%20%20%20%20%20%20%20%20%20%20%20popup_aff9dd4e3ebd4bd5b3bafc7208d09e63.setContent%28html_ad644a969e614cbeba55d447700a1148%29%3B%0A%20%20%20%20%20%20%20%20%0A%0A%20%20%20%20%20%20%20%20marker_5e13bc7169004d55acc27055ad9ccc25.bindPopup%28popup_aff9dd4e3ebd4bd5b3bafc7208d09e63%29%0A%20%20%20%20%20%20%20%20%3B%0A%0A%20%20%20%20%20%20%20%20%0A%20%20%20%20%0A%20%20%20%20%0A%20%20%20%20%20%20%20%20%20%20%20%20var%20marker_331f213ff4234d3a9c83bfa23fe0ad5b%20%3D%20L.marker%28%0A%20%20%20%20%20%20%20%20%20%20%20%20%20%20%20%20%5B43.104251%2C%20-77.74679499999999%5D%2C%0A%20%20%20%20%20%20%20%20%20%20%20%20%20%20%20%20%7B%7D%0A%20%20%20%20%20%20%20%20%20%20%20%20%29.addTo%28map_d4817acbd9954ed6a2046d3c6d777371%29%3B%0A%20%20%20%20%20%20%20%20%0A%20%20%20%20%0A%20%20%20%20%20%20%20%20var%20popup_19767564c10049169f152b67fd563ee6%20%3D%20L.popup%28%7B%22maxWidth%22%3A%20%22100%25%22%7D%29%3B%0A%0A%20%20%20%20%20%20%20%20%0A%20%20%20%20%20%20%20%20%20%20%20%20var%20html_0b4842ab2dda47e09b20f05234f91bad%20%3D%20%24%28%60%3Cdiv%20id%3D%22html_0b4842ab2dda47e09b20f05234f91bad%22%20style%3D%22width%3A%20100.0%25%3B%20height%3A%20100.0%25%3B%22%3ETARGET%3C/div%3E%60%29%5B0%5D%3B%0A%20%20%20%20%20%20%20%20%20%20%20%20popup_19767564c10049169f152b67fd563ee6.setContent%28html_0b4842ab2dda47e09b20f05234f91bad%29%3B%0A%20%20%20%20%20%20%20%20%0A%0A%20%20%20%20%20%20%20%20marker_331f213ff4234d3a9c83bfa23fe0ad5b.bindPopup%28popup_19767564c10049169f152b67fd563ee6%29%0A%20%20%20%20%20%20%20%20%3B%0A%0A%20%20%20%20%20%20%20%20%0A%20%20%20%20%0A%20%20%20%20%0A%20%20%20%20%20%20%20%20%20%20%20%20var%20marker_1e3d2e1e304042fb9f6cb9996003014b%20%3D%20L.marker%28%0A%20%20%20%20%20%20%20%20%20%20%20%20%20%20%20%20%5B43.202773%2C%20-77.692234%5D%2C%0A%20%20%20%20%20%20%20%20%20%20%20%20%20%20%20%20%7B%7D%0A%20%20%20%20%20%20%20%20%20%20%20%20%29.addTo%28map_d4817acbd9954ed6a2046d3c6d777371%29%3B%0A%20%20%20%20%20%20%20%20%0A%20%20%20%20%0A%20%20%20%20%20%20%20%20var%20popup_2609104515464f87bc30ad8e968d666d%20%3D%20L.popup%28%7B%22maxWidth%22%3A%20%22100%25%22%7D%29%3B%0A%0A%20%20%20%20%20%20%20%20%0A%20%20%20%20%20%20%20%20%20%20%20%20var%20html_2949038eaba441449f99034f89986b04%20%3D%20%24%28%60%3Cdiv%20id%3D%22html_2949038eaba441449f99034f89986b04%22%20style%3D%22width%3A%20100.0%25%3B%20height%3A%20100.0%25%3B%22%3ETARGET%3C/div%3E%60%29%5B0%5D%3B%0A%20%20%20%20%20%20%20%20%20%20%20%20popup_2609104515464f87bc30ad8e968d666d.setContent%28html_2949038eaba441449f99034f89986b04%29%3B%0A%20%20%20%20%20%20%20%20%0A%0A%20%20%20%20%20%20%20%20marker_1e3d2e1e304042fb9f6cb9996003014b.bindPopup%28popup_2609104515464f87bc30ad8e968d666d%29%0A%20%20%20%20%20%20%20%20%3B%0A%0A%20%20%20%20%20%20%20%20%0A%20%20%20%20%0A%20%20%20%20%0A%20%20%20%20%20%20%20%20%20%20%20%20var%20marker_25b6b6d53fa34f148bc832a955c810a8%20%3D%20L.marker%28%0A%20%20%20%20%20%20%20%20%20%20%20%20%20%20%20%20%5B43.128130999999996%2C%20-77.443888%5D%2C%0A%20%20%20%20%20%20%20%20%20%20%20%20%20%20%20%20%7B%7D%0A%20%20%20%20%20%20%20%20%20%20%20%20%29.addTo%28map_d4817acbd9954ed6a2046d3c6d777371%29%3B%0A%20%20%20%20%20%20%20%20%0A%20%20%20%20%0A%20%20%20%20%20%20%20%20var%20popup_9223527dea274791bb708a6480ed2335%20%3D%20L.popup%28%7B%22maxWidth%22%3A%20%22100%25%22%7D%29%3B%0A%0A%20%20%20%20%20%20%20%20%0A%20%20%20%20%20%20%20%20%20%20%20%20var%20html_bf4076860d714b18b8b952ac0a0065d6%20%3D%20%24%28%60%3Cdiv%20id%3D%22html_bf4076860d714b18b8b952ac0a0065d6%22%20style%3D%22width%3A%20100.0%25%3B%20height%3A%20100.0%25%3B%22%3ETARGET%3C/div%3E%60%29%5B0%5D%3B%0A%20%20%20%20%20%20%20%20%20%20%20%20popup_9223527dea274791bb708a6480ed2335.setContent%28html_bf4076860d714b18b8b952ac0a0065d6%29%3B%0A%20%20%20%20%20%20%20%20%0A%0A%20%20%20%20%20%20%20%20marker_25b6b6d53fa34f148bc832a955c810a8.bindPopup%28popup_9223527dea274791bb708a6480ed2335%29%0A%20%20%20%20%20%20%20%20%3B%0A%0A%20%20%20%20%20%20%20%20%0A%20%20%20%20%0A%20%20%20%20%0A%20%20%20%20%20%20%20%20%20%20%20%20var%20marker_e9448d26466e49819a77cf6f527f4b12%20%3D%20L.marker%28%0A%20%20%20%20%20%20%20%20%20%20%20%20%20%20%20%20%5B43.077940999999996%2C%20-77.632423%5D%2C%0A%20%20%20%20%20%20%20%20%20%20%20%20%20%20%20%20%7B%7D%0A%20%20%20%20%20%20%20%20%20%20%20%20%29.addTo%28map_d4817acbd9954ed6a2046d3c6d777371%29%3B%0A%20%20%20%20%20%20%20%20%0A%20%20%20%20%0A%20%20%20%20%20%20%20%20var%20popup_376b581c2b9f4a69848a62341db21315%20%3D%20L.popup%28%7B%22maxWidth%22%3A%20%22100%25%22%7D%29%3B%0A%0A%20%20%20%20%20%20%20%20%0A%20%20%20%20%20%20%20%20%20%20%20%20var%20html_1491c1dc094f46fbbf0c842978a7877b%20%3D%20%24%28%60%3Cdiv%20id%3D%22html_1491c1dc094f46fbbf0c842978a7877b%22%20style%3D%22width%3A%20100.0%25%3B%20height%3A%20100.0%25%3B%22%3ETARGET%3C/div%3E%60%29%5B0%5D%3B%0A%20%20%20%20%20%20%20%20%20%20%20%20popup_376b581c2b9f4a69848a62341db21315.setContent%28html_1491c1dc094f46fbbf0c842978a7877b%29%3B%0A%20%20%20%20%20%20%20%20%0A%0A%20%20%20%20%20%20%20%20marker_e9448d26466e49819a77cf6f527f4b12.bindPopup%28popup_376b581c2b9f4a69848a62341db21315%29%0A%20%20%20%20%20%20%20%20%3B%0A%0A%20%20%20%20%20%20%20%20%0A%20%20%20%20%0A%20%20%20%20%0A%20%20%20%20%20%20%20%20%20%20%20%20var%20marker_ccdb13aa37164fb7b372cd75b3b4ecaa%20%3D%20L.marker%28%0A%20%20%20%20%20%20%20%20%20%20%20%20%20%20%20%20%5B43.197505%2C%20-77.574425%5D%2C%0A%20%20%20%20%20%20%20%20%20%20%20%20%20%20%20%20%7B%7D%0A%20%20%20%20%20%20%20%20%20%20%20%20%29.addTo%28map_d4817acbd9954ed6a2046d3c6d777371%29%3B%0A%20%20%20%20%20%20%20%20%0A%20%20%20%20%0A%20%20%20%20%20%20%20%20var%20popup_9b7cd10bffa54db78af7f43a14e7f80f%20%3D%20L.popup%28%7B%22maxWidth%22%3A%20%22100%25%22%7D%29%3B%0A%0A%20%20%20%20%20%20%20%20%0A%20%20%20%20%20%20%20%20%20%20%20%20var%20html_158eaf9649ea4c08afbce4a07c6260a1%20%3D%20%24%28%60%3Cdiv%20id%3D%22html_158eaf9649ea4c08afbce4a07c6260a1%22%20style%3D%22width%3A%20100.0%25%3B%20height%3A%20100.0%25%3B%22%3ETARGET%3C/div%3E%60%29%5B0%5D%3B%0A%20%20%20%20%20%20%20%20%20%20%20%20popup_9b7cd10bffa54db78af7f43a14e7f80f.setContent%28html_158eaf9649ea4c08afbce4a07c6260a1%29%3B%0A%20%20%20%20%20%20%20%20%0A%0A%20%20%20%20%20%20%20%20marker_ccdb13aa37164fb7b372cd75b3b4ecaa.bindPopup%28popup_9b7cd10bffa54db78af7f43a14e7f80f%29%0A%20%20%20%20%20%20%20%20%3B%0A%0A%20%20%20%20%20%20%20%20%0A%20%20%20%20%0A%20%20%20%20%0A%20%20%20%20%20%20%20%20%20%20%20%20var%20marker_0901e7dfd4034fdcb171a49c7d903c05%20%3D%20L.marker%28%0A%20%20%20%20%20%20%20%20%20%20%20%20%20%20%20%20%5B43.210961%2C%20-77.450737%5D%2C%0A%20%20%20%20%20%20%20%20%20%20%20%20%20%20%20%20%7B%7D%0A%20%20%20%20%20%20%20%20%20%20%20%20%29.addTo%28map_d4817acbd9954ed6a2046d3c6d777371%29%3B%0A%20%20%20%20%20%20%20%20%0A%20%20%20%20%0A%20%20%20%20%20%20%20%20var%20popup_4913400b73bb42028504c83daedaadb5%20%3D%20L.popup%28%7B%22maxWidth%22%3A%20%22100%25%22%7D%29%3B%0A%0A%20%20%20%20%20%20%20%20%0A%20%20%20%20%20%20%20%20%20%20%20%20var%20html_5ef7d1880adc4e62b2abbe9268aa4d0a%20%3D%20%24%28%60%3Cdiv%20id%3D%22html_5ef7d1880adc4e62b2abbe9268aa4d0a%22%20style%3D%22width%3A%20100.0%25%3B%20height%3A%20100.0%25%3B%22%3ETARGET%3C/div%3E%60%29%5B0%5D%3B%0A%20%20%20%20%20%20%20%20%20%20%20%20popup_4913400b73bb42028504c83daedaadb5.setContent%28html_5ef7d1880adc4e62b2abbe9268aa4d0a%29%3B%0A%20%20%20%20%20%20%20%20%0A%0A%20%20%20%20%20%20%20%20marker_0901e7dfd4034fdcb171a49c7d903c05.bindPopup%28popup_4913400b73bb42028504c83daedaadb5%29%0A%20%20%20%20%20%20%20%20%3B%0A%0A%20%20%20%20%20%20%20%20%0A%20%20%20%20%0A%20%20%20%20%0A%20%20%20%20%20%20%20%20%20%20%20%20var%20marker_a751d4c9fd8b4156979dfffd0b31dfa1%20%3D%20L.marker%28%0A%20%20%20%20%20%20%20%20%20%20%20%20%20%20%20%20%5B43.120696%2C%20-77.804726%5D%2C%0A%20%20%20%20%20%20%20%20%20%20%20%20%20%20%20%20%7B%7D%0A%20%20%20%20%20%20%20%20%20%20%20%20%29.addTo%28map_d4817acbd9954ed6a2046d3c6d777371%29%3B%0A%20%20%20%20%20%20%20%20%0A%20%20%20%20%0A%20%20%20%20%20%20%20%20var%20popup_a6e64967fe074d6da35e9f549871ed5e%20%3D%20L.popup%28%7B%22maxWidth%22%3A%20%22100%25%22%7D%29%3B%0A%0A%20%20%20%20%20%20%20%20%0A%20%20%20%20%20%20%20%20%20%20%20%20var%20html_8fad5550d3574975846a2a70838a51a5%20%3D%20%24%28%60%3Cdiv%20id%3D%22html_8fad5550d3574975846a2a70838a51a5%22%20style%3D%22width%3A%20100.0%25%3B%20height%3A%20100.0%25%3B%22%3EWALGREENS%20-%2010382%3C/div%3E%60%29%5B0%5D%3B%0A%20%20%20%20%20%20%20%20%20%20%20%20popup_a6e64967fe074d6da35e9f549871ed5e.setContent%28html_8fad5550d3574975846a2a70838a51a5%29%3B%0A%20%20%20%20%20%20%20%20%0A%0A%20%20%20%20%20%20%20%20marker_a751d4c9fd8b4156979dfffd0b31dfa1.bindPopup%28popup_a6e64967fe074d6da35e9f549871ed5e%29%0A%20%20%20%20%20%20%20%20%3B%0A%0A%20%20%20%20%20%20%20%20%0A%20%20%20%20%0A%20%20%20%20%0A%20%20%20%20%20%20%20%20%20%20%20%20var%20marker_572d6267abbc4c9b95e90d049df4a79d%20%3D%20L.marker%28%0A%20%20%20%20%20%20%20%20%20%20%20%20%20%20%20%20%5B43.067954%2C%20-77.609199%5D%2C%0A%20%20%20%20%20%20%20%20%20%20%20%20%20%20%20%20%7B%7D%0A%20%20%20%20%20%20%20%20%20%20%20%20%29.addTo%28map_d4817acbd9954ed6a2046d3c6d777371%29%3B%0A%20%20%20%20%20%20%20%20%0A%20%20%20%20%0A%20%20%20%20%20%20%20%20var%20popup_c165effb589a4dd8b49a195a5c0837bb%20%3D%20L.popup%28%7B%22maxWidth%22%3A%20%22100%25%22%7D%29%3B%0A%0A%20%20%20%20%20%20%20%20%0A%20%20%20%20%20%20%20%20%20%20%20%20var%20html_5f1f00b669b442b486812f92742dc2f1%20%3D%20%24%28%60%3Cdiv%20id%3D%22html_5f1f00b669b442b486812f92742dc2f1%22%20style%3D%22width%3A%20100.0%25%3B%20height%3A%20100.0%25%3B%22%3EWALGREENS%20-%2010511%3C/div%3E%60%29%5B0%5D%3B%0A%20%20%20%20%20%20%20%20%20%20%20%20popup_c165effb589a4dd8b49a195a5c0837bb.setContent%28html_5f1f00b669b442b486812f92742dc2f1%29%3B%0A%20%20%20%20%20%20%20%20%0A%0A%20%20%20%20%20%20%20%20marker_572d6267abbc4c9b95e90d049df4a79d.bindPopup%28popup_c165effb589a4dd8b49a195a5c0837bb%29%0A%20%20%20%20%20%20%20%20%3B%0A%0A%20%20%20%20%20%20%20%20%0A%20%20%20%20%0A%20%20%20%20%0A%20%20%20%20%20%20%20%20%20%20%20%20var%20marker_59473af92c004c70b4ab8a98054f6272%20%3D%20L.marker%28%0A%20%20%20%20%20%20%20%20%20%20%20%20%20%20%20%20%5B43.196692999999996%2C%20-77.599618%5D%2C%0A%20%20%20%20%20%20%20%20%20%20%20%20%20%20%20%20%7B%7D%0A%20%20%20%20%20%20%20%20%20%20%20%20%29.addTo%28map_d4817acbd9954ed6a2046d3c6d777371%29%3B%0A%20%20%20%20%20%20%20%20%0A%20%20%20%20%0A%20%20%20%20%20%20%20%20var%20popup_434adcc6c44c4c5eb1be06394bd3849b%20%3D%20L.popup%28%7B%22maxWidth%22%3A%20%22100%25%22%7D%29%3B%0A%0A%20%20%20%20%20%20%20%20%0A%20%20%20%20%20%20%20%20%20%20%20%20var%20html_acf19e09022a4c9184e5d63220e7b753%20%3D%20%24%28%60%3Cdiv%20id%3D%22html_acf19e09022a4c9184e5d63220e7b753%22%20style%3D%22width%3A%20100.0%25%3B%20height%3A%20100.0%25%3B%22%3EWALGREENS%20-%2010512%3C/div%3E%60%29%5B0%5D%3B%0A%20%20%20%20%20%20%20%20%20%20%20%20popup_434adcc6c44c4c5eb1be06394bd3849b.setContent%28html_acf19e09022a4c9184e5d63220e7b753%29%3B%0A%20%20%20%20%20%20%20%20%0A%0A%20%20%20%20%20%20%20%20marker_59473af92c004c70b4ab8a98054f6272.bindPopup%28popup_434adcc6c44c4c5eb1be06394bd3849b%29%0A%20%20%20%20%20%20%20%20%3B%0A%0A%20%20%20%20%20%20%20%20%0A%20%20%20%20%0A%20%20%20%20%0A%20%20%20%20%20%20%20%20%20%20%20%20var%20marker_24252e98f2524e3990f4e97aae446ab6%20%3D%20L.marker%28%0A%20%20%20%20%20%20%20%20%20%20%20%20%20%20%20%20%5B43.107755%2C%20-77.743533%5D%2C%0A%20%20%20%20%20%20%20%20%20%20%20%20%20%20%20%20%7B%7D%0A%20%20%20%20%20%20%20%20%20%20%20%20%29.addTo%28map_d4817acbd9954ed6a2046d3c6d777371%29%3B%0A%20%20%20%20%20%20%20%20%0A%20%20%20%20%0A%20%20%20%20%20%20%20%20var%20popup_dcfc8b3d520a410092cc911543706095%20%3D%20L.popup%28%7B%22maxWidth%22%3A%20%22100%25%22%7D%29%3B%0A%0A%20%20%20%20%20%20%20%20%0A%20%20%20%20%20%20%20%20%20%20%20%20var%20html_12a6e6ada50c4e24a5868b1c6a381a2a%20%3D%20%24%28%60%3Cdiv%20id%3D%22html_12a6e6ada50c4e24a5868b1c6a381a2a%22%20style%3D%22width%3A%20100.0%25%3B%20height%3A%20100.0%25%3B%22%3EWALGREENS%20-%2011208%3C/div%3E%60%29%5B0%5D%3B%0A%20%20%20%20%20%20%20%20%20%20%20%20popup_dcfc8b3d520a410092cc911543706095.setContent%28html_12a6e6ada50c4e24a5868b1c6a381a2a%29%3B%0A%20%20%20%20%20%20%20%20%0A%0A%20%20%20%20%20%20%20%20marker_24252e98f2524e3990f4e97aae446ab6.bindPopup%28popup_dcfc8b3d520a410092cc911543706095%29%0A%20%20%20%20%20%20%20%20%3B%0A%0A%20%20%20%20%20%20%20%20%0A%20%20%20%20%0A%20%20%20%20%0A%20%20%20%20%20%20%20%20%20%20%20%20var%20marker_3a74ae837ad5498d9706cde349b80b2e%20%3D%20L.marker%28%0A%20%20%20%20%20%20%20%20%20%20%20%20%20%20%20%20%5B43.069094%2C%20-77.443065%5D%2C%0A%20%20%20%20%20%20%20%20%20%20%20%20%20%20%20%20%7B%7D%0A%20%20%20%20%20%20%20%20%20%20%20%20%29.addTo%28map_d4817acbd9954ed6a2046d3c6d777371%29%3B%0A%20%20%20%20%20%20%20%20%0A%20%20%20%20%0A%20%20%20%20%20%20%20%20var%20popup_9f2c81d9b1874069800b9fc8718018b4%20%3D%20L.popup%28%7B%22maxWidth%22%3A%20%22100%25%22%7D%29%3B%0A%0A%20%20%20%20%20%20%20%20%0A%20%20%20%20%20%20%20%20%20%20%20%20var%20html_3479c9687ca140a4b07aea15507c9f59%20%3D%20%24%28%60%3Cdiv%20id%3D%22html_3479c9687ca140a4b07aea15507c9f59%22%20style%3D%22width%3A%20100.0%25%3B%20height%3A%20100.0%25%3B%22%3EWALGREENS%20-%2011377%3C/div%3E%60%29%5B0%5D%3B%0A%20%20%20%20%20%20%20%20%20%20%20%20popup_9f2c81d9b1874069800b9fc8718018b4.setContent%28html_3479c9687ca140a4b07aea15507c9f59%29%3B%0A%20%20%20%20%20%20%20%20%0A%0A%20%20%20%20%20%20%20%20marker_3a74ae837ad5498d9706cde349b80b2e.bindPopup%28popup_9f2c81d9b1874069800b9fc8718018b4%29%0A%20%20%20%20%20%20%20%20%3B%0A%0A%20%20%20%20%20%20%20%20%0A%20%20%20%20%0A%20%20%20%20%0A%20%20%20%20%20%20%20%20%20%20%20%20var%20marker_1e7f0f8405c045d59253b69b9a3974ee%20%3D%20L.marker%28%0A%20%20%20%20%20%20%20%20%20%20%20%20%20%20%20%20%5B43.126233%2C%20-77.593418%5D%2C%0A%20%20%20%20%20%20%20%20%20%20%20%20%20%20%20%20%7B%7D%0A%20%20%20%20%20%20%20%20%20%20%20%20%29.addTo%28map_d4817acbd9954ed6a2046d3c6d777371%29%3B%0A%20%20%20%20%20%20%20%20%0A%20%20%20%20%0A%20%20%20%20%20%20%20%20var%20popup_66804671eb5a4c808661f9fa74c82035%20%3D%20L.popup%28%7B%22maxWidth%22%3A%20%22100%25%22%7D%29%3B%0A%0A%20%20%20%20%20%20%20%20%0A%20%20%20%20%20%20%20%20%20%20%20%20var%20html_ecd99662a85446968a87942e44ab5f8a%20%3D%20%24%28%60%3Cdiv%20id%3D%22html_ecd99662a85446968a87942e44ab5f8a%22%20style%3D%22width%3A%20100.0%25%3B%20height%3A%20100.0%25%3B%22%3EWALGREENS%20-%209584%3C/div%3E%60%29%5B0%5D%3B%0A%20%20%20%20%20%20%20%20%20%20%20%20popup_66804671eb5a4c808661f9fa74c82035.setContent%28html_ecd99662a85446968a87942e44ab5f8a%29%3B%0A%20%20%20%20%20%20%20%20%0A%0A%20%20%20%20%20%20%20%20marker_1e7f0f8405c045d59253b69b9a3974ee.bindPopup%28popup_66804671eb5a4c808661f9fa74c82035%29%0A%20%20%20%20%20%20%20%20%3B%0A%0A%20%20%20%20%20%20%20%20%0A%20%20%20%20%0A%20%20%20%20%0A%20%20%20%20%20%20%20%20%20%20%20%20var%20marker_5ffc6b750e504644923f20311429d6b1%20%3D%20L.marker%28%0A%20%20%20%20%20%20%20%20%20%20%20%20%20%20%20%20%5B43.170133%2C%20-77.70057299999999%5D%2C%0A%20%20%20%20%20%20%20%20%20%20%20%20%20%20%20%20%7B%7D%0A%20%20%20%20%20%20%20%20%20%20%20%20%29.addTo%28map_d4817acbd9954ed6a2046d3c6d777371%29%3B%0A%20%20%20%20%20%20%20%20%0A%20%20%20%20%0A%20%20%20%20%20%20%20%20var%20popup_5ef6b8be5230473e94c725284b8d1de3%20%3D%20L.popup%28%7B%22maxWidth%22%3A%20%22100%25%22%7D%29%3B%0A%0A%20%20%20%20%20%20%20%20%0A%20%20%20%20%20%20%20%20%20%20%20%20var%20html_0919b016e3bc4c4eafab5a80dab9935f%20%3D%20%24%28%60%3Cdiv%20id%3D%22html_0919b016e3bc4c4eafab5a80dab9935f%22%20style%3D%22width%3A%20100.0%25%3B%20height%3A%20100.0%25%3B%22%3EWALGREENS%20-%209585%3C/div%3E%60%29%5B0%5D%3B%0A%20%20%20%20%20%20%20%20%20%20%20%20popup_5ef6b8be5230473e94c725284b8d1de3.setContent%28html_0919b016e3bc4c4eafab5a80dab9935f%29%3B%0A%20%20%20%20%20%20%20%20%0A%0A%20%20%20%20%20%20%20%20marker_5ffc6b750e504644923f20311429d6b1.bindPopup%28popup_5ef6b8be5230473e94c725284b8d1de3%29%0A%20%20%20%20%20%20%20%20%3B%0A%0A%20%20%20%20%20%20%20%20%0A%20%20%20%20%0A%20%20%20%20%0A%20%20%20%20%20%20%20%20%20%20%20%20var%20marker_e0fabc4b1a2849e0b13a02ca4442632c%20%3D%20L.marker%28%0A%20%20%20%20%20%20%20%20%20%20%20%20%20%20%20%20%5B43.204132%2C%20-77.56121%5D%2C%0A%20%20%20%20%20%20%20%20%20%20%20%20%20%20%20%20%7B%7D%0A%20%20%20%20%20%20%20%20%20%20%20%20%29.addTo%28map_d4817acbd9954ed6a2046d3c6d777371%29%3B%0A%20%20%20%20%20%20%20%20%0A%20%20%20%20%0A%20%20%20%20%20%20%20%20var%20popup_85b30374a363456dbfe2a268a4ebe29c%20%3D%20L.popup%28%7B%22maxWidth%22%3A%20%22100%25%22%7D%29%3B%0A%0A%20%20%20%20%20%20%20%20%0A%20%20%20%20%20%20%20%20%20%20%20%20var%20html_c03d26470af44ddfa8cd4ddefa750b7d%20%3D%20%24%28%60%3Cdiv%20id%3D%22html_c03d26470af44ddfa8cd4ddefa750b7d%22%20style%3D%22width%3A%20100.0%25%3B%20height%3A%20100.0%25%3B%22%3EWALGREENS%20-%209758%3C/div%3E%60%29%5B0%5D%3B%0A%20%20%20%20%20%20%20%20%20%20%20%20popup_85b30374a363456dbfe2a268a4ebe29c.setContent%28html_c03d26470af44ddfa8cd4ddefa750b7d%29%3B%0A%20%20%20%20%20%20%20%20%0A%0A%20%20%20%20%20%20%20%20marker_e0fabc4b1a2849e0b13a02ca4442632c.bindPopup%28popup_85b30374a363456dbfe2a268a4ebe29c%29%0A%20%20%20%20%20%20%20%20%3B%0A%0A%20%20%20%20%20%20%20%20%0A%20%20%20%20%0A%20%20%20%20%0A%20%20%20%20%20%20%20%20%20%20%20%20var%20marker_83ed8089471a443fb71260bb851f834f%20%3D%20L.marker%28%0A%20%20%20%20%20%20%20%20%20%20%20%20%20%20%20%20%5B43.209693%2C%20-77.445847%5D%2C%0A%20%20%20%20%20%20%20%20%20%20%20%20%20%20%20%20%7B%7D%0A%20%20%20%20%20%20%20%20%20%20%20%20%29.addTo%28map_d4817acbd9954ed6a2046d3c6d777371%29%3B%0A%20%20%20%20%20%20%20%20%0A%20%20%20%20%0A%20%20%20%20%20%20%20%20var%20popup_4fc52527ad9c488c9e082c7645410259%20%3D%20L.popup%28%7B%22maxWidth%22%3A%20%22100%25%22%7D%29%3B%0A%0A%20%20%20%20%20%20%20%20%0A%20%20%20%20%20%20%20%20%20%20%20%20var%20html_f886e8ca3429498ca4a05ab3083a7c4a%20%3D%20%24%28%60%3Cdiv%20id%3D%22html_f886e8ca3429498ca4a05ab3083a7c4a%22%20style%3D%22width%3A%20100.0%25%3B%20height%3A%20100.0%25%3B%22%3EWALGREENS%20-%209872%3C/div%3E%60%29%5B0%5D%3B%0A%20%20%20%20%20%20%20%20%20%20%20%20popup_4fc52527ad9c488c9e082c7645410259.setContent%28html_f886e8ca3429498ca4a05ab3083a7c4a%29%3B%0A%20%20%20%20%20%20%20%20%0A%0A%20%20%20%20%20%20%20%20marker_83ed8089471a443fb71260bb851f834f.bindPopup%28popup_4fc52527ad9c488c9e082c7645410259%29%0A%20%20%20%20%20%20%20%20%3B%0A%0A%20%20%20%20%20%20%20%20%0A%20%20%20%20%0A%20%20%20%20%0A%20%20%20%20%20%20%20%20%20%20%20%20var%20marker_ca42a96c3f614568a66b6431f7ea8696%20%3D%20L.marker%28%0A%20%20%20%20%20%20%20%20%20%20%20%20%20%20%20%20%5B43.132312%2C%20-77.492037%5D%2C%0A%20%20%20%20%20%20%20%20%20%20%20%20%20%20%20%20%7B%7D%0A%20%20%20%20%20%20%20%20%20%20%20%20%29.addTo%28map_d4817acbd9954ed6a2046d3c6d777371%29%3B%0A%20%20%20%20%20%20%20%20%0A%20%20%20%20%0A%20%20%20%20%20%20%20%20var%20popup_73e1fc97f08043dcb77a34f341f9ea70%20%3D%20L.popup%28%7B%22maxWidth%22%3A%20%22100%25%22%7D%29%3B%0A%0A%20%20%20%20%20%20%20%20%0A%20%20%20%20%20%20%20%20%20%20%20%20var%20html_eb955418d17946efa485fcfd82880a62%20%3D%20%24%28%60%3Cdiv%20id%3D%22html_eb955418d17946efa485fcfd82880a62%22%20style%3D%22width%3A%20100.0%25%3B%20height%3A%20100.0%25%3B%22%3EWALGREENS%20-%209992%3C/div%3E%60%29%5B0%5D%3B%0A%20%20%20%20%20%20%20%20%20%20%20%20popup_73e1fc97f08043dcb77a34f341f9ea70.setContent%28html_eb955418d17946efa485fcfd82880a62%29%3B%0A%20%20%20%20%20%20%20%20%0A%0A%20%20%20%20%20%20%20%20marker_ca42a96c3f614568a66b6431f7ea8696.bindPopup%28popup_73e1fc97f08043dcb77a34f341f9ea70%29%0A%20%20%20%20%20%20%20%20%3B%0A%0A%20%20%20%20%20%20%20%20%0A%20%20%20%20%0A%20%20%20%20%0A%20%20%20%20%20%20%20%20%20%20%20%20var%20marker_4f99a2e5d437462cbd2e85939343008e%20%3D%20L.marker%28%0A%20%20%20%20%20%20%20%20%20%20%20%20%20%20%20%20%5B43.214602%2C%20-77.724197%5D%2C%0A%20%20%20%20%20%20%20%20%20%20%20%20%20%20%20%20%7B%7D%0A%20%20%20%20%20%20%20%20%20%20%20%20%29.addTo%28map_d4817acbd9954ed6a2046d3c6d777371%29%3B%0A%20%20%20%20%20%20%20%20%0A%20%20%20%20%0A%20%20%20%20%20%20%20%20var%20popup_ac61669cc1314c259d3a312d3db94b8a%20%3D%20L.popup%28%7B%22maxWidth%22%3A%20%22100%25%22%7D%29%3B%0A%0A%20%20%20%20%20%20%20%20%0A%20%20%20%20%20%20%20%20%20%20%20%20var%20html_7f86c052af8d422690f14ea256392a43%20%3D%20%24%28%60%3Cdiv%20id%3D%22html_7f86c052af8d422690f14ea256392a43%22%20style%3D%22width%3A%20100.0%25%3B%20height%3A%20100.0%25%3B%22%3EWAL-MART%20-%201610%3C/div%3E%60%29%5B0%5D%3B%0A%20%20%20%20%20%20%20%20%20%20%20%20popup_ac61669cc1314c259d3a312d3db94b8a.setContent%28html_7f86c052af8d422690f14ea256392a43%29%3B%0A%20%20%20%20%20%20%20%20%0A%0A%20%20%20%20%20%20%20%20marker_4f99a2e5d437462cbd2e85939343008e.bindPopup%28popup_ac61669cc1314c259d3a312d3db94b8a%29%0A%20%20%20%20%20%20%20%20%3B%0A%0A%20%20%20%20%20%20%20%20%0A%20%20%20%20%0A%20%20%20%20%0A%20%20%20%20%20%20%20%20%20%20%20%20var%20marker_226d6730b2014ba88b6ef62cd4cea35b%20%3D%20L.marker%28%0A%20%20%20%20%20%20%20%20%20%20%20%20%20%20%20%20%5B43.190428999999995%2C%20-77.498147%5D%2C%0A%20%20%20%20%20%20%20%20%20%20%20%20%20%20%20%20%7B%7D%0A%20%20%20%20%20%20%20%20%20%20%20%20%29.addTo%28map_d4817acbd9954ed6a2046d3c6d777371%29%3B%0A%20%20%20%20%20%20%20%20%0A%20%20%20%20%0A%20%20%20%20%20%20%20%20var%20popup_db87e16bff1f4db39a3af7bf79e6376a%20%3D%20L.popup%28%7B%22maxWidth%22%3A%20%22100%25%22%7D%29%3B%0A%0A%20%20%20%20%20%20%20%20%0A%20%20%20%20%20%20%20%20%20%20%20%20var%20html_40fa343c813a4d05b82ba378437c32df%20%3D%20%24%28%60%3Cdiv%20id%3D%22html_40fa343c813a4d05b82ba378437c32df%22%20style%3D%22width%3A%20100.0%25%3B%20height%3A%20100.0%25%3B%22%3EWAL-MART%20-%201744%3C/div%3E%60%29%5B0%5D%3B%0A%20%20%20%20%20%20%20%20%20%20%20%20popup_db87e16bff1f4db39a3af7bf79e6376a.setContent%28html_40fa343c813a4d05b82ba378437c32df%29%3B%0A%20%20%20%20%20%20%20%20%0A%0A%20%20%20%20%20%20%20%20marker_226d6730b2014ba88b6ef62cd4cea35b.bindPopup%28popup_db87e16bff1f4db39a3af7bf79e6376a%29%0A%20%20%20%20%20%20%20%20%3B%0A%0A%20%20%20%20%20%20%20%20%0A%20%20%20%20%0A%20%20%20%20%0A%20%20%20%20%20%20%20%20%20%20%20%20var%20marker_a78e78f80732438584a00e6d11a44a7e%20%3D%20L.marker%28%0A%20%20%20%20%20%20%20%20%20%20%20%20%20%20%20%20%5B43.080642%2C%20-77.622726%5D%2C%0A%20%20%20%20%20%20%20%20%20%20%20%20%20%20%20%20%7B%7D%0A%20%20%20%20%20%20%20%20%20%20%20%20%29.addTo%28map_d4817acbd9954ed6a2046d3c6d777371%29%3B%0A%20%20%20%20%20%20%20%20%0A%20%20%20%20%0A%20%20%20%20%20%20%20%20var%20popup_54588c45912542e1be183bebd5e7f613%20%3D%20L.popup%28%7B%22maxWidth%22%3A%20%22100%25%22%7D%29%3B%0A%0A%20%20%20%20%20%20%20%20%0A%20%20%20%20%20%20%20%20%20%20%20%20var%20html_5b63cfa3a10c4d21a44e2a78e6e57f8b%20%3D%20%24%28%60%3Cdiv%20id%3D%22html_5b63cfa3a10c4d21a44e2a78e6e57f8b%22%20style%3D%22width%3A%20100.0%25%3B%20height%3A%20100.0%25%3B%22%3EWAL-MART%20SUPERCENTER%20-%201619%3C/div%3E%60%29%5B0%5D%3B%0A%20%20%20%20%20%20%20%20%20%20%20%20popup_54588c45912542e1be183bebd5e7f613.setContent%28html_5b63cfa3a10c4d21a44e2a78e6e57f8b%29%3B%0A%20%20%20%20%20%20%20%20%0A%0A%20%20%20%20%20%20%20%20marker_a78e78f80732438584a00e6d11a44a7e.bindPopup%28popup_54588c45912542e1be183bebd5e7f613%29%0A%20%20%20%20%20%20%20%20%3B%0A%0A%20%20%20%20%20%20%20%20%0A%20%20%20%20%0A%20%20%20%20%0A%20%20%20%20%20%20%20%20%20%20%20%20var%20marker_520df836e9b143588f7f9f7e3e5f56d3%20%3D%20L.marker%28%0A%20%20%20%20%20%20%20%20%20%20%20%20%20%20%20%20%5B43.133774%2C%20-77.689%5D%2C%0A%20%20%20%20%20%20%20%20%20%20%20%20%20%20%20%20%7B%7D%0A%20%20%20%20%20%20%20%20%20%20%20%20%29.addTo%28map_d4817acbd9954ed6a2046d3c6d777371%29%3B%0A%20%20%20%20%20%20%20%20%0A%20%20%20%20%0A%20%20%20%20%20%20%20%20var%20popup_d64dc4c444c34aea82c752dd38f33b6d%20%3D%20L.popup%28%7B%22maxWidth%22%3A%20%22100%25%22%7D%29%3B%0A%0A%20%20%20%20%20%20%20%20%0A%20%20%20%20%20%20%20%20%20%20%20%20var%20html_a5891f4c8abf4b8d9953a11d1ee9b97e%20%3D%20%24%28%60%3Cdiv%20id%3D%22html_a5891f4c8abf4b8d9953a11d1ee9b97e%22%20style%3D%22width%3A%20100.0%25%3B%20height%3A%20100.0%25%3B%22%3EWAL-MART%20SUPERCENTER%20-%202859%3C/div%3E%60%29%5B0%5D%3B%0A%20%20%20%20%20%20%20%20%20%20%20%20popup_d64dc4c444c34aea82c752dd38f33b6d.setContent%28html_a5891f4c8abf4b8d9953a11d1ee9b97e%29%3B%0A%20%20%20%20%20%20%20%20%0A%0A%20%20%20%20%20%20%20%20marker_520df836e9b143588f7f9f7e3e5f56d3.bindPopup%28popup_d64dc4c444c34aea82c752dd38f33b6d%29%0A%20%20%20%20%20%20%20%20%3B%0A%0A%20%20%20%20%20%20%20%20%0A%20%20%20%20%0A%20%20%20%20%0A%20%20%20%20%20%20%20%20%20%20%20%20var%20marker_98156c9eacdf4ab0a4e57f2927dd45c8%20%3D%20L.marker%28%0A%20%20%20%20%20%20%20%20%20%20%20%20%20%20%20%20%5B43.194303000000005%2C%20-77.59679100000001%5D%2C%0A%20%20%20%20%20%20%20%20%20%20%20%20%20%20%20%20%7B%7D%0A%20%20%20%20%20%20%20%20%20%20%20%20%29.addTo%28map_d4817acbd9954ed6a2046d3c6d777371%29%3B%0A%20%20%20%20%20%20%20%20%0A%20%20%20%20%0A%20%20%20%20%20%20%20%20var%20popup_7fa2d54506a44e9caf39ed8eb8a1a7c0%20%3D%20L.popup%28%7B%22maxWidth%22%3A%20%22100%25%22%7D%29%3B%0A%0A%20%20%20%20%20%20%20%20%0A%20%20%20%20%20%20%20%20%20%20%20%20var%20html_65ed7e4221714d1bac9bc2bb3f4b0d06%20%3D%20%24%28%60%3Cdiv%20id%3D%22html_65ed7e4221714d1bac9bc2bb3f4b0d06%22%20style%3D%22width%3A%20100.0%25%3B%20height%3A%20100.0%25%3B%22%3EWAL-MART%20SUPERCENTER%20-%203280%3C/div%3E%60%29%5B0%5D%3B%0A%20%20%20%20%20%20%20%20%20%20%20%20popup_7fa2d54506a44e9caf39ed8eb8a1a7c0.setContent%28html_65ed7e4221714d1bac9bc2bb3f4b0d06%29%3B%0A%20%20%20%20%20%20%20%20%0A%0A%20%20%20%20%20%20%20%20marker_98156c9eacdf4ab0a4e57f2927dd45c8.bindPopup%28popup_7fa2d54506a44e9caf39ed8eb8a1a7c0%29%0A%20%20%20%20%20%20%20%20%3B%0A%0A%20%20%20%20%20%20%20%20%0A%20%20%20%20%0A%20%20%20%20%0A%20%20%20%20%20%20%20%20%20%20%20%20var%20marker_2d4beb967af845678115fdd0eee6f641%20%3D%20L.marker%28%0A%20%20%20%20%20%20%20%20%20%20%20%20%20%20%20%20%5B43.106546%2C%20-77.543403%5D%2C%0A%20%20%20%20%20%20%20%20%20%20%20%20%20%20%20%20%7B%7D%0A%20%20%20%20%20%20%20%20%20%20%20%20%29.addTo%28map_d4817acbd9954ed6a2046d3c6d777371%29%3B%0A%20%20%20%20%20%20%20%20%0A%20%20%20%20%0A%20%20%20%20%20%20%20%20var%20popup_7728a9a8600e4fcd94380a0da61141fc%20%3D%20L.popup%28%7B%22maxWidth%22%3A%20%22100%25%22%7D%29%3B%0A%0A%20%20%20%20%20%20%20%20%0A%20%20%20%20%20%20%20%20%20%20%20%20var%20html_43d8aca9903742a49008a3b398d2fec3%20%3D%20%24%28%60%3Cdiv%20id%3D%22html_43d8aca9903742a49008a3b398d2fec3%22%20style%3D%22width%3A%20100.0%25%3B%20height%3A%20100.0%25%3B%22%3EWEGMANS%3C/div%3E%60%29%5B0%5D%3B%0A%20%20%20%20%20%20%20%20%20%20%20%20popup_7728a9a8600e4fcd94380a0da61141fc.setContent%28html_43d8aca9903742a49008a3b398d2fec3%29%3B%0A%20%20%20%20%20%20%20%20%0A%0A%20%20%20%20%20%20%20%20marker_2d4beb967af845678115fdd0eee6f641.bindPopup%28popup_7728a9a8600e4fcd94380a0da61141fc%29%0A%20%20%20%20%20%20%20%20%3B%0A%0A%20%20%20%20%20%20%20%20%0A%20%20%20%20%0A%20%20%20%20%0A%20%20%20%20%20%20%20%20%20%20%20%20var%20marker_b7cd879896db43ccb087eac5ee755300%20%3D%20L.marker%28%0A%20%20%20%20%20%20%20%20%20%20%20%20%20%20%20%20%5B43.067014%2C%20-77.612083%5D%2C%0A%20%20%20%20%20%20%20%20%20%20%20%20%20%20%20%20%7B%7D%0A%20%20%20%20%20%20%20%20%20%20%20%20%29.addTo%28map_d4817acbd9954ed6a2046d3c6d777371%29%3B%0A%20%20%20%20%20%20%20%20%0A%20%20%20%20%0A%20%20%20%20%20%20%20%20var%20popup_429ae1fd64fd49c3a42e6378f7aaf70b%20%3D%20L.popup%28%7B%22maxWidth%22%3A%20%22100%25%22%7D%29%3B%0A%0A%20%20%20%20%20%20%20%20%0A%20%20%20%20%20%20%20%20%20%20%20%20var%20html_8c9364dc8d974334bf0f8e0c533a1c62%20%3D%20%24%28%60%3Cdiv%20id%3D%22html_8c9364dc8d974334bf0f8e0c533a1c62%22%20style%3D%22width%3A%20100.0%25%3B%20height%3A%20100.0%25%3B%22%3EWEGMANS%3C/div%3E%60%29%5B0%5D%3B%0A%20%20%20%20%20%20%20%20%20%20%20%20popup_429ae1fd64fd49c3a42e6378f7aaf70b.setContent%28html_8c9364dc8d974334bf0f8e0c533a1c62%29%3B%0A%20%20%20%20%20%20%20%20%0A%0A%20%20%20%20%20%20%20%20marker_b7cd879896db43ccb087eac5ee755300.bindPopup%28popup_429ae1fd64fd49c3a42e6378f7aaf70b%29%0A%20%20%20%20%20%20%20%20%3B%0A%0A%20%20%20%20%20%20%20%20%0A%20%20%20%20%0A%20%20%20%20%0A%20%20%20%20%20%20%20%20%20%20%20%20var%20marker_04d123fb7dc34ebb8b1f2e912e703467%20%3D%20L.marker%28%0A%20%20%20%20%20%20%20%20%20%20%20%20%20%20%20%20%5B43.104348%2C%20-77.74414200000001%5D%2C%0A%20%20%20%20%20%20%20%20%20%20%20%20%20%20%20%20%7B%7D%0A%20%20%20%20%20%20%20%20%20%20%20%20%29.addTo%28map_d4817acbd9954ed6a2046d3c6d777371%29%3B%0A%20%20%20%20%20%20%20%20%0A%20%20%20%20%0A%20%20%20%20%20%20%20%20var%20popup_6ae0ac5f055246abb0f895a83f6602f4%20%3D%20L.popup%28%7B%22maxWidth%22%3A%20%22100%25%22%7D%29%3B%0A%0A%20%20%20%20%20%20%20%20%0A%20%20%20%20%20%20%20%20%20%20%20%20var%20html_27e9d1b18ef94f518a4dc5a501183922%20%3D%20%24%28%60%3Cdiv%20id%3D%22html_27e9d1b18ef94f518a4dc5a501183922%22%20style%3D%22width%3A%20100.0%25%3B%20height%3A%20100.0%25%3B%22%3EWEGMANS%3C/div%3E%60%29%5B0%5D%3B%0A%20%20%20%20%20%20%20%20%20%20%20%20popup_6ae0ac5f055246abb0f895a83f6602f4.setContent%28html_27e9d1b18ef94f518a4dc5a501183922%29%3B%0A%20%20%20%20%20%20%20%20%0A%0A%20%20%20%20%20%20%20%20marker_04d123fb7dc34ebb8b1f2e912e703467.bindPopup%28popup_6ae0ac5f055246abb0f895a83f6602f4%29%0A%20%20%20%20%20%20%20%20%3B%0A%0A%20%20%20%20%20%20%20%20%0A%20%20%20%20%0A%20%20%20%20%0A%20%20%20%20%20%20%20%20%20%20%20%20var%20marker_e8f1328e366a4142ae24ec0f804027b1%20%3D%20L.marker%28%0A%20%20%20%20%20%20%20%20%20%20%20%20%20%20%20%20%5B43.208098%2C%20-77.703677%5D%2C%0A%20%20%20%20%20%20%20%20%20%20%20%20%20%20%20%20%7B%7D%0A%20%20%20%20%20%20%20%20%20%20%20%20%29.addTo%28map_d4817acbd9954ed6a2046d3c6d777371%29%3B%0A%20%20%20%20%20%20%20%20%0A%20%20%20%20%0A%20%20%20%20%20%20%20%20var%20popup_72be94e3fde34f5a8b9ec1ac5ac3f1a7%20%3D%20L.popup%28%7B%22maxWidth%22%3A%20%22100%25%22%7D%29%3B%0A%0A%20%20%20%20%20%20%20%20%0A%20%20%20%20%20%20%20%20%20%20%20%20var%20html_db371d1755f34d059e07607ed3f81f40%20%3D%20%24%28%60%3Cdiv%20id%3D%22html_db371d1755f34d059e07607ed3f81f40%22%20style%3D%22width%3A%20100.0%25%3B%20height%3A%20100.0%25%3B%22%3EWEGMANS%3C/div%3E%60%29%5B0%5D%3B%0A%20%20%20%20%20%20%20%20%20%20%20%20popup_72be94e3fde34f5a8b9ec1ac5ac3f1a7.setContent%28html_db371d1755f34d059e07607ed3f81f40%29%3B%0A%20%20%20%20%20%20%20%20%0A%0A%20%20%20%20%20%20%20%20marker_e8f1328e366a4142ae24ec0f804027b1.bindPopup%28popup_72be94e3fde34f5a8b9ec1ac5ac3f1a7%29%0A%20%20%20%20%20%20%20%20%3B%0A%0A%20%20%20%20%20%20%20%20%0A%20%20%20%20%0A%20%20%20%20%0A%20%20%20%20%20%20%20%20%20%20%20%20var%20marker_63f35bd57f7045948b6cf0e17c4669d2%20%3D%20L.marker%28%0A%20%20%20%20%20%20%20%20%20%20%20%20%20%20%20%20%5B43.083465000000004%2C%20-77.62747399999999%5D%2C%0A%20%20%20%20%20%20%20%20%20%20%20%20%20%20%20%20%7B%7D%0A%20%20%20%20%20%20%20%20%20%20%20%20%29.addTo%28map_d4817acbd9954ed6a2046d3c6d777371%29%3B%0A%20%20%20%20%20%20%20%20%0A%20%20%20%20%0A%20%20%20%20%20%20%20%20var%20popup_0e261c19312748029136b4f62ba84bf2%20%3D%20L.popup%28%7B%22maxWidth%22%3A%20%22100%25%22%7D%29%3B%0A%0A%20%20%20%20%20%20%20%20%0A%20%20%20%20%20%20%20%20%20%20%20%20var%20html_139bf8905df644fd8e0278d3b75248bc%20%3D%20%24%28%60%3Cdiv%20id%3D%22html_139bf8905df644fd8e0278d3b75248bc%22%20style%3D%22width%3A%20100.0%25%3B%20height%3A%20100.0%25%3B%22%3EWEGMANS%3C/div%3E%60%29%5B0%5D%3B%0A%20%20%20%20%20%20%20%20%20%20%20%20popup_0e261c19312748029136b4f62ba84bf2.setContent%28html_139bf8905df644fd8e0278d3b75248bc%29%3B%0A%20%20%20%20%20%20%20%20%0A%0A%20%20%20%20%20%20%20%20marker_63f35bd57f7045948b6cf0e17c4669d2.bindPopup%28popup_0e261c19312748029136b4f62ba84bf2%29%0A%20%20%20%20%20%20%20%20%3B%0A%0A%20%20%20%20%20%20%20%20%0A%20%20%20%20%0A%20%20%20%20%0A%20%20%20%20%20%20%20%20%20%20%20%20var%20marker_7c9c358340f24d5d97b7ae12cc5da026%20%3D%20L.marker%28%0A%20%20%20%20%20%20%20%20%20%20%20%20%20%20%20%20%5B43.193446%2C%20-77.504719%5D%2C%0A%20%20%20%20%20%20%20%20%20%20%20%20%20%20%20%20%7B%7D%0A%20%20%20%20%20%20%20%20%20%20%20%20%29.addTo%28map_d4817acbd9954ed6a2046d3c6d777371%29%3B%0A%20%20%20%20%20%20%20%20%0A%20%20%20%20%0A%20%20%20%20%20%20%20%20var%20popup_00b59b50d4274bfd963e65bca42512b3%20%3D%20L.popup%28%7B%22maxWidth%22%3A%20%22100%25%22%7D%29%3B%0A%0A%20%20%20%20%20%20%20%20%0A%20%20%20%20%20%20%20%20%20%20%20%20var%20html_3d470d8f9d6d40c4a47fb98af946a9f2%20%3D%20%24%28%60%3Cdiv%20id%3D%22html_3d470d8f9d6d40c4a47fb98af946a9f2%22%20style%3D%22width%3A%20100.0%25%3B%20height%3A%20100.0%25%3B%22%3EWEGMANS%3C/div%3E%60%29%5B0%5D%3B%0A%20%20%20%20%20%20%20%20%20%20%20%20popup_00b59b50d4274bfd963e65bca42512b3.setContent%28html_3d470d8f9d6d40c4a47fb98af946a9f2%29%3B%0A%20%20%20%20%20%20%20%20%0A%0A%20%20%20%20%20%20%20%20marker_7c9c358340f24d5d97b7ae12cc5da026.bindPopup%28popup_00b59b50d4274bfd963e65bca42512b3%29%0A%20%20%20%20%20%20%20%20%3B%0A%0A%20%20%20%20%20%20%20%20%0A%20%20%20%20%0A%20%20%20%20%0A%20%20%20%20%20%20%20%20%20%20%20%20var%20marker_46a4e1f85bb949e49a3f8acfb898fcbb%20%3D%20L.marker%28%0A%20%20%20%20%20%20%20%20%20%20%20%20%20%20%20%20%5B43.163362%2C%20-77.68835200000001%5D%2C%0A%20%20%20%20%20%20%20%20%20%20%20%20%20%20%20%20%7B%7D%0A%20%20%20%20%20%20%20%20%20%20%20%20%29.addTo%28map_d4817acbd9954ed6a2046d3c6d777371%29%3B%0A%20%20%20%20%20%20%20%20%0A%20%20%20%20%0A%20%20%20%20%20%20%20%20var%20popup_9d1df26e6cb64bffb038abf5a2279b87%20%3D%20L.popup%28%7B%22maxWidth%22%3A%20%22100%25%22%7D%29%3B%0A%0A%20%20%20%20%20%20%20%20%0A%20%20%20%20%20%20%20%20%20%20%20%20var%20html_6be06ca9fe7141e8b6f462e3d2cbcb6b%20%3D%20%24%28%60%3Cdiv%20id%3D%22html_6be06ca9fe7141e8b6f462e3d2cbcb6b%22%20style%3D%22width%3A%20100.0%25%3B%20height%3A%20100.0%25%3B%22%3EWEGMANS%3C/div%3E%60%29%5B0%5D%3B%0A%20%20%20%20%20%20%20%20%20%20%20%20popup_9d1df26e6cb64bffb038abf5a2279b87.setContent%28html_6be06ca9fe7141e8b6f462e3d2cbcb6b%29%3B%0A%20%20%20%20%20%20%20%20%0A%0A%20%20%20%20%20%20%20%20marker_46a4e1f85bb949e49a3f8acfb898fcbb.bindPopup%28popup_9d1df26e6cb64bffb038abf5a2279b87%29%0A%20%20%20%20%20%20%20%20%3B%0A%0A%20%20%20%20%20%20%20%20%0A%20%20%20%20%0A%20%20%20%20%0A%20%20%20%20%20%20%20%20%20%20%20%20var%20marker_7d766473f24a4f3aa5fccd6fdd43771d%20%3D%20L.marker%28%0A%20%20%20%20%20%20%20%20%20%20%20%20%20%20%20%20%5B43.250817%2C%20-77.69930500000001%5D%2C%0A%20%20%20%20%20%20%20%20%20%20%20%20%20%20%20%20%7B%7D%0A%20%20%20%20%20%20%20%20%20%20%20%20%29.addTo%28map_d4817acbd9954ed6a2046d3c6d777371%29%3B%0A%20%20%20%20%20%20%20%20%0A%20%20%20%20%0A%20%20%20%20%20%20%20%20var%20popup_c8dfd7a980c2448f9eb6211cdf502863%20%3D%20L.popup%28%7B%22maxWidth%22%3A%20%22100%25%22%7D%29%3B%0A%0A%20%20%20%20%20%20%20%20%0A%20%20%20%20%20%20%20%20%20%20%20%20var%20html_6cf04471cda74a0aa51d1eed635a7b3b%20%3D%20%24%28%60%3Cdiv%20id%3D%22html_6cf04471cda74a0aa51d1eed635a7b3b%22%20style%3D%22width%3A%20100.0%25%3B%20height%3A%20100.0%25%3B%22%3EWEGMANS%3C/div%3E%60%29%5B0%5D%3B%0A%20%20%20%20%20%20%20%20%20%20%20%20popup_c8dfd7a980c2448f9eb6211cdf502863.setContent%28html_6cf04471cda74a0aa51d1eed635a7b3b%29%3B%0A%20%20%20%20%20%20%20%20%0A%0A%20%20%20%20%20%20%20%20marker_7d766473f24a4f3aa5fccd6fdd43771d.bindPopup%28popup_c8dfd7a980c2448f9eb6211cdf502863%29%0A%20%20%20%20%20%20%20%20%3B%0A%0A%20%20%20%20%20%20%20%20%0A%20%20%20%20%0A%20%20%20%20%0A%20%20%20%20%20%20%20%20%20%20%20%20var%20marker_177b3dd498cc4676a90e49eb6be97201%20%3D%20L.marker%28%0A%20%20%20%20%20%20%20%20%20%20%20%20%20%20%20%20%5B43.23748%2C%20-77.645044%5D%2C%0A%20%20%20%20%20%20%20%20%20%20%20%20%20%20%20%20%7B%7D%0A%20%20%20%20%20%20%20%20%20%20%20%20%29.addTo%28map_d4817acbd9954ed6a2046d3c6d777371%29%3B%0A%20%20%20%20%20%20%20%20%0A%20%20%20%20%0A%20%20%20%20%20%20%20%20var%20popup_32573c71ec5848c28abf35e6389a25d8%20%3D%20L.popup%28%7B%22maxWidth%22%3A%20%22100%25%22%7D%29%3B%0A%0A%20%20%20%20%20%20%20%20%0A%20%20%20%20%20%20%20%20%20%20%20%20var%20html_0b912f06041b4becb46bb1b6e83871ce%20%3D%20%24%28%60%3Cdiv%20id%3D%22html_0b912f06041b4becb46bb1b6e83871ce%22%20style%3D%22width%3A%20100.0%25%3B%20height%3A%20100.0%25%3B%22%3EWEGMANS%3C/div%3E%60%29%5B0%5D%3B%0A%20%20%20%20%20%20%20%20%20%20%20%20popup_32573c71ec5848c28abf35e6389a25d8.setContent%28html_0b912f06041b4becb46bb1b6e83871ce%29%3B%0A%20%20%20%20%20%20%20%20%0A%0A%20%20%20%20%20%20%20%20marker_177b3dd498cc4676a90e49eb6be97201.bindPopup%28popup_32573c71ec5848c28abf35e6389a25d8%29%0A%20%20%20%20%20%20%20%20%3B%0A%0A%20%20%20%20%20%20%20%20%0A%20%20%20%20%0A%20%20%20%20%0A%20%20%20%20%20%20%20%20%20%20%20%20var%20marker_501d82018dfc40ef8bd208b74ab9e2fa%20%3D%20L.marker%28%0A%20%20%20%20%20%20%20%20%20%20%20%20%20%20%20%20%5B43.226172%2C%20-77.660618%5D%2C%0A%20%20%20%20%20%20%20%20%20%20%20%20%20%20%20%20%7B%7D%0A%20%20%20%20%20%20%20%20%20%20%20%20%29.addTo%28map_d4817acbd9954ed6a2046d3c6d777371%29%3B%0A%20%20%20%20%20%20%20%20%0A%20%20%20%20%0A%20%20%20%20%20%20%20%20var%20popup_0dda3e3c07d44d17993cc71333f74ba2%20%3D%20L.popup%28%7B%22maxWidth%22%3A%20%22100%25%22%7D%29%3B%0A%0A%20%20%20%20%20%20%20%20%0A%20%20%20%20%20%20%20%20%20%20%20%20var%20html_bf5c77c356ec4680ab62125f928ff7b7%20%3D%20%24%28%60%3Cdiv%20id%3D%22html_bf5c77c356ec4680ab62125f928ff7b7%22%20style%3D%22width%3A%20100.0%25%3B%20height%3A%20100.0%25%3B%22%3EWEGMANS%3C/div%3E%60%29%5B0%5D%3B%0A%20%20%20%20%20%20%20%20%20%20%20%20popup_0dda3e3c07d44d17993cc71333f74ba2.setContent%28html_bf5c77c356ec4680ab62125f928ff7b7%29%3B%0A%20%20%20%20%20%20%20%20%0A%0A%20%20%20%20%20%20%20%20marker_501d82018dfc40ef8bd208b74ab9e2fa.bindPopup%28popup_0dda3e3c07d44d17993cc71333f74ba2%29%0A%20%20%20%20%20%20%20%20%3B%0A%0A%20%20%20%20%20%20%20%20%0A%20%20%20%20%0A%20%20%20%20%0A%20%20%20%20%20%20%20%20%20%20%20%20var%20marker_393bc92ef32142a4991529965d25c6cc%20%3D%20L.marker%28%0A%20%20%20%20%20%20%20%20%20%20%20%20%20%20%20%20%5B43.204905%2C%20-77.558616%5D%2C%0A%20%20%20%20%20%20%20%20%20%20%20%20%20%20%20%20%7B%7D%0A%20%20%20%20%20%20%20%20%20%20%20%20%29.addTo%28map_d4817acbd9954ed6a2046d3c6d777371%29%3B%0A%20%20%20%20%20%20%20%20%0A%20%20%20%20%0A%20%20%20%20%20%20%20%20var%20popup_f073ba37fa764c53bbb1ad08f145f33d%20%3D%20L.popup%28%7B%22maxWidth%22%3A%20%22100%25%22%7D%29%3B%0A%0A%20%20%20%20%20%20%20%20%0A%20%20%20%20%20%20%20%20%20%20%20%20var%20html_d11160160c2c4da798b564ac7e16abbf%20%3D%20%24%28%60%3Cdiv%20id%3D%22html_d11160160c2c4da798b564ac7e16abbf%22%20style%3D%22width%3A%20100.0%25%3B%20height%3A%20100.0%25%3B%22%3EWEGMANS%3C/div%3E%60%29%5B0%5D%3B%0A%20%20%20%20%20%20%20%20%20%20%20%20popup_f073ba37fa764c53bbb1ad08f145f33d.setContent%28html_d11160160c2c4da798b564ac7e16abbf%29%3B%0A%20%20%20%20%20%20%20%20%0A%0A%20%20%20%20%20%20%20%20marker_393bc92ef32142a4991529965d25c6cc.bindPopup%28popup_f073ba37fa764c53bbb1ad08f145f33d%29%0A%20%20%20%20%20%20%20%20%3B%0A%0A%20%20%20%20%20%20%20%20%0A%20%20%20%20%0A%20%20%20%20%0A%20%20%20%20%20%20%20%20%20%20%20%20var%20marker_84f4453f836f49abac14e95278f3ae31%20%3D%20L.marker%28%0A%20%20%20%20%20%20%20%20%20%20%20%20%20%20%20%20%5B43.101926%2C%20-77.483417%5D%2C%0A%20%20%20%20%20%20%20%20%20%20%20%20%20%20%20%20%7B%7D%0A%20%20%20%20%20%20%20%20%20%20%20%20%29.addTo%28map_d4817acbd9954ed6a2046d3c6d777371%29%3B%0A%20%20%20%20%20%20%20%20%0A%20%20%20%20%0A%20%20%20%20%20%20%20%20var%20popup_ff04f3bbc8b145a6b967cf0434b82cc6%20%3D%20L.popup%28%7B%22maxWidth%22%3A%20%22100%25%22%7D%29%3B%0A%0A%20%20%20%20%20%20%20%20%0A%20%20%20%20%20%20%20%20%20%20%20%20var%20html_6e000e1769144793b2c920b63add7fc2%20%3D%20%24%28%60%3Cdiv%20id%3D%22html_6e000e1769144793b2c920b63add7fc2%22%20style%3D%22width%3A%20100.0%25%3B%20height%3A%20100.0%25%3B%22%3EWEGMANS%3C/div%3E%60%29%5B0%5D%3B%0A%20%20%20%20%20%20%20%20%20%20%20%20popup_ff04f3bbc8b145a6b967cf0434b82cc6.setContent%28html_6e000e1769144793b2c920b63add7fc2%29%3B%0A%20%20%20%20%20%20%20%20%0A%0A%20%20%20%20%20%20%20%20marker_84f4453f836f49abac14e95278f3ae31.bindPopup%28popup_ff04f3bbc8b145a6b967cf0434b82cc6%29%0A%20%20%20%20%20%20%20%20%3B%0A%0A%20%20%20%20%20%20%20%20%0A%20%20%20%20%0A%20%20%20%20%0A%20%20%20%20%20%20%20%20%20%20%20%20var%20marker_04be2a16b356457b86fb50d34a816426%20%3D%20L.marker%28%0A%20%20%20%20%20%20%20%20%20%20%20%20%20%20%20%20%5B43.128957%2C%20-77.446535%5D%2C%0A%20%20%20%20%20%20%20%20%20%20%20%20%20%20%20%20%7B%7D%0A%20%20%20%20%20%20%20%20%20%20%20%20%29.addTo%28map_d4817acbd9954ed6a2046d3c6d777371%29%3B%0A%20%20%20%20%20%20%20%20%0A%20%20%20%20%0A%20%20%20%20%20%20%20%20var%20popup_152e45afc1fb4bbc91fb3d568523edc1%20%3D%20L.popup%28%7B%22maxWidth%22%3A%20%22100%25%22%7D%29%3B%0A%0A%20%20%20%20%20%20%20%20%0A%20%20%20%20%20%20%20%20%20%20%20%20var%20html_dca4d8ff236c4f1a8234bd7c7b16059e%20%3D%20%24%28%60%3Cdiv%20id%3D%22html_dca4d8ff236c4f1a8234bd7c7b16059e%22%20style%3D%22width%3A%20100.0%25%3B%20height%3A%20100.0%25%3B%22%3EWEGMANS%3C/div%3E%60%29%5B0%5D%3B%0A%20%20%20%20%20%20%20%20%20%20%20%20popup_152e45afc1fb4bbc91fb3d568523edc1.setContent%28html_dca4d8ff236c4f1a8234bd7c7b16059e%29%3B%0A%20%20%20%20%20%20%20%20%0A%0A%20%20%20%20%20%20%20%20marker_04be2a16b356457b86fb50d34a816426.bindPopup%28popup_152e45afc1fb4bbc91fb3d568523edc1%29%0A%20%20%20%20%20%20%20%20%3B%0A%0A%20%20%20%20%20%20%20%20%0A%20%20%20%20%0A%20%20%20%20%0A%20%20%20%20%20%20%20%20%20%20%20%20var%20marker_f67ec53c8751435b828a0a3c85cf193e%20%3D%20L.marker%28%0A%20%20%20%20%20%20%20%20%20%20%20%20%20%20%20%20%5B43.207526%2C%20-77.603239%5D%2C%0A%20%20%20%20%20%20%20%20%20%20%20%20%20%20%20%20%7B%7D%0A%20%20%20%20%20%20%20%20%20%20%20%20%29.addTo%28map_d4817acbd9954ed6a2046d3c6d777371%29%3B%0A%20%20%20%20%20%20%20%20%0A%20%20%20%20%0A%20%20%20%20%20%20%20%20var%20popup_f54b5298dbf345db86d38145cb609f5b%20%3D%20L.popup%28%7B%22maxWidth%22%3A%20%22100%25%22%7D%29%3B%0A%0A%20%20%20%20%20%20%20%20%0A%20%20%20%20%20%20%20%20%20%20%20%20var%20html_2ba28f3a8db843c4b29e1fe33a1f4458%20%3D%20%24%28%60%3Cdiv%20id%3D%22html_2ba28f3a8db843c4b29e1fe33a1f4458%22%20style%3D%22width%3A%20100.0%25%3B%20height%3A%20100.0%25%3B%22%3EWEGMANS%3C/div%3E%60%29%5B0%5D%3B%0A%20%20%20%20%20%20%20%20%20%20%20%20popup_f54b5298dbf345db86d38145cb609f5b.setContent%28html_2ba28f3a8db843c4b29e1fe33a1f4458%29%3B%0A%20%20%20%20%20%20%20%20%0A%0A%20%20%20%20%20%20%20%20marker_f67ec53c8751435b828a0a3c85cf193e.bindPopup%28popup_f54b5298dbf345db86d38145cb609f5b%29%0A%20%20%20%20%20%20%20%20%3B%0A%0A%20%20%20%20%20%20%20%20%0A%20%20%20%20%0A%20%20%20%20%0A%20%20%20%20%20%20%20%20%20%20%20%20var%20marker_008d45b2bc0847f593bc63ff5e6ead3b%20%3D%20L.marker%28%0A%20%20%20%20%20%20%20%20%20%20%20%20%20%20%20%20%5B43.213869%2C%20-77.443676%5D%2C%0A%20%20%20%20%20%20%20%20%20%20%20%20%20%20%20%20%7B%7D%0A%20%20%20%20%20%20%20%20%20%20%20%20%29.addTo%28map_d4817acbd9954ed6a2046d3c6d777371%29%3B%0A%20%20%20%20%20%20%20%20%0A%20%20%20%20%0A%20%20%20%20%20%20%20%20var%20popup_35df30c0c89b418299ef420c9fb0a9c6%20%3D%20L.popup%28%7B%22maxWidth%22%3A%20%22100%25%22%7D%29%3B%0A%0A%20%20%20%20%20%20%20%20%0A%20%20%20%20%20%20%20%20%20%20%20%20var%20html_dae1461f45ac47c08ee930185b457f96%20%3D%20%24%28%60%3Cdiv%20id%3D%22html_dae1461f45ac47c08ee930185b457f96%22%20style%3D%22width%3A%20100.0%25%3B%20height%3A%20100.0%25%3B%22%3EWEGMANS%3C/div%3E%60%29%5B0%5D%3B%0A%20%20%20%20%20%20%20%20%20%20%20%20popup_35df30c0c89b418299ef420c9fb0a9c6.setContent%28html_dae1461f45ac47c08ee930185b457f96%29%3B%0A%20%20%20%20%20%20%20%20%0A%0A%20%20%20%20%20%20%20%20marker_008d45b2bc0847f593bc63ff5e6ead3b.bindPopup%28popup_35df30c0c89b418299ef420c9fb0a9c6%29%0A%20%20%20%20%20%20%20%20%3B%0A%0A%20%20%20%20%20%20%20%20%0A%20%20%20%20%0A%20%20%20%20%0A%20%20%20%20%20%20%20%20%20%20%20%20var%20marker_b8c073aa34fb4b1bb2f9c5137b3d3254%20%3D%20L.marker%28%0A%20%20%20%20%20%20%20%20%20%20%20%20%20%20%20%20%5B43.146392999999996%2C%20-77.557139%5D%2C%0A%20%20%20%20%20%20%20%20%20%20%20%20%20%20%20%20%7B%7D%0A%20%20%20%20%20%20%20%20%20%20%20%20%29.addTo%28map_d4817acbd9954ed6a2046d3c6d777371%29%3B%0A%20%20%20%20%20%20%20%20%0A%20%20%20%20%0A%20%20%20%20%20%20%20%20var%20popup_f974b7422f9540a6b8dd42ce57a29314%20%3D%20L.popup%28%7B%22maxWidth%22%3A%20%22100%25%22%7D%29%3B%0A%0A%20%20%20%20%20%20%20%20%0A%20%20%20%20%20%20%20%20%20%20%20%20var%20html_3239368efa8c4b67bf243cc4cd8860ae%20%3D%20%24%28%60%3Cdiv%20id%3D%22html_3239368efa8c4b67bf243cc4cd8860ae%22%20style%3D%22width%3A%20100.0%25%3B%20height%3A%20100.0%25%3B%22%3EWEGMANS%3C/div%3E%60%29%5B0%5D%3B%0A%20%20%20%20%20%20%20%20%20%20%20%20popup_f974b7422f9540a6b8dd42ce57a29314.setContent%28html_3239368efa8c4b67bf243cc4cd8860ae%29%3B%0A%20%20%20%20%20%20%20%20%0A%0A%20%20%20%20%20%20%20%20marker_b8c073aa34fb4b1bb2f9c5137b3d3254.bindPopup%28popup_f974b7422f9540a6b8dd42ce57a29314%29%0A%20%20%20%20%20%20%20%20%3B%0A%0A%20%20%20%20%20%20%20%20%0A%20%20%20%20%0A%20%20%20%20%0A%20%20%20%20%20%20%20%20%20%20%20%20var%20marker_4b73de56348f4027bf9dfa09e2bf3a48%20%3D%20L.marker%28%0A%20%20%20%20%20%20%20%20%20%20%20%20%20%20%20%20%5B43.071375%2C%20-77.445876%5D%2C%0A%20%20%20%20%20%20%20%20%20%20%20%20%20%20%20%20%7B%7D%0A%20%20%20%20%20%20%20%20%20%20%20%20%29.addTo%28map_d4817acbd9954ed6a2046d3c6d777371%29%3B%0A%20%20%20%20%20%20%20%20%0A%20%20%20%20%0A%20%20%20%20%20%20%20%20var%20popup_c4c891a72a6046f38516cb94cc3d6dc3%20%3D%20L.popup%28%7B%22maxWidth%22%3A%20%22100%25%22%7D%29%3B%0A%0A%20%20%20%20%20%20%20%20%0A%20%20%20%20%20%20%20%20%20%20%20%20var%20html_f80d74a329344f5698578082446dc1d2%20%3D%20%24%28%60%3Cdiv%20id%3D%22html_f80d74a329344f5698578082446dc1d2%22%20style%3D%22width%3A%20100.0%25%3B%20height%3A%20100.0%25%3B%22%3EWEGMANS%3C/div%3E%60%29%5B0%5D%3B%0A%20%20%20%20%20%20%20%20%20%20%20%20popup_c4c891a72a6046f38516cb94cc3d6dc3.setContent%28html_f80d74a329344f5698578082446dc1d2%29%3B%0A%20%20%20%20%20%20%20%20%0A%0A%20%20%20%20%20%20%20%20marker_4b73de56348f4027bf9dfa09e2bf3a48.bindPopup%28popup_c4c891a72a6046f38516cb94cc3d6dc3%29%0A%20%20%20%20%20%20%20%20%3B%0A%0A%20%20%20%20%20%20%20%20%0A%20%20%20%20%0A%3C/script%3E onload=\"this.contentDocument.open();this.contentDocument.write(    decodeURIComponent(this.getAttribute('data-html')));this.contentDocument.close();\" allowfullscreen webkitallowfullscreen mozallowfullscreen></iframe></div></div>"
      ],
      "text/plain": [
       "<folium.folium.Map at 0x2868d7e90a0>"
      ]
     },
     "execution_count": 76,
     "metadata": {},
     "output_type": "execute_result"
    }
   ],
   "source": [
    "m = folium.Map(location=[43.191229,-77.5], zoom_start=11) #lattitude,longitude\n",
    "\n",
    "for latitude,longitude,storename in zip(df_info['latitude'],df_info['longitude'],df_info['storename']):\n",
    "    folium.Marker([latitude,longitude], popup= storename).add_to(m)\n",
    "m\n"
   ]
  },
  {
   "cell_type": "markdown",
   "metadata": {},
   "source": [
    "### Naive  EDA - Cities"
   ]
  },
  {
   "cell_type": "markdown",
   "metadata": {},
   "source": [
    "#### Which city made the most sales?"
   ]
  },
  {
   "cell_type": "code",
   "execution_count": 23,
   "metadata": {},
   "outputs": [
    {
     "data": {
      "text/plain": [
       "city\n",
       "EAST ROCHESTER        6214\n",
       "HENRIETTA            18319\n",
       "HONEOYE FALLS        53312\n",
       "SPENCERPORT          83386\n",
       "GREECE              162429\n",
       "FAIRPORT            173189\n",
       "NORTH CHILI         196724\n",
       "IRONDEQUOIT         292476\n",
       "PENFIELD            430325\n",
       "WEBSTER            1218467\n",
       "ROCHESTER         12685461\n",
       "Name: units_sold, dtype: int64"
      ]
     },
     "execution_count": 23,
     "metadata": {},
     "output_type": "execute_result"
    }
   ],
   "source": [
    "df_merged.groupby(['city'])['units_sold'].sum().sort_values()"
   ]
  },
  {
   "cell_type": "markdown",
   "metadata": {},
   "source": [
    "#### Which city made the most revenue?"
   ]
  },
  {
   "cell_type": "code",
   "execution_count": 24,
   "metadata": {},
   "outputs": [
    {
     "data": {
      "text/plain": [
       "city\n",
       "EAST ROCHESTER    5.294507e+04\n",
       "HENRIETTA         3.308428e+05\n",
       "HONEOYE FALLS     3.732388e+05\n",
       "SPENCERPORT       4.463536e+05\n",
       "NORTH CHILI       1.768509e+06\n",
       "FAIRPORT          2.426044e+06\n",
       "GREECE            2.573202e+06\n",
       "PENFIELD          3.648242e+06\n",
       "IRONDEQUOIT       4.261234e+06\n",
       "WEBSTER           1.676187e+07\n",
       "ROCHESTER         1.986792e+08\n",
       "Name: revenue_original, dtype: float64"
      ]
     },
     "execution_count": 24,
     "metadata": {},
     "output_type": "execute_result"
    }
   ],
   "source": [
    "#Gives total revenue per city.\n",
    "total_revenue_city_groups = df_merged.groupby(['city']).sum().sort_values(['revenue_original'], ascending = True)['revenue_original']\n",
    "\n",
    "total_revenue_city_groups"
   ]
  },
  {
   "cell_type": "code",
   "execution_count": 25,
   "metadata": {},
   "outputs": [
    {
     "data": {
      "text/plain": [
       "<AxesSubplot:title={'center':'Revenue per city'}, xlabel='city', ylabel='Total ($) '>"
      ]
     },
     "execution_count": 25,
     "metadata": {},
     "output_type": "execute_result"
    },
    {
     "data": {
      "image/png": "[encoded data removed]",
      "text/plain": [
       "<Figure size 432x288 with 1 Axes>"
      ]
     },
     "metadata": {
      "needs_background": "light"
     },
     "output_type": "display_data"
    }
   ],
   "source": [
    "total_revenue_city_groups.plot(kind = 'bar',\n",
    "                             color = 'red',\n",
    "                            ylabel = 'Total ($) ',\n",
    "                            title = 'Revenue per city'\n",
    "                              )"
   ]
  },
  {
   "cell_type": "markdown",
   "metadata": {},
   "source": [
    "#### Which city made the most revenue, per store?"
   ]
  },
  {
   "cell_type": "code",
   "execution_count": 26,
   "metadata": {},
   "outputs": [
    {
     "data": {
      "text/plain": [
       "city\n",
       "EAST ROCHESTER     1\n",
       "FAIRPORT           3\n",
       "GREECE             2\n",
       "HENRIETTA          1\n",
       "HONEOYE FALLS      1\n",
       "IRONDEQUOIT        2\n",
       "NORTH CHILI        2\n",
       "PENFIELD           3\n",
       "ROCHESTER         46\n",
       "SPENCERPORT        1\n",
       "WEBSTER            7\n",
       "Name: storenum, dtype: int64"
      ]
     },
     "execution_count": 26,
     "metadata": {},
     "output_type": "execute_result"
    }
   ],
   "source": [
    "# Gives number of stores per city.\n",
    "\n",
    "number_stores_city = df_info.groupby(['city']).count()['storenum']\n",
    "\n",
    "number_stores_city"
   ]
  },
  {
   "cell_type": "code",
   "execution_count": 27,
   "metadata": {},
   "outputs": [
    {
     "data": {
      "text/plain": [
       "city\n",
       "EAST ROCHESTER    5.294507e+04\n",
       "FAIRPORT          8.086814e+05\n",
       "GREECE            1.286601e+06\n",
       "HENRIETTA         3.308428e+05\n",
       "HONEOYE FALLS     3.732388e+05\n",
       "IRONDEQUOIT       2.130617e+06\n",
       "NORTH CHILI       8.842546e+05\n",
       "PENFIELD          1.216081e+06\n",
       "ROCHESTER         4.319113e+06\n",
       "SPENCERPORT       4.463536e+05\n",
       "WEBSTER           2.394552e+06\n",
       "dtype: float64"
      ]
     },
     "execution_count": 27,
     "metadata": {},
     "output_type": "execute_result"
    }
   ],
   "source": [
    "# Diviging total profit per city by number of stores in that city\n",
    "\n",
    "revenue_per_city = total_revenue_city_groups/number_stores_city\n",
    "revenue_per_city"
   ]
  },
  {
   "cell_type": "code",
   "execution_count": 28,
   "metadata": {},
   "outputs": [
    {
     "data": {
      "text/plain": [
       "<AxesSubplot:title={'center':'Average Revenue / City'}, xlabel='city', ylabel='Total ($) '>"
      ]
     },
     "execution_count": 28,
     "metadata": {},
     "output_type": "execute_result"
    },
    {
     "data": {
      "image/png": "[encoded data removed]",
      "text/plain": [
       "<Figure size 432x288 with 1 Axes>"
      ]
     },
     "metadata": {
      "needs_background": "light"
     },
     "output_type": "display_data"
    }
   ],
   "source": [
    "#Plotting average revenue/city\n",
    "\n",
    "revenue_per_city.sort_values().plot(kind = 'bar',\n",
    "                             color = 'red',\n",
    "                            ylabel = 'Total ($) ',\n",
    "                            title = 'Average Revenue / City')"
   ]
  },
  {
   "cell_type": "markdown",
   "metadata": {},
   "source": [
    "#### Which city made the most profit?"
   ]
  },
  {
   "cell_type": "code",
   "execution_count": 29,
   "metadata": {},
   "outputs": [
    {
     "data": {
      "text/plain": [
       "city\n",
       "EAST ROCHESTER       23819.74\n",
       "HENRIETTA           147168.46\n",
       "HONEOYE FALLS       165284.03\n",
       "SPENCERPORT         198562.52\n",
       "NORTH CHILI         786878.96\n",
       "GREECE              993381.01\n",
       "FAIRPORT           1421191.68\n",
       "PENFIELD           1625154.27\n",
       "IRONDEQUOIT        2203673.95\n",
       "WEBSTER            7688075.55\n",
       "ROCHESTER         88136969.28\n",
       "Name: profit, dtype: float64"
      ]
     },
     "execution_count": 29,
     "metadata": {},
     "output_type": "execute_result"
    }
   ],
   "source": [
    "total_profit_city_groups = df_merged.groupby(['city']).sum().sort_values(['profit'], ascending = True)['profit']\n",
    "\n",
    "total_profit_city_groups.sort_values()"
   ]
  },
  {
   "cell_type": "code",
   "execution_count": 30,
   "metadata": {},
   "outputs": [
    {
     "data": {
      "text/plain": [
       "<AxesSubplot:title={'center':'Profit per city'}, xlabel='city', ylabel='Total ($) '>"
      ]
     },
     "execution_count": 30,
     "metadata": {},
     "output_type": "execute_result"
    },
    {
     "data": {
      "image/png": "[encoded data removed]",
      "text/plain": [
       "<Figure size 432x288 with 1 Axes>"
      ]
     },
     "metadata": {
      "needs_background": "light"
     },
     "output_type": "display_data"
    }
   ],
   "source": [
    "total_profit_city_groups.plot(kind = 'bar',\n",
    "                             color = 'red',\n",
    "                            ylabel = 'Total ($) ',\n",
    "                            title = 'Profit per city')"
   ]
  },
  {
   "cell_type": "markdown",
   "metadata": {},
   "source": [
    "#### Which city made the most average profit?"
   ]
  },
  {
   "cell_type": "code",
   "execution_count": 31,
   "metadata": {},
   "outputs": [
    {
     "data": {
      "text/plain": [
       "city\n",
       "EAST ROCHESTER    2.381974e+04\n",
       "HENRIETTA         1.471685e+05\n",
       "HONEOYE FALLS     1.652840e+05\n",
       "SPENCERPORT       1.985625e+05\n",
       "NORTH CHILI       3.934395e+05\n",
       "FAIRPORT          4.737306e+05\n",
       "GREECE            4.966905e+05\n",
       "PENFIELD          5.417181e+05\n",
       "WEBSTER           1.098297e+06\n",
       "IRONDEQUOIT       1.101837e+06\n",
       "ROCHESTER         1.916021e+06\n",
       "dtype: float64"
      ]
     },
     "execution_count": 31,
     "metadata": {},
     "output_type": "execute_result"
    }
   ],
   "source": [
    "profit_per_city = total_profit_city_groups/number_stores_city\n",
    "profit_per_city.sort_values()"
   ]
  },
  {
   "cell_type": "code",
   "execution_count": 32,
   "metadata": {},
   "outputs": [
    {
     "data": {
      "text/plain": [
       "<AxesSubplot:title={'center':'Average Profit/ City'}, xlabel='city', ylabel='Total ($) '>"
      ]
     },
     "execution_count": 32,
     "metadata": {},
     "output_type": "execute_result"
    },
    {
     "data": {
      "image/png": "[encoded data removed]",
      "text/plain": [
       "<Figure size 432x288 with 1 Axes>"
      ]
     },
     "metadata": {
      "needs_background": "light"
     },
     "output_type": "display_data"
    }
   ],
   "source": [
    "profit_per_city.sort_values().plot(kind = 'bar',\n",
    "                             color = 'red',\n",
    "                            ylabel = 'Total ($) ',\n",
    "                            title = 'Average Profit/ City')"
   ]
  },
  {
   "cell_type": "markdown",
   "metadata": {},
   "source": [
    "### Naive  EDA - Products"
   ]
  },
  {
   "cell_type": "markdown",
   "metadata": {},
   "source": [
    "#### Which products were sold the most?"
   ]
  },
  {
   "cell_type": "code",
   "execution_count": 33,
   "metadata": {},
   "outputs": [
    {
     "data": {
      "text/plain": [
       "itemnum\n",
       "87471          1\n",
       "916908         1\n",
       "967346         1\n",
       "902021         1\n",
       "916809         1\n",
       "           ...  \n",
       "36903     229625\n",
       "37347     259822\n",
       "43337     286507\n",
       "89387     312512\n",
       "64870     669129\n",
       "Name: units_sold, Length: 5537, dtype: int64"
      ]
     },
     "execution_count": 33,
     "metadata": {},
     "output_type": "execute_result"
    }
   ],
   "source": [
    "_sold_products = df_merged.groupby(['itemnum'])['units_sold'].sum().sort_values()\n",
    "\n",
    "_sold_products"
   ]
  },
  {
   "cell_type": "markdown",
   "metadata": {},
   "source": [
    "#### Which products made the most revenue?"
   ]
  },
  {
   "cell_type": "code",
   "execution_count": 34,
   "metadata": {},
   "outputs": [
    {
     "data": {
      "text/plain": [
       "itemnum\n",
       "89589           6.19\n",
       "992001          8.41\n",
       "68800          10.15\n",
       "100794         10.65\n",
       "39669          10.66\n",
       "             ...    \n",
       "88296     4281085.31\n",
       "38177     4435254.48\n",
       "26827     5065575.17\n",
       "11297     5338010.07\n",
       "43337     5932849.25\n",
       "Name: revenue_original, Length: 5537, dtype: float64"
      ]
     },
     "execution_count": 34,
     "metadata": {},
     "output_type": "execute_result"
    }
   ],
   "source": [
    "_revenue_products = df_merged.groupby(['itemnum'])['revenue_original'].sum().sort_values()\n",
    "\n",
    "_revenue_products"
   ]
  },
  {
   "cell_type": "markdown",
   "metadata": {},
   "source": [
    "#### Which products made the most profit?"
   ]
  },
  {
   "cell_type": "code",
   "execution_count": 35,
   "metadata": {
    "scrolled": false
   },
   "outputs": [
    {
     "data": {
      "text/plain": [
       "itemnum\n",
       "992001      -5029.91\n",
       "101181      -3728.53\n",
       "12865       -1703.22\n",
       "37095        -960.23\n",
       "24890        -923.19\n",
       "             ...    \n",
       "88296     1886689.55\n",
       "38177     2002026.87\n",
       "26827     2226859.60\n",
       "11297     2382710.09\n",
       "43337     2585506.00\n",
       "Name: profit, Length: 5537, dtype: float64"
      ]
     },
     "execution_count": 35,
     "metadata": {},
     "output_type": "execute_result"
    }
   ],
   "source": [
    "_profit_products = df_merged.groupby(['itemnum'])['profit'].sum().sort_values()\n",
    "\n",
    "_profit_products"
   ]
  },
  {
   "cell_type": "markdown",
   "metadata": {},
   "source": [
    "#### Possible product stack"
   ]
  },
  {
   "cell_type": "code",
   "execution_count": 36,
   "metadata": {},
   "outputs": [],
   "source": [
    "# Initializing top 500 products.\n",
    "\n",
    "top_sold = set(_sold_products.tail(500).index)\n",
    "top_revenue = set(_revenue_products.tail(500).index)\n",
    "top_profit = set(_profit_products.tail(500).index)"
   ]
  },
  {
   "cell_type": "code",
   "execution_count": 37,
   "metadata": {},
   "outputs": [],
   "source": [
    "#Finding intersections to see which to prioritize\n",
    "\n",
    "sold_revenue_intersection = top_sold & top_revenue\n",
    "\n",
    "sold_profit_intersection = top_sold & top_profit\n",
    "\n",
    "revenue_profit_intersection = top_revenue & top_profit\n",
    "\n",
    "all_intersection = top_revenue & top_profit & top_sold"
   ]
  },
  {
   "cell_type": "markdown",
   "metadata": {},
   "source": [
    "#### Most popular product category"
   ]
  },
  {
   "cell_type": "code",
   "execution_count": 38,
   "metadata": {},
   "outputs": [
    {
     "data": {
      "text/plain": [
       "<AxesSubplot:title={'center':'Most popular product category'}, xlabel='itemcategory'>"
      ]
     },
     "execution_count": 38,
     "metadata": {},
     "output_type": "execute_result"
    },
    {
     "data": {
      "image/png": "[encoded data removed]",
      "text/plain": [
       "<Figure size 432x288 with 1 Axes>"
      ]
     },
     "metadata": {
      "needs_background": "light"
     },
     "output_type": "display_data"
    }
   ],
   "source": [
    "df_merged.groupby(['itemcategory']).sum().sort_values('units_sold')\\\n",
    "['units_sold'].plot(kind = 'bar', color = 'red', title = 'Most popular product category')"
   ]
  },
  {
   "cell_type": "code",
   "execution_count": null,
   "metadata": {},
   "outputs": [],
   "source": []
  },
  {
   "cell_type": "markdown",
   "metadata": {},
   "source": [
    "### Naive  EDA  - Time"
   ]
  },
  {
   "cell_type": "markdown",
   "metadata": {},
   "source": [
    "#### When did the most sales occur?"
   ]
  },
  {
   "cell_type": "code",
   "execution_count": 39,
   "metadata": {},
   "outputs": [
    {
     "data": {
      "text/plain": [
       "<AxesSubplot:title={'center':'Totale sales over time'}, xlabel='date'>"
      ]
     },
     "execution_count": 39,
     "metadata": {},
     "output_type": "execute_result"
    },
    {
     "data": {
      "image/png": "[encoded data removed]",
      "text/plain": [
       "<Figure size 1080x360 with 1 Axes>"
      ]
     },
     "metadata": {
      "needs_background": "light"
     },
     "output_type": "display_data"
    }
   ],
   "source": [
    "#Seems to me there is nothing of note here.\n",
    "\n",
    "df_merged.groupby(['date']).sum().sort_values(by = 'date')\\\n",
    "['units_sold'].plot(figsize = (15,5), color = 'red', grid = True,\n",
    "                   title = 'Totale sales over time')"
   ]
  },
  {
   "cell_type": "markdown",
   "metadata": {},
   "source": [
    "### Naive  EDA  - Zipcode"
   ]
  },
  {
   "cell_type": "markdown",
   "metadata": {},
   "source": [
    "#### Most profitible zipcode"
   ]
  },
  {
   "cell_type": "code",
   "execution_count": 40,
   "metadata": {},
   "outputs": [
    {
     "data": {
      "text/plain": [
       "zipcode\n",
       "14445     23819.74\n",
       "14611     97036.78\n",
       "14610    110241.02\n",
       "14467    147168.46\n",
       "14472    165284.03\n",
       "14625    181099.08\n",
       "14559    198562.52\n",
       "14609    214917.73\n",
       "14619    264752.10\n",
       "14612    307257.82\n",
       "Name: profit, dtype: float64"
      ]
     },
     "execution_count": 40,
     "metadata": {},
     "output_type": "execute_result"
    }
   ],
   "source": [
    "total_profit_zipcode_groups = df_merged.groupby(['zipcode']).sum().sort_values(['profit'], ascending = True)['profit']\n",
    "\n",
    "total_profit_zipcode_groups.sort_values().head(10)"
   ]
  },
  {
   "cell_type": "code",
   "execution_count": 41,
   "metadata": {},
   "outputs": [
    {
     "data": {
      "text/plain": [
       "<AxesSubplot:title={'center':'Profit per zipcode'}, xlabel='zipcode', ylabel='Total ($) '>"
      ]
     },
     "execution_count": 41,
     "metadata": {},
     "output_type": "execute_result"
    },
    {
     "data": {
      "image/png": "[encoded data removed]",
      "text/plain": [
       "<Figure size 432x288 with 1 Axes>"
      ]
     },
     "metadata": {
      "needs_background": "light"
     },
     "output_type": "display_data"
    }
   ],
   "source": [
    "total_profit_zipcode_groups.plot(kind = 'bar',\n",
    "                             color = 'red',\n",
    "                            ylabel = 'Total ($) ',\n",
    "                            title = 'Profit per zipcode')"
   ]
  },
  {
   "cell_type": "markdown",
   "metadata": {},
   "source": [
    "#### Average profit per zipcode"
   ]
  },
  {
   "cell_type": "code",
   "execution_count": 42,
   "metadata": {},
   "outputs": [
    {
     "data": {
      "text/plain": [
       "zipcode\n",
       "14445    1\n",
       "14450    3\n",
       "14467    1\n",
       "14472    1\n",
       "14514    2\n",
       "14526    3\n",
       "14559    1\n",
       "14580    7\n",
       "14606    4\n",
       "14607    2\n",
       "Name: storenum, dtype: int64"
      ]
     },
     "execution_count": 42,
     "metadata": {},
     "output_type": "execute_result"
    }
   ],
   "source": [
    "number_stores_zipcode = df_info.groupby(['zipcode']).count()['storenum']\n",
    "\n",
    "number_stores_zipcode.head(10)"
   ]
  },
  {
   "cell_type": "code",
   "execution_count": 43,
   "metadata": {},
   "outputs": [
    {
     "data": {
      "text/plain": [
       "zipcode\n",
       "14450    4.737306e+05\n",
       "14526    5.417181e+05\n",
       "14617    7.012704e+05\n",
       "14580    1.098297e+06\n",
       "14606    1.264831e+06\n",
       "14623    1.396503e+06\n",
       "14622    1.844672e+06\n",
       "14626    1.980266e+06\n",
       "14616    2.888253e+06\n",
       "14618    1.615876e+07\n",
       "dtype: float64"
      ]
     },
     "execution_count": 43,
     "metadata": {},
     "output_type": "execute_result"
    }
   ],
   "source": [
    "profit_per_zipcode = total_profit_zipcode_groups/number_stores_zipcode\n",
    "profit_per_zipcode.sort_values().tail(10)"
   ]
  },
  {
   "cell_type": "code",
   "execution_count": 44,
   "metadata": {},
   "outputs": [
    {
     "data": {
      "text/plain": [
       "<AxesSubplot:title={'center':'Average Profit/ Zipcode'}, xlabel='zipcode', ylabel='Total ($) '>"
      ]
     },
     "execution_count": 44,
     "metadata": {},
     "output_type": "execute_result"
    },
    {
     "data": {
      "image/png": "[encoded data removed]",
      "text/plain": [
       "<Figure size 432x288 with 1 Axes>"
      ]
     },
     "metadata": {
      "needs_background": "light"
     },
     "output_type": "display_data"
    }
   ],
   "source": [
    "profit_per_zipcode.sort_values().plot(kind = 'bar',\n",
    "                             color = 'red',\n",
    "                            ylabel = 'Total ($) ',\n",
    "                            title = 'Average Profit/ Zipcode')"
   ]
  },
  {
   "cell_type": "markdown",
   "metadata": {},
   "source": [
    "#### Choropleth map"
   ]
  },
  {
   "cell_type": "code",
   "execution_count": 50,
   "metadata": {},
   "outputs": [],
   "source": []
  },
  {
   "cell_type": "markdown",
   "metadata": {},
   "source": [
    "### Naive  EDA  -  Stores"
   ]
  },
  {
   "cell_type": "markdown",
   "metadata": {},
   "source": [
    "#### Most profitible stores"
   ]
  },
  {
   "cell_type": "code",
   "execution_count": 45,
   "metadata": {},
   "outputs": [
    {
     "data": {
      "text/plain": [
       "storename\n",
       "CVS - 653          7083.03\n",
       "RITE AID - 621     8819.08\n",
       "CVS - 831         24445.47\n",
       "RITE AID - 623    34914.47\n",
       "RITE AID - 629    51987.58\n",
       "Name: profit, dtype: float64"
      ]
     },
     "execution_count": 45,
     "metadata": {},
     "output_type": "execute_result"
    }
   ],
   "source": [
    "total_profit_store_groups = df_merged.groupby(['storename']).sum().sort_values(['profit'], ascending = True)['profit']\n",
    "\n",
    "total_profit_store_groups.sort_values().head()"
   ]
  },
  {
   "cell_type": "code",
   "execution_count": 46,
   "metadata": {},
   "outputs": [
    {
     "data": {
      "text/plain": [
       "<AxesSubplot:title={'center':'Profit / Store'}, xlabel='storename', ylabel='Total ($) '>"
      ]
     },
     "execution_count": 46,
     "metadata": {},
     "output_type": "execute_result"
    },
    {
     "data": {
      "image/png": "[encoded data removed]",
      "text/plain": [
       "<Figure size 432x288 with 1 Axes>"
      ]
     },
     "metadata": {
      "needs_background": "light"
     },
     "output_type": "display_data"
    }
   ],
   "source": [
    "total_profit_store_groups.sort_values().plot(kind = 'bar',\n",
    "                             color = 'red',\n",
    "                            ylabel = 'Total ($) ',\n",
    "                            title = 'Profit / Store')"
   ]
  },
  {
   "cell_type": "markdown",
   "metadata": {},
   "source": [
    "#### Average profit per store"
   ]
  },
  {
   "cell_type": "code",
   "execution_count": 47,
   "metadata": {},
   "outputs": [
    {
     "data": {
      "text/plain": [
       "storename\n",
       "CVS - 831            1\n",
       "RITE AID - 10850     1\n",
       "RITE AID - 1619      1\n",
       "RITE AID - 1722      1\n",
       "RITE AID - 1827      1\n",
       "RITE AID - 189       1\n",
       "RITE AID - 2464      1\n",
       "RITE AID - 4894      1\n",
       "TARGET               6\n",
       "WEGMANS             17\n",
       "Name: storenum, dtype: int64"
      ]
     },
     "execution_count": 47,
     "metadata": {},
     "output_type": "execute_result"
    }
   ],
   "source": [
    "number_stores = df_info.groupby(['storename']).count()['storenum']\n",
    "\n",
    "number_stores.sort_values().tail(10)"
   ]
  },
  {
   "cell_type": "code",
   "execution_count": 48,
   "metadata": {},
   "outputs": [
    {
     "data": {
      "text/plain": [
       "storename\n",
       "WALGREENS - 9584               4.653579e+05\n",
       "WALGREENS - 9758               5.204847e+05\n",
       "WAL-MART SUPERCENTER - 3280    5.962654e+05\n",
       "WAL-MART - 1744                6.676577e+05\n",
       "WAL-MART - 1610                6.989474e+05\n",
       "WALGREENS - 9585               7.623609e+05\n",
       "WAL-MART SUPERCENTER - 2859    1.002671e+06\n",
       "TARGET                         1.045015e+06\n",
       "WAL-MART SUPERCENTER - 1619    1.153745e+06\n",
       "WEGMANS                        4.912098e+06\n",
       "dtype: float64"
      ]
     },
     "execution_count": 48,
     "metadata": {},
     "output_type": "execute_result"
    }
   ],
   "source": [
    "profit_per_store = total_profit_store_groups/number_stores\n",
    "profit_per_store.sort_values().tail(10)"
   ]
  },
  {
   "cell_type": "code",
   "execution_count": 49,
   "metadata": {},
   "outputs": [
    {
     "data": {
      "text/plain": [
       "<AxesSubplot:title={'center':'Average profit / Store'}, xlabel='storename', ylabel='Total ($) '>"
      ]
     },
     "execution_count": 49,
     "metadata": {},
     "output_type": "execute_result"
    },
    {
     "data": {
      "image/png": "[encoded data removed]",
      "text/plain": [
       "<Figure size 432x288 with 1 Axes>"
      ]
     },
     "metadata": {
      "needs_background": "light"
     },
     "output_type": "display_data"
    }
   ],
   "source": [
    "profit_per_store.sort_values().plot(kind = 'bar',\n",
    "                             color = 'red',\n",
    "                            ylabel = 'Total ($) ',\n",
    "                            title = 'Average profit / Store')"
   ]
  },
  {
   "cell_type": "code",
   "execution_count": null,
   "metadata": {},
   "outputs": [],
   "source": []
  }
 ],
 "metadata": {
  "kernelspec": {
   "display_name": "Python 3",
   "language": "python",
   "name": "python3"
  },
  "language_info": {
   "codemirror_mode": {
    "name": "ipython",
    "version": 3
   },
   "file_extension": ".py",
   "mimetype": "text/x-python",
   "name": "python",
   "nbconvert_exporter": "python",
   "pygments_lexer": "ipython3",
   "version": "3.8.5"
  }
 },
 "nbformat": 4,
 "nbformat_minor": 4
}
